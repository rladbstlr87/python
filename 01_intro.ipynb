{
 "cells": [
  {
   "cell_type": "markdown",
   "id": "210cc5e6-0d67-4c7b-b919-6015c30bc6f8",
   "metadata": {
    "jp-MarkdownHeadingCollapsed": true
   },
   "source": [
    "# 01.intro\n",
    "\n",
    "## win shortcut\n",
    "\n",
    "- ctrl + enter : 현재 셀 실행\n",
    "- shift + enter : 현재 셀 실행 & 아래로 이동\n",
    "- alt + enter : 현재 셀 실행 & 새로운 셀 만들며 이동\n",
    "\n",
    "## mac shortcut\n",
    "\n",
    "- command + enter : 현재 셀 실행\n",
    "- shift + enter : 현재 셀 실행 & 아래로 이동\n",
    "- option + enter : 현재 셀 실행 & 새로운 셀 만들며 이동\n",
    "  "
   ]
  },
  {
   "cell_type": "markdown",
   "id": "cd7b1596-bf88-49a0-8a72-fe084a0ea5d1",
   "metadata": {},
   "source": [
    "## 주의사항\n",
    "\n",
    "1. Apple/apple\n",
    "2. git add. / git add .\n",
    "3. message / massage"
   ]
  },
  {
   "cell_type": "markdown",
   "id": "823bf012-d3ef-460d-82dc-0a41583b454a",
   "metadata": {
    "jp-MarkdownHeadingCollapsed": true
   },
   "source": [
    "# 01. 변수\n",
    "\n",
    "```\n",
    "var_name = value\n",
    "A = B : B를 A에 넣는다\n",
    "```\n",
    "- 변수 이름은 어떤 이름이든 사용 가능하나 영어, 숫자, _ 로만 써보자\n",
    "- 키워드는 불가능"
   ]
  },
  {
   "cell_type": "code",
   "execution_count": 9,
   "id": "90e711e9-e800-4fdb-b5c3-86a99881e361",
   "metadata": {},
   "outputs": [],
   "source": [
    "a = 100"
   ]
  },
  {
   "cell_type": "code",
   "execution_count": 10,
   "id": "1a4ef45d-4fd3-4229-baa0-f4f81a410417",
   "metadata": {},
   "outputs": [
    {
     "data": {
      "text/plain": [
       "100"
      ]
     },
     "execution_count": 10,
     "metadata": {},
     "output_type": "execute_result"
    }
   ],
   "source": [
    "a"
   ]
  },
  {
   "cell_type": "code",
   "execution_count": 11,
   "id": "7d56c1a7-57de-459c-b716-9d4033a7bf86",
   "metadata": {},
   "outputs": [
    {
     "data": {
      "text/plain": [
       "['False',\n",
       " 'None',\n",
       " 'True',\n",
       " 'and',\n",
       " 'as',\n",
       " 'assert',\n",
       " 'async',\n",
       " 'await',\n",
       " 'break',\n",
       " 'class',\n",
       " 'continue',\n",
       " 'def',\n",
       " 'del',\n",
       " 'elif',\n",
       " 'else',\n",
       " 'except',\n",
       " 'finally',\n",
       " 'for',\n",
       " 'from',\n",
       " 'global',\n",
       " 'if',\n",
       " 'import',\n",
       " 'in',\n",
       " 'is',\n",
       " 'lambda',\n",
       " 'nonlocal',\n",
       " 'not',\n",
       " 'or',\n",
       " 'pass',\n",
       " 'raise',\n",
       " 'return',\n",
       " 'try',\n",
       " 'while',\n",
       " 'with',\n",
       " 'yield']"
      ]
     },
     "execution_count": 11,
     "metadata": {},
     "output_type": "execute_result"
    }
   ],
   "source": [
    "import keyword\n",
    "keyword.kwlist"
   ]
  },
  {
   "cell_type": "markdown",
   "id": "75418786-f8d4-4ecf-bbf9-dcdd915bd003",
   "metadata": {},
   "source": [
    "## 1.1 number"
   ]
  },
  {
   "cell_type": "code",
   "execution_count": 12,
   "id": "78650cd8-15c8-4e2f-95ec-202ca199bf96",
   "metadata": {},
   "outputs": [],
   "source": [
    "a = 10000"
   ]
  },
  {
   "cell_type": "code",
   "execution_count": 13,
   "id": "e6ae7290-e1a5-45cc-8f7d-4c9e663eb4ec",
   "metadata": {},
   "outputs": [
    {
     "data": {
      "text/plain": [
       "10000"
      ]
     },
     "execution_count": 13,
     "metadata": {},
     "output_type": "execute_result"
    }
   ],
   "source": [
    "a"
   ]
  },
  {
   "cell_type": "markdown",
   "id": "80f9ffab-d5ff-43ea-9468-87b934916f3c",
   "metadata": {},
   "source": [
    "- 아까 선언한 a에 덮어쓰기 되었습니다"
   ]
  },
  {
   "cell_type": "code",
   "execution_count": 14,
   "id": "94840a07-9c2d-4b83-a1b9-14796b62db9c",
   "metadata": {},
   "outputs": [
    {
     "data": {
      "text/plain": [
       "int"
      ]
     },
     "execution_count": 14,
     "metadata": {},
     "output_type": "execute_result"
    }
   ],
   "source": [
    "type(a)"
   ]
  },
  {
   "cell_type": "code",
   "execution_count": 15,
   "id": "6f9c66ab-1f4e-4bed-89cc-262ee0763120",
   "metadata": {},
   "outputs": [],
   "source": [
    "b = 1.1"
   ]
  },
  {
   "cell_type": "code",
   "execution_count": 16,
   "id": "fb00506f-c116-41cf-9057-54bb93910995",
   "metadata": {},
   "outputs": [
    {
     "data": {
      "text/plain": [
       "1.1"
      ]
     },
     "execution_count": 16,
     "metadata": {},
     "output_type": "execute_result"
    }
   ],
   "source": [
    "b"
   ]
  },
  {
   "cell_type": "code",
   "execution_count": 17,
   "id": "d59d4e9f-a664-4190-9357-da52400736d7",
   "metadata": {},
   "outputs": [
    {
     "data": {
      "text/plain": [
       "float"
      ]
     },
     "execution_count": 17,
     "metadata": {},
     "output_type": "execute_result"
    }
   ],
   "source": [
    "type(b)"
   ]
  },
  {
   "cell_type": "code",
   "execution_count": 18,
   "id": "b176378e-69b0-417d-bf50-6d4e6936424e",
   "metadata": {},
   "outputs": [],
   "source": [
    "c = 1 + 1j"
   ]
  },
  {
   "cell_type": "code",
   "execution_count": 19,
   "id": "745d6256-3561-4b0b-8ce9-ab424399f01f",
   "metadata": {},
   "outputs": [
    {
     "data": {
      "text/plain": [
       "(1+1j)"
      ]
     },
     "execution_count": 19,
     "metadata": {},
     "output_type": "execute_result"
    }
   ],
   "source": [
    "c"
   ]
  },
  {
   "cell_type": "code",
   "execution_count": 20,
   "id": "d3717516-2078-4b6a-9cbe-ec6e9d03abb7",
   "metadata": {},
   "outputs": [
    {
     "data": {
      "text/plain": [
       "complex"
      ]
     },
     "execution_count": 20,
     "metadata": {},
     "output_type": "execute_result"
    }
   ],
   "source": [
    "type(c)"
   ]
  },
  {
   "cell_type": "code",
   "execution_count": null,
   "id": "727d33de",
   "metadata": {},
   "outputs": [],
   "source": []
  },
  {
   "cell_type": "markdown",
   "id": "57996419-55b2-455c-a30d-5d47326048a0",
   "metadata": {},
   "source": [
    "## 1.2 boolean"
   ]
  },
  {
   "cell_type": "code",
   "execution_count": 22,
   "id": "10f0039b-56ff-4d6c-8c17-601f99712273",
   "metadata": {},
   "outputs": [],
   "source": [
    "a = True"
   ]
  },
  {
   "cell_type": "code",
   "execution_count": 23,
   "id": "e646e28c-0692-4da4-96f7-f19cb96f52a7",
   "metadata": {},
   "outputs": [
    {
     "data": {
      "text/plain": [
       "True"
      ]
     },
     "execution_count": 23,
     "metadata": {},
     "output_type": "execute_result"
    }
   ],
   "source": [
    "a"
   ]
  },
  {
   "cell_type": "code",
   "execution_count": 24,
   "id": "084653cd-d525-49eb-86dc-8593a24b45e8",
   "metadata": {},
   "outputs": [
    {
     "data": {
      "text/plain": [
       "bool"
      ]
     },
     "execution_count": 24,
     "metadata": {},
     "output_type": "execute_result"
    }
   ],
   "source": [
    "type(a)"
   ]
  },
  {
   "cell_type": "code",
   "execution_count": 25,
   "id": "6c16e61d-4233-48a7-8ad7-a5ace604ddb1",
   "metadata": {},
   "outputs": [],
   "source": [
    "b = False"
   ]
  },
  {
   "cell_type": "code",
   "execution_count": 26,
   "id": "c97a9388-1f90-4a67-bdbe-7beed9cb3d0a",
   "metadata": {},
   "outputs": [
    {
     "data": {
      "text/plain": [
       "False"
      ]
     },
     "execution_count": 26,
     "metadata": {},
     "output_type": "execute_result"
    }
   ],
   "source": [
    "b"
   ]
  },
  {
   "cell_type": "markdown",
   "id": "b922ea31-d7a1-4277-8089-334f3a2bf843",
   "metadata": {
    "jp-MarkdownHeadingCollapsed": true
   },
   "source": [
    "## 1.3 string\n",
    "- 문자열을 뜻하며 `'`, `\"`를 이용하여 표현"
   ]
  },
  {
   "cell_type": "code",
   "execution_count": 27,
   "id": "9b626358-1067-4ce8-9279-cceb352abe19",
   "metadata": {},
   "outputs": [],
   "source": [
    "a = 'hello'"
   ]
  },
  {
   "cell_type": "code",
   "execution_count": 28,
   "id": "e32ae477-33f8-4538-ac43-25009721cd68",
   "metadata": {},
   "outputs": [],
   "source": [
    "b = \"hi\""
   ]
  },
  {
   "cell_type": "code",
   "execution_count": 29,
   "id": "88ecdb41-daa8-4f88-8a18-10efc9b0399d",
   "metadata": {},
   "outputs": [
    {
     "data": {
      "text/plain": [
       "'hello'"
      ]
     },
     "execution_count": 29,
     "metadata": {},
     "output_type": "execute_result"
    }
   ],
   "source": [
    "a"
   ]
  },
  {
   "cell_type": "code",
   "execution_count": 30,
   "id": "fd2b9947-5752-41dd-bae7-63ba498e5e2d",
   "metadata": {},
   "outputs": [
    {
     "data": {
      "text/plain": [
       "'hi'"
      ]
     },
     "execution_count": 30,
     "metadata": {},
     "output_type": "execute_result"
    }
   ],
   "source": [
    "b"
   ]
  },
  {
   "cell_type": "code",
   "execution_count": 31,
   "id": "7fe2f67b-25d3-4ff1-8e38-53b41b718b94",
   "metadata": {},
   "outputs": [
    {
     "name": "stdout",
     "output_type": "stream",
     "text": [
      "hello my name is \"dbstlr\"\n"
     ]
    }
   ],
   "source": [
    "print('hello my name is \"dbstlr\"')"
   ]
  },
  {
   "cell_type": "code",
   "execution_count": 40,
   "id": "e1492a15-6ad5-4a7f-8405-867dc5968a20",
   "metadata": {},
   "outputs": [
    {
     "name": "stdout",
     "output_type": "stream",
     "text": [
      "hello my name is 'dbstlr'\n"
     ]
    }
   ],
   "source": [
    "print(\"hello my name is 'dbstlr'\")"
   ]
  },
  {
   "cell_type": "code",
   "execution_count": 36,
   "id": "fd1494c3-c3e8-43a9-bb65-bd00d32f5014",
   "metadata": {},
   "outputs": [
    {
     "name": "stdout",
     "output_type": "stream",
     "text": [
      "hi\n",
      " my name is 'dbstlr'\n"
     ]
    }
   ],
   "source": [
    "print('hi\\n my name is \\'dbstlr\\'')"
   ]
  },
  {
   "cell_type": "code",
   "execution_count": 38,
   "id": "ab02dcef-9a76-4f10-bc9a-3f554604cbc6",
   "metadata": {},
   "outputs": [],
   "source": [
    "a = '''\n",
    "hello\n",
    "world\n",
    "hi\n",
    "'''"
   ]
  },
  {
   "cell_type": "code",
   "execution_count": 41,
   "id": "35a55f43-642b-4692-af9f-42a7401a5705",
   "metadata": {},
   "outputs": [
    {
     "data": {
      "text/plain": [
       "'\\nhello\\nworld\\nhi\\n'"
      ]
     },
     "execution_count": 41,
     "metadata": {},
     "output_type": "execute_result"
    }
   ],
   "source": [
    "a"
   ]
  },
  {
   "cell_type": "code",
   "execution_count": 42,
   "id": "3d08e47a-5013-4859-91e6-46ce29358052",
   "metadata": {},
   "outputs": [],
   "source": [
    "n = 10\n",
    "b = '홍길동은 n살입니다'"
   ]
  },
  {
   "cell_type": "markdown",
   "id": "cab07078-b90c-4f3b-a857-5aec881db0d7",
   "metadata": {
    "jp-MarkdownHeadingCollapsed": true
   },
   "source": [
    "### string interpolation\n",
    "\n",
    "- %-formatting\n",
    "- str.format()\n",
    "- f-string"
   ]
  },
  {
   "cell_type": "code",
   "execution_count": 43,
   "id": "ef76b91a-1f06-40c3-9634-cda0c51eb64b",
   "metadata": {},
   "outputs": [],
   "source": [
    "age = 10"
   ]
  },
  {
   "cell_type": "code",
   "execution_count": 45,
   "id": "b7c125db-3c99-44e0-859d-942c3b6bce79",
   "metadata": {},
   "outputs": [
    {
     "name": "stdout",
     "output_type": "stream",
     "text": [
      "홍길동은 10살입니다\n"
     ]
    }
   ],
   "source": [
    "print('홍길동은 %s살입니다' % age)"
   ]
  },
  {
   "cell_type": "code",
   "execution_count": 51,
   "id": "ff855539-ac91-48d3-8ee7-67c74a2f1035",
   "metadata": {},
   "outputs": [
    {
     "name": "stdout",
     "output_type": "stream",
     "text": [
      "홍길동은 10살입니다\n"
     ]
    }
   ],
   "source": [
    "print('홍길동은 {}살입니다'.format(age))"
   ]
  },
  {
   "cell_type": "code",
   "execution_count": 53,
   "id": "44ea3235-60b9-457f-9b52-e4642260384a",
   "metadata": {},
   "outputs": [
    {
     "name": "stdout",
     "output_type": "stream",
     "text": [
      "홍길동은 10살입니다\n"
     ]
    }
   ],
   "source": [
    "print(f'홍길동은 {age}살입니다')"
   ]
  },
  {
   "cell_type": "markdown",
   "id": "97dfd525-a265-40c6-baec-cfb6f142acc8",
   "metadata": {},
   "source": [
    "# 02. 연산자"
   ]
  },
  {
   "cell_type": "markdown",
   "id": "523d4b9b-d49f-4c24-973e-bf55ca8e2b92",
   "metadata": {
    "jp-MarkdownHeadingCollapsed": true
   },
   "source": [
    "## 2.1 산술연산자"
   ]
  },
  {
   "cell_type": "code",
   "execution_count": 65,
   "id": "29b0e0fc-4db3-47b3-a68b-b0634f4f65a4",
   "metadata": {},
   "outputs": [],
   "source": [
    "a = 5\n",
    "b = 2"
   ]
  },
  {
   "cell_type": "code",
   "execution_count": 66,
   "id": "e8baaf3a-4793-45d8-ba04-c744fd8d6223",
   "metadata": {},
   "outputs": [
    {
     "name": "stdout",
     "output_type": "stream",
     "text": [
      "7\n",
      "3\n",
      "10\n",
      "2.5\n"
     ]
    }
   ],
   "source": [
    "print(a + b)\n",
    "print(a - b)\n",
    "print(a * b)\n",
    "print(a / b)"
   ]
  },
  {
   "cell_type": "code",
   "execution_count": 67,
   "id": "504b18a6-db6c-4125-8486-95caaaec6136",
   "metadata": {},
   "outputs": [
    {
     "name": "stdout",
     "output_type": "stream",
     "text": [
      "25\n",
      "2\n",
      "1\n"
     ]
    }
   ],
   "source": [
    "print(a ** b)\n",
    "print(a // b) # 몫만 표시\n",
    "print(a % b) # 몫이 아닌 나머지를 표시"
   ]
  },
  {
   "cell_type": "code",
   "execution_count": 69,
   "id": "3a5bc763-6b09-4b6d-9d44-9d2252426717",
   "metadata": {},
   "outputs": [
    {
     "name": "stdout",
     "output_type": "stream",
     "text": [
      "(2, 1)\n"
     ]
    }
   ],
   "source": [
    "result = divmod(a, b) # a를 b로 나눔\n",
    "print(result) # 튜플"
   ]
  },
  {
   "cell_type": "markdown",
   "id": "09812edc-dbaf-4d79-b803-d4676053a3e5",
   "metadata": {
    "jp-MarkdownHeadingCollapsed": true
   },
   "source": [
    "## 2.2 비교연산자(>, <, ==, !=...)"
   ]
  },
  {
   "cell_type": "code",
   "execution_count": 112,
   "id": "311d10eb-5c2a-4c48-b95f-7acd2e5a123e",
   "metadata": {},
   "outputs": [],
   "source": [
    "a = 5\n",
    "b = 10"
   ]
  },
  {
   "cell_type": "code",
   "execution_count": 77,
   "id": "13228014-0766-49be-b612-ccb047914942",
   "metadata": {},
   "outputs": [
    {
     "name": "stdout",
     "output_type": "stream",
     "text": [
      "False\n",
      "True\n",
      "False\n",
      "True\n",
      "True\n"
     ]
    }
   ],
   "source": [
    "print(a > b)\n",
    "print(a < b)\n",
    "print(a >= b)\n",
    "print(a <= b)\n",
    "print(a == b/2)\n",
    "# 검토하는 거임"
   ]
  },
  {
   "cell_type": "code",
   "execution_count": 78,
   "id": "bb960997-acd7-432a-952b-f786bc9041c4",
   "metadata": {},
   "outputs": [
    {
     "name": "stdout",
     "output_type": "stream",
     "text": [
      "False\n",
      "True\n"
     ]
    }
   ],
   "source": [
    "print(a == b)\n",
    "print(a != b)"
   ]
  },
  {
   "cell_type": "code",
   "execution_count": 79,
   "id": "b5024231-b713-48f5-983c-8305e70ba37b",
   "metadata": {},
   "outputs": [
    {
     "name": "stdout",
     "output_type": "stream",
     "text": [
      "True\n",
      "False\n"
     ]
    }
   ],
   "source": [
    "print('hi' == 'hi')\n",
    "print('hi' == 'Hi')\n"
   ]
  },
  {
   "cell_type": "markdown",
   "id": "a8ae5543-c80d-4628-9510-79310d9c0e4f",
   "metadata": {
    "jp-MarkdownHeadingCollapsed": true
   },
   "source": [
    "## 2.3 논리연산자\n",
    "- and : 양쪽 모두 True 일 때, True를 반환\n",
    "- or : 양쪽 모두 False 일 때, False를 반환\n",
    "- not : 상태를 부정"
   ]
  },
  {
   "cell_type": "code",
   "execution_count": 81,
   "id": "c3136b54-2a9c-4a06-aa15-a581cc9f6c04",
   "metadata": {},
   "outputs": [
    {
     "name": "stdout",
     "output_type": "stream",
     "text": [
      "True\n",
      "False\n",
      "False\n",
      "False\n"
     ]
    }
   ],
   "source": [
    "print(True and True)\n",
    "print(True and False)\n",
    "print(False and True)\n",
    "print(False and False)"
   ]
  },
  {
   "cell_type": "code",
   "execution_count": 82,
   "id": "7a23c81d-9031-46d8-9aa7-46d49bb82821",
   "metadata": {},
   "outputs": [
    {
     "name": "stdout",
     "output_type": "stream",
     "text": [
      "True\n",
      "True\n",
      "True\n",
      "False\n"
     ]
    }
   ],
   "source": [
    "print(True or True)\n",
    "print(True or False)\n",
    "print(False or True)\n",
    "print(False or False)"
   ]
  },
  {
   "cell_type": "code",
   "execution_count": 85,
   "id": "f928a12b-029a-4a0d-a1c4-6eb7ce50132a",
   "metadata": {},
   "outputs": [
    {
     "name": "stdout",
     "output_type": "stream",
     "text": [
      "False\n"
     ]
    }
   ],
   "source": [
    "a = True\n",
    "print(not a)"
   ]
  },
  {
   "cell_type": "code",
   "execution_count": 89,
   "id": "ff82fe8e-6bd0-46b3-8799-b1134412fa0c",
   "metadata": {},
   "outputs": [
    {
     "name": "stdout",
     "output_type": "stream",
     "text": [
      "5\n",
      "0\n",
      "0\n",
      "0\n",
      "3\n"
     ]
    }
   ],
   "source": [
    "# 단축평가\n",
    "print(3 and 5)\n",
    "print(3 and 0)\n",
    "print(0 and 5)\n",
    "print(0 and 0)\n",
    "print(5 and 3)"
   ]
  },
  {
   "cell_type": "code",
   "execution_count": 90,
   "id": "776e2a3c-45de-4537-87ea-4d949487a166",
   "metadata": {},
   "outputs": [
    {
     "name": "stdout",
     "output_type": "stream",
     "text": [
      "3\n",
      "3\n",
      "5\n",
      "0\n",
      "5\n"
     ]
    }
   ],
   "source": [
    "print(3 or 5)\n",
    "print(3 or 0)\n",
    "print(0 or 5)\n",
    "print(0 or 0)\n",
    "print(5 or 3)"
   ]
  },
  {
   "cell_type": "markdown",
   "id": "de64af10-8306-4d7b-9416-0d1afa219bd9",
   "metadata": {
    "jp-MarkdownHeadingCollapsed": true
   },
   "source": [
    "## 2.4 복합연산자"
   ]
  },
  {
   "cell_type": "code",
   "execution_count": 120,
   "id": "79467ceb-32d1-4508-a3e4-8434f76d0af4",
   "metadata": {},
   "outputs": [],
   "source": [
    "a = 2\n",
    "b = 3"
   ]
  },
  {
   "cell_type": "code",
   "execution_count": 121,
   "id": "e8d422c2-d160-480d-b764-260d3d8184e8",
   "metadata": {},
   "outputs": [],
   "source": [
    "a = a + b # 사칙연산 다됨\n",
    "a = a - b\n",
    "a = a * b\n",
    "a = a / b"
   ]
  },
  {
   "cell_type": "code",
   "execution_count": 122,
   "id": "46b332fc-f794-4b5d-a904-c5a6a8e299ba",
   "metadata": {},
   "outputs": [],
   "source": [
    "a += b\n",
    "a -= b\n",
    "a *= b\n",
    "a /= b\n",
    "a //= b\n",
    "a %= b\n",
    "a **= b"
   ]
  },
  {
   "cell_type": "code",
   "execution_count": 123,
   "id": "164bf028-6ddd-42bc-9105-d7748c8ed3e0",
   "metadata": {},
   "outputs": [
    {
     "data": {
      "text/plain": [
       "float"
      ]
     },
     "execution_count": 123,
     "metadata": {},
     "output_type": "execute_result"
    }
   ],
   "source": [
    "type(a)"
   ]
  },
  {
   "cell_type": "markdown",
   "id": "02d1f833-2e12-492d-b5a8-d95e94ec450e",
   "metadata": {},
   "source": [
    "## 2.5 기타연산자"
   ]
  },
  {
   "cell_type": "code",
   "execution_count": 124,
   "id": "f3c8bde7-0926-47ea-b7ba-f2c0fd718a23",
   "metadata": {},
   "outputs": [],
   "source": [
    "a = 'hi'\n",
    "b = 'hello'"
   ]
  },
  {
   "cell_type": "code",
   "execution_count": 127,
   "id": "7027beb4-cb4e-4aa1-8e45-3b43939cebfa",
   "metadata": {},
   "outputs": [
    {
     "name": "stdout",
     "output_type": "stream",
     "text": [
      "hihello\n"
     ]
    },
    {
     "ename": "TypeError",
     "evalue": "can only concatenate str (not \"int\") to str",
     "output_type": "error",
     "traceback": [
      "\u001b[0;31m---------------------------------------------------------------------------\u001b[0m",
      "\u001b[0;31mTypeError\u001b[0m                                 Traceback (most recent call last)",
      "Cell \u001b[0;32mIn[127], line 2\u001b[0m\n\u001b[1;32m      1\u001b[0m \u001b[38;5;28mprint\u001b[39m(a \u001b[38;5;241m+\u001b[39m b) \u001b[38;5;66;03m# 문자열과 문자열의 +는 concatenation(연결)이다\u001b[39;00m\n\u001b[0;32m----> 2\u001b[0m \u001b[38;5;28mprint\u001b[39m(\u001b[43ma\u001b[49m\u001b[43m \u001b[49m\u001b[38;5;241;43m+\u001b[39;49m\u001b[43m \u001b[49m\u001b[38;5;241;43m1\u001b[39;49m)\n\u001b[1;32m      3\u001b[0m \u001b[38;5;28mprint\u001b[39m(\u001b[38;5;241m1\u001b[39m \u001b[38;5;241m+\u001b[39m b)\n",
      "\u001b[0;31mTypeError\u001b[0m: can only concatenate str (not \"int\") to str"
     ]
    }
   ],
   "source": [
    "print(a + b) # 문자열과 문자열의 +는 concatenation(연결)이다\n",
    "print(a + 1)\n",
    "print(1 + b)"
   ]
  },
  {
   "cell_type": "code",
   "execution_count": 128,
   "id": "b15ed64e-4f6d-4ab4-97cc-edec5c91ef17",
   "metadata": {},
   "outputs": [],
   "source": [
    "a = [1, 2, 3]\n",
    "b = [2, 3, 4]"
   ]
  },
  {
   "cell_type": "code",
   "execution_count": 129,
   "id": "df01c6bc-4862-4d44-a08f-072d7bdc6022",
   "metadata": {},
   "outputs": [
    {
     "name": "stdout",
     "output_type": "stream",
     "text": [
      "[1, 2, 3, 2, 3, 4]\n"
     ]
    }
   ],
   "source": [
    "print(a + b) # list에서는 concatenation을 동작시킨다"
   ]
  },
  {
   "cell_type": "code",
   "execution_count": 131,
   "id": "01e0c544-e5d3-42ed-9702-0bc374f02def",
   "metadata": {},
   "outputs": [
    {
     "name": "stdout",
     "output_type": "stream",
     "text": [
      "True\n",
      "False\n"
     ]
    }
   ],
   "source": [
    "print(2 in a)\n",
    "print(10 in a)"
   ]
  },
  {
   "cell_type": "code",
   "execution_count": 138,
   "id": "e5294f6b-c815-4e36-92ad-1ea676157db8",
   "metadata": {},
   "outputs": [],
   "source": [
    "a = 500\n",
    "b = 500"
   ]
  },
  {
   "cell_type": "code",
   "execution_count": 139,
   "id": "4f045f50-4038-4861-a50d-d2e3ded36ddf",
   "metadata": {},
   "outputs": [
    {
     "name": "stdout",
     "output_type": "stream",
     "text": [
      "True\n",
      "False\n"
     ]
    }
   ],
   "source": [
    "print(a == b) # 값이 같은지 비교\n",
    "print(a is b) # 객체로서 같은지 비교"
   ]
  },
  {
   "cell_type": "markdown",
   "id": "232f3caf-525d-4bcd-aabb-ca5dc4cba129",
   "metadata": {},
   "source": [
    "### 연산자 우선순위\n",
    " 0. ()를 통해서 그룹힝\n",
    " 1. ** (제곱)\n",
    " 2. 산술연산자(*, /)\n",
    " 3. 산술연산자(+, -)\n",
    " 4. 비교연산자(=, >, in, is..)\n",
    " 5. not\n",
    " 6. and\n",
    " 7. or"
   ]
  },
  {
   "cell_type": "markdown",
   "id": "2824ad05-785b-4db6-bb8f-e2e0698c82a6",
   "metadata": {},
   "source": [
    "# 03. 형변환 "
   ]
  },
  {
   "cell_type": "markdown",
   "id": "10e0779a-73ea-4198-9f31-5f4831ca2040",
   "metadata": {
    "jp-MarkdownHeadingCollapsed": true
   },
   "source": [
    "## 3.1 암시적 형변환"
   ]
  },
  {
   "cell_type": "code",
   "execution_count": 140,
   "id": "8d52a7d0-5683-4f0d-8abf-d5b1ddd626aa",
   "metadata": {},
   "outputs": [],
   "source": [
    "a = True\n",
    "b = False\n",
    "c = 1"
   ]
  },
  {
   "cell_type": "code",
   "execution_count": 153,
   "id": "51ccff72-808a-440d-ba51-abf54e6d91a6",
   "metadata": {},
   "outputs": [
    {
     "name": "stdout",
     "output_type": "stream",
     "text": [
      "1\n",
      "124\n"
     ]
    }
   ],
   "source": [
    "print(a + b)\n",
    "print(a + c)"
   ]
  },
  {
   "cell_type": "markdown",
   "id": "ac95d0fd-30d9-42ff-9cc3-92d35f2274bf",
   "metadata": {},
   "source": [
    "## 3.2 명시적 형변환\n",
    "- int()\n",
    "- float()\n",
    "- str()\n",
    "- bool()"
   ]
  },
  {
   "cell_type": "code",
   "execution_count": 143,
   "id": "6f105c90-8959-4d2a-b111-07a998b28176",
   "metadata": {},
   "outputs": [],
   "source": [
    "a = 1\n",
    "b = '반'"
   ]
  },
  {
   "cell_type": "code",
   "execution_count": 144,
   "id": "05c9bd46-c737-4955-a0fd-7ac0254bf064",
   "metadata": {},
   "outputs": [
    {
     "name": "stdout",
     "output_type": "stream",
     "text": [
      "1반\n"
     ]
    }
   ],
   "source": [
    "print(str(a) + b)"
   ]
  },
  {
   "cell_type": "code",
   "execution_count": 145,
   "id": "2345e4e3-6b66-4cad-a2f2-ec292fd40ced",
   "metadata": {},
   "outputs": [
    {
     "name": "stdout",
     "output_type": "stream",
     "text": [
      "3\n"
     ]
    }
   ],
   "source": [
    "a = '3'\n",
    "print(a)"
   ]
  },
  {
   "cell_type": "code",
   "execution_count": 147,
   "id": "f5dc5d14-e6e7-48bb-86ed-8e457c8338d8",
   "metadata": {},
   "outputs": [
    {
     "name": "stdout",
     "output_type": "stream",
     "text": [
      "<class 'str'>\n",
      "3\n"
     ]
    }
   ],
   "source": [
    "print(type(a))\n",
    "print(int(a))"
   ]
  },
  {
   "cell_type": "code",
   "execution_count": 148,
   "id": "1e2f7723-fd37-43bb-b0b6-1460fb646e5c",
   "metadata": {},
   "outputs": [
    {
     "ename": "ValueError",
     "evalue": "invalid literal for int() with base 10: 'apple'",
     "output_type": "error",
     "traceback": [
      "\u001b[0;31m---------------------------------------------------------------------------\u001b[0m",
      "\u001b[0;31mValueError\u001b[0m                                Traceback (most recent call last)",
      "Cell \u001b[0;32mIn[148], line 2\u001b[0m\n\u001b[1;32m      1\u001b[0m c \u001b[38;5;241m=\u001b[39m \u001b[38;5;124m'\u001b[39m\u001b[38;5;124mapple\u001b[39m\u001b[38;5;124m'\u001b[39m\n\u001b[0;32m----> 2\u001b[0m d \u001b[38;5;241m=\u001b[39m \u001b[38;5;28;43mint\u001b[39;49m\u001b[43m(\u001b[49m\u001b[43mc\u001b[49m\u001b[43m)\u001b[49m\n",
      "\u001b[0;31mValueError\u001b[0m: invalid literal for int() with base 10: 'apple'"
     ]
    }
   ],
   "source": [
    "c = 'apple'\n",
    "d = int(c)"
   ]
  },
  {
   "cell_type": "code",
   "execution_count": 149,
   "id": "b4a2656e-9366-4006-afda-25613d7398e1",
   "metadata": {},
   "outputs": [
    {
     "name": "stdout",
     "output_type": "stream",
     "text": [
      "True\n",
      "False\n",
      "True\n",
      "True\n"
     ]
    }
   ],
   "source": [
    "a = 1\n",
    "b = 0\n",
    "c = 123\n",
    "d = -123\n",
    "print(bool(a))\n",
    "print(bool(b))\n",
    "print(bool(c))\n",
    "print(bool(d))"
   ]
  },
  {
   "cell_type": "code",
   "execution_count": 150,
   "id": "c07f3d37-5c5b-4c6f-a6cf-0989611e2e1e",
   "metadata": {},
   "outputs": [],
   "source": [
    "# 0만 False"
   ]
  },
  {
   "cell_type": "code",
   "execution_count": 151,
   "id": "e7517bd6-7776-4192-a202-84f6f7f14318",
   "metadata": {},
   "outputs": [
    {
     "name": "stdout",
     "output_type": "stream",
     "text": [
      "False\n",
      "True\n"
     ]
    }
   ],
   "source": [
    "print(bool([]))\n",
    "print(bool([1, 2, 3]))"
   ]
  },
  {
   "cell_type": "code",
   "execution_count": 154,
   "id": "cb8f6fc3-fd20-4c10-b6db-07760edf180e",
   "metadata": {},
   "outputs": [],
   "source": [
    "# 리스트(배열) 안에 데이터가 있으면 1이상이므로 True, 없으면 0이므로 False"
   ]
  },
  {
   "cell_type": "markdown",
   "id": "3d5ab20f-3196-4323-a8ee-1ca35ccc0bce",
   "metadata": {},
   "source": [
    "# 4. 시퀀스 자료형\n",
    "- 시퀀스는 데이터의 **순서대로** 나열된 자료구조(순서대로 나열된 것과 정렬된 것은 다르다)\n",
    "\n",
    "- 1. List\n",
    "  2. Tuple\n",
    "  3. Range\n",
    "  4. String"
   ]
  },
  {
   "cell_type": "markdown",
   "id": "00d4385a-2a96-4e77-9372-4f3b013aa89f",
   "metadata": {
    "jp-MarkdownHeadingCollapsed": true
   },
   "source": [
    "## 4.1 List (리스트, 배열)\n",
    "- 선언 : `var_name = [value1, value2, ...]`\n",
    "- value : boolean or string or another list...etc.\n",
    "- 접근 : `var_name[index]`"
   ]
  },
  {
   "cell_type": "code",
   "execution_count": 3,
   "id": "f13e69c0-2d1a-4632-ada5-9494274ddc57",
   "metadata": {},
   "outputs": [
    {
     "name": "stdout",
     "output_type": "stream",
     "text": [
      "[]\n",
      "<class 'list'>\n"
     ]
    }
   ],
   "source": [
    "l = []\n",
    "print(l)\n",
    "print(type(l))"
   ]
  },
  {
   "cell_type": "code",
   "execution_count": 8,
   "id": "4a921bef-a9bb-4646-90d9-6f112617b1dd",
   "metadata": {},
   "outputs": [
    {
     "name": "stdout",
     "output_type": "stream",
     "text": [
      "['서울', '대전', '부산']\n",
      "서울\n",
      "대전\n",
      "['서울', '인천', '부산']\n"
     ]
    }
   ],
   "source": [
    "location = ['서울', '대전', '부산']\n",
    "print(location)\n",
    "print(location[0])\n",
    "print(location[1])\n",
    "\n",
    "location[1] = '인천'\n",
    "print(location)"
   ]
  },
  {
   "cell_type": "markdown",
   "id": "c56cd951-8e59-470c-a2c1-06b97a80605d",
   "metadata": {},
   "source": [
    "## 4.2 Tuple\n",
    "- 선언 : `var_name = [value1, value2, ...]`\n",
    "- 접근 : `var_name[index]`\n",
    "- 수정불가능하다(immutable)"
   ]
  },
  {
   "cell_type": "code",
   "execution_count": 9,
   "id": "d24646da-bcc4-4539-84f9-19e0d4873d0b",
   "metadata": {},
   "outputs": [
    {
     "name": "stdout",
     "output_type": "stream",
     "text": [
      "('서울', '대전', '대구')\n",
      "서울\n"
     ]
    }
   ],
   "source": [
    "location = ('서울', '대전', '대구')\n",
    "print(location)\n",
    "print(location[0])"
   ]
  },
  {
   "cell_type": "code",
   "execution_count": 10,
   "id": "a730217f-a142-48f3-93e8-d04011e45407",
   "metadata": {},
   "outputs": [
    {
     "ename": "TypeError",
     "evalue": "'tuple' object does not support item assignment",
     "output_type": "error",
     "traceback": [
      "\u001b[1;31m-------------------------------------------------------------------------\u001b[0m",
      "\u001b[1;31mTypeError\u001b[0m                               Traceback (most recent call last)",
      "Cell \u001b[1;32mIn[10], line 1\u001b[0m\n\u001b[1;32m----> 1\u001b[0m \u001b[43mlocation\u001b[49m\u001b[43m[\u001b[49m\u001b[38;5;241;43m2\u001b[39;49m\u001b[43m]\u001b[49m \u001b[38;5;241m=\u001b[39m \u001b[38;5;124m'\u001b[39m\u001b[38;5;124m붓싼\u001b[39m\u001b[38;5;124m'\u001b[39m\n",
      "\u001b[1;31mTypeError\u001b[0m: 'tuple' object does not support item assignment"
     ]
    }
   ],
   "source": [
    "location[2] = '붓싼'"
   ]
  },
  {
   "cell_type": "code",
   "execution_count": 11,
   "id": "684bcd18-f4cb-4e1e-85fc-f0668c310d2e",
   "metadata": {},
   "outputs": [
    {
     "name": "stdout",
     "output_type": "stream",
     "text": [
      "(2, 1)\n",
      "<class 'tuple'>\n"
     ]
    }
   ],
   "source": [
    "result = divmod(5, 2)\n",
    "print(result)\n",
    "print(type(result))"
   ]
  },
  {
   "cell_type": "markdown",
   "id": "981e87ea-69d7-4514-952d-bb325ab7e65a",
   "metadata": {},
   "source": [
    "x = 1\n",
    "y = 2 일 경우\n",
    "- 대부분의 언어에서는\n",
    "```\n",
    "temp = x\n",
    "x = y\n",
    "y = temp\n",
    "```\n",
    "- 파이썬에서는\n",
    "```\n",
    "(x, y) = (y, x)\n",
    "```\n",
    "하면 x와 y가 바뀐다"
   ]
  },
  {
   "cell_type": "markdown",
   "id": "4c3c7e41-e6a8-4859-a282-319bfaf57f51",
   "metadata": {
    "jp-MarkdownHeadingCollapsed": true
   },
   "source": [
    "## 4.3 Range"
   ]
  },
  {
   "cell_type": "code",
   "execution_count": 15,
   "id": "4a653160-be21-4db8-8969-4c97c0c90896",
   "metadata": {},
   "outputs": [
    {
     "name": "stdout",
     "output_type": "stream",
     "text": [
      "range(0, 45)\n",
      "[0, 1, 2, 3, 4, 5, 6, 7, 8, 9, 10, 11, 12, 13, 14, 15, 16, 17, 18, 19, 20, 21, 22, 23, 24, 25, 26, 27, 28, 29, 30, 31, 32, 33, 34, 35, 36, 37, 38, 39, 40, 41, 42, 43, 44]\n"
     ]
    }
   ],
   "source": [
    "lotto = range(45)\n",
    "print(lotto)\n",
    "print(list(lotto))\n",
    "# 로또에 없는 0이 있고, 로또에 있어야 하는 45가 없음"
   ]
  },
  {
   "cell_type": "code",
   "execution_count": 16,
   "id": "e14d61a5-6a99-4af3-b00a-8d1a835ca817",
   "metadata": {},
   "outputs": [
    {
     "name": "stdout",
     "output_type": "stream",
     "text": [
      "range(1, 46)\n",
      "[1, 2, 3, 4, 5, 6, 7, 8, 9, 10, 11, 12, 13, 14, 15, 16, 17, 18, 19, 20, 21, 22, 23, 24, 25, 26, 27, 28, 29, 30, 31, 32, 33, 34, 35, 36, 37, 38, 39, 40, 41, 42, 43, 44, 45]\n"
     ]
    }
   ],
   "source": [
    "lotto = range(1, 46)\n",
    "print(lotto)\n",
    "print(list(lotto))"
   ]
  },
  {
   "cell_type": "code",
   "execution_count": 17,
   "id": "fa5df10d-e68d-409a-8529-d1d95cce258c",
   "metadata": {},
   "outputs": [
    {
     "name": "stdout",
     "output_type": "stream",
     "text": [
      "[2, 4, 6, 8, 10, 12, 14, 16, 18]\n"
     ]
    }
   ],
   "source": [
    "even = range(2, 20, 2)\n",
    "# even은 짝수의 의미를 가지고 있다\n",
    "print(list(even))"
   ]
  },
  {
   "cell_type": "code",
   "execution_count": 18,
   "id": "a5878f2d-619e-40d8-8b22-55f2cc43bb2b",
   "metadata": {},
   "outputs": [
    {
     "name": "stdout",
     "output_type": "stream",
     "text": [
      "[2, 4, 6, 8, 10, 12, 14, 16, 18, 20]\n"
     ]
    }
   ],
   "source": [
    "even = range(2, 21, 2)\n",
    "print(list(even))"
   ]
  },
  {
   "cell_type": "code",
   "execution_count": 19,
   "id": "631cef29-c68b-4ee5-aecf-a02c09c5ae87",
   "metadata": {},
   "outputs": [
    {
     "name": "stdout",
     "output_type": "stream",
     "text": [
      "[0, -2, -4, -6, -8, -10, -12, -14, -16, -18]\n"
     ]
    }
   ],
   "source": [
    "numbers = range(0, -20, -2)\n",
    "print(list(numbers))"
   ]
  },
  {
   "cell_type": "markdown",
   "id": "e719ff4e-0b09-4381-9da5-af82a1960314",
   "metadata": {},
   "source": [
    "## 4.4 String\n",
    "- 기본 데이터 구조를 참고한다\n",
    "- 알파벳들의 순서(순서는 시퀀스, 시퀀스는 순서)"
   ]
  },
  {
   "cell_type": "markdown",
   "id": "9cf8dd24-3cda-4085-8166-ff1f692e2521",
   "metadata": {},
   "source": [
    "## 4.5 시퀀스에서 활용가능한 연산/함수"
   ]
  },
  {
   "cell_type": "code",
   "execution_count": 23,
   "id": "65b26749-0bc3-4ed6-b0ee-97f8ca654bc2",
   "metadata": {},
   "outputs": [],
   "source": [
    "my_list = ['a', 'b', 'c', 'd', 'e']\n",
    "my_tuple = (6, 7, 8, 9, 10)\n",
    "my_range = range(5)\n",
    "my_string = 'ㄱㄴㄷㄹㅁ'"
   ]
  },
  {
   "cell_type": "code",
   "execution_count": 24,
   "id": "7aba8dc1-482b-4782-9f72-e6387035fefa",
   "metadata": {},
   "outputs": [
    {
     "name": "stdout",
     "output_type": "stream",
     "text": [
      "a\n",
      "6\n",
      "0\n",
      "ㄱ\n"
     ]
    }
   ],
   "source": [
    "# indexing\n",
    "print(my_list[0])\n",
    "print(my_tuple[0])\n",
    "print(my_range[0])\n",
    "print(my_string[0])"
   ]
  },
  {
   "cell_type": "code",
   "execution_count": 28,
   "id": "e86ecd4c-7794-42e3-bc30-5e988e36d2ec",
   "metadata": {},
   "outputs": [
    {
     "name": "stdout",
     "output_type": "stream",
     "text": [
      "['a', 'b']\n",
      "(8, 9, 10)\n",
      "range(0, 2)\n",
      "ㄷㄹㅁ\n"
     ]
    }
   ],
   "source": [
    "# slicing(자르다)\n",
    "# var_name[index1:index2] index2는 n-1\n",
    "print(my_list[0:2])\n",
    "print(my_tuple[2:5])\n",
    "print(my_range[0:2])\n",
    "print(my_string[2:5])"
   ]
  },
  {
   "cell_type": "code",
   "execution_count": 30,
   "id": "7fc6b254-04de-411f-b3a6-3484623b5b7d",
   "metadata": {},
   "outputs": [
    {
     "name": "stdout",
     "output_type": "stream",
     "text": [
      "['a', 'b', 'c', 'd', 'e']\n",
      "['a', 'b', 'c', 'd', 'e']\n",
      "['d', 'e']\n",
      "['a', 'b', 'c']\n"
     ]
    }
   ],
   "source": [
    "# 인덱스 생략\n",
    "print(my_list[0:])\n",
    "# 근데 0은 의미가 없어어서 보통 다른 숫자를 넣는다\n",
    "print(my_list[:])\n",
    "print(my_list[3:])\n",
    "print(my_list[:3])"
   ]
  },
  {
   "cell_type": "code",
   "execution_count": 36,
   "id": "a6bf353f-5f81-472c-b5c2-24d224e66857",
   "metadata": {},
   "outputs": [
    {
     "name": "stdout",
     "output_type": "stream",
     "text": [
      "e\n",
      "['c', 'd', 'e']\n",
      "['c', 'd']\n"
     ]
    }
   ],
   "source": [
    "# 음수 인덱스(뒤에서부터 세는 것)\n",
    "print(my_list[-1])\n",
    "print(my_list[-3:])\n",
    "print(my_list[-3:-1])"
   ]
  },
  {
   "cell_type": "code",
   "execution_count": 42,
   "id": "2c608bb6-c5ba-4a7d-a8e1-b8b68deffcdd",
   "metadata": {},
   "outputs": [
    {
     "name": "stdout",
     "output_type": "stream",
     "text": [
      "['a', 'c', 'e']\n"
     ]
    }
   ],
   "source": [
    "# step\n",
    "print(my_list[::2])"
   ]
  },
  {
   "cell_type": "code",
   "execution_count": 55,
   "id": "29d7e11b-bd0c-44e6-b455-a15a364f61e3",
   "metadata": {},
   "outputs": [
    {
     "name": "stdout",
     "output_type": "stream",
     "text": [
      "False\n",
      "True\n",
      "False\n",
      "True\n"
     ]
    }
   ],
   "source": [
    "# in\n",
    "print(1 in my_list)\n",
    "print('a' in my_list) # 복수의 값이 들어있는지 확인은? and연산자 사용?\n",
    "print('a' not in my_list)\n",
    "print('a' and 'b' in my_list)"
   ]
  },
  {
   "cell_type": "code",
   "execution_count": 53,
   "id": "4d630530-93ec-4d05-9987-f9bddb2d176f",
   "metadata": {},
   "outputs": [],
   "source": [
    "# concatenation 문자열은 연결할 수 있다"
   ]
  },
  {
   "cell_type": "code",
   "execution_count": 54,
   "id": "4745f9fd-ab7e-4b2f-9502-7d1ab411d8a2",
   "metadata": {},
   "outputs": [
    {
     "name": "stdout",
     "output_type": "stream",
     "text": [
      "['a', 'b', 'c', 'd', 'e', 'a', 'b', 'c', 'd', 'e']\n",
      "[0, 0, 0, 0, 0, 0, 0, 0, 0, 0]\n"
     ]
    }
   ],
   "source": [
    "# * (concatenation을 여러번 할 때)\n",
    "print(my_list * 2)\n",
    "\n",
    "# [0, 0, 0, 0, 0, 0, 0, 0, 0, 0]\n",
    "print([0] * 10)"
   ]
  },
  {
   "cell_type": "code",
   "execution_count": 58,
   "id": "75e34173-ae8a-44d9-b753-24bde069f1be",
   "metadata": {},
   "outputs": [
    {
     "data": {
      "text/plain": [
       "5"
      ]
     },
     "execution_count": 58,
     "metadata": {},
     "output_type": "execute_result"
    }
   ],
   "source": [
    "len(my_list)"
   ]
  },
  {
   "cell_type": "code",
   "execution_count": 57,
   "id": "828ec792-e02a-4c17-9e19-6eec08aaeeaf",
   "metadata": {},
   "outputs": [
    {
     "data": {
      "text/plain": [
       "'e'"
      ]
     },
     "execution_count": 57,
     "metadata": {},
     "output_type": "execute_result"
    }
   ],
   "source": [
    "max(my_list)"
   ]
  },
  {
   "cell_type": "code",
   "execution_count": 59,
   "id": "8bdfd4a6-a1f3-4248-9bc0-4631dc945cff",
   "metadata": {},
   "outputs": [
    {
     "name": "stdout",
     "output_type": "stream",
     "text": [
      "5\n",
      "e\n"
     ]
    }
   ],
   "source": [
    "print(len(my_list))\n",
    "print(max(my_list))"
   ]
  },
  {
   "cell_type": "code",
   "execution_count": 60,
   "id": "84ed9c41-28f2-4356-a0b4-537033c785e3",
   "metadata": {},
   "outputs": [
    {
     "data": {
      "text/plain": [
       "0"
      ]
     },
     "execution_count": 60,
     "metadata": {},
     "output_type": "execute_result"
    }
   ],
   "source": [
    "min(my_range)"
   ]
  },
  {
   "cell_type": "markdown",
   "id": "da29b777-431c-46a0-8baf-d885c4354213",
   "metadata": {},
   "source": [
    "# 5. 시퀀스형이 아닌 자료구조"
   ]
  },
  {
   "cell_type": "markdown",
   "id": "8c1c617c-6065-45cd-94a0-689b186f8815",
   "metadata": {},
   "source": [
    "## 5.1 Set\n",
    "- 수학에서의 집합이랑 비슷한 개념 (중복값이 없음)\n",
    "- 단일데이터에 접근 하는것이 아니라 데이터 덩어리를 연산에 사용하는 개념으로 '접근'개념이 없음\n",
    "\n",
    "- 선언 : var_name = {value1, value2, ...}"
   ]
  },
  {
   "cell_type": "code",
   "execution_count": 61,
   "id": "05b378cc-d4bf-437b-8f90-068e31eb8bac",
   "metadata": {},
   "outputs": [],
   "source": [
    "my_set_a = {1, 2, 3, 4, 5, 5, 5, 5, 5, 5}\n",
    "my_set_b = {1, 3, 5, 7, 9}"
   ]
  },
  {
   "cell_type": "code",
   "execution_count": 62,
   "id": "fb1b1625-a545-4942-80a1-8e36c54d2f43",
   "metadata": {},
   "outputs": [
    {
     "name": "stdout",
     "output_type": "stream",
     "text": [
      "{1, 2, 3, 4, 5}\n",
      "{1, 3, 5, 7, 9}\n"
     ]
    }
   ],
   "source": [
    "print(my_set_a)\n",
    "print(my_set_b)"
   ]
  },
  {
   "cell_type": "code",
   "execution_count": 64,
   "id": "d23bee3d-14bd-42ef-bf39-446318c21fe1",
   "metadata": {},
   "outputs": [
    {
     "name": "stdout",
     "output_type": "stream",
     "text": [
      "{2, 4}\n",
      "{1, 2, 3, 4, 5, 7, 9}\n",
      "{1, 3, 5}\n"
     ]
    }
   ],
   "source": [
    "print(my_set_a - my_set_b)\n",
    "print(my_set_a | my_set_b)\n",
    "print(my_set_a & my_set_b)"
   ]
  },
  {
   "cell_type": "code",
   "execution_count": 65,
   "id": "aa08551f-fec6-4039-8af7-c36e54dcca2c",
   "metadata": {},
   "outputs": [],
   "source": [
    "location = [] #이건 복붙하자\n",
    "\n",
    "# set으로 형변환해서 중복값 제거할 수 있다"
   ]
  },
  {
   "cell_type": "markdown",
   "id": "f701e8de-cd13-4cab-8355-ac30bd78d1ce",
   "metadata": {},
   "source": [
    "## 5.2 Dictionary\n",
    "- 띄어쓰기 중요, 키를 기준으로 접근한다. value를 기준으로 접근 불가\n",
    "- 선언 : `var_name = {key1: value1, key2: value2, ...}`\n",
    "- 접근 : `var_name[key]`"
   ]
  },
  {
   "cell_type": "code",
   "execution_count": 66,
   "id": "2454c5a8-c93a-403d-8ad7-1e33754e8abc",
   "metadata": {},
   "outputs": [
    {
     "name": "stdout",
     "output_type": "stream",
     "text": [
      "02\n"
     ]
    }
   ],
   "source": [
    "my_dict = {'서울': '02', '경기': '031', '인천': '032'}\n",
    "print(my_dict['서울'])"
   ]
  },
  {
   "cell_type": "code",
   "execution_count": 67,
   "id": "b07d8c19-eddf-423b-a3e6-ad9efe592287",
   "metadata": {},
   "outputs": [],
   "source": [
    "my_dict = {\n",
    "    '서울': '02',\n",
    "    '경기': '031',\n",
    "    '인천': '032'\n",
    "}"
   ]
  },
  {
   "cell_type": "code",
   "execution_count": 69,
   "id": "6184cebc-23d7-489b-bfb2-cda69a6e88a2",
   "metadata": {},
   "outputs": [],
   "source": [
    "my_info = {\n",
    "    'name': 'yoonsick',\n",
    "    'location': '인천',\n",
    "    'age': 39,\n",
    "    'skill': ['python', 'git']\n",
    "}"
   ]
  },
  {
   "cell_type": "code",
   "execution_count": 70,
   "id": "ba5ed4a5-8c1c-4436-8087-0b8d65c87b71",
   "metadata": {},
   "outputs": [
    {
     "name": "stdout",
     "output_type": "stream",
     "text": [
      "yoonsick\n",
      "39\n"
     ]
    }
   ],
   "source": [
    "print(my_info['name'])\n",
    "print(my_info['age'])"
   ]
  },
  {
   "cell_type": "code",
   "execution_count": 71,
   "id": "a6a8c25d-54d8-4fae-8f1a-3e72eae32860",
   "metadata": {},
   "outputs": [
    {
     "name": "stdout",
     "output_type": "stream",
     "text": [
      "git\n"
     ]
    }
   ],
   "source": [
    "print(my_info['skill'][1])"
   ]
  },
  {
   "cell_type": "markdown",
   "id": "522d61cc-90ab-4b65-8e0a-def064e967cb",
   "metadata": {},
   "source": [
    "### 데이터 타입\n",
    "1. Number\n",
    "2. Boolean\n",
    "3. String"
   ]
  },
  {
   "cell_type": "markdown",
   "id": "8ad27527-ab9a-456f-9a77-f805e99ef04d",
   "metadata": {},
   "source": [
    "### 자료구조\n",
    "- 시퀀스\n",
    "1. "
   ]
  }
 ],
 "metadata": {
  "kernelspec": {
   "display_name": "Python 3 (ipykernel)",
   "language": "python",
   "name": "python3"
  },
  "language_info": {
   "codemirror_mode": {
    "name": "ipython",
    "version": 3
   },
   "file_extension": ".py",
   "mimetype": "text/x-python",
   "name": "python",
   "nbconvert_exporter": "python",
   "pygments_lexer": "ipython3",
   "version": "3.13.2"
  }
 },
 "nbformat": 4,
 "nbformat_minor": 5
}
