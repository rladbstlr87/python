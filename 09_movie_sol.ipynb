{
 "cells": [
  {
   "cell_type": "code",
   "execution_count": 2,
   "id": "5d382722-df0e-4721-beb0-6e480883cc01",
   "metadata": {},
   "outputs": [],
   "source": [
    "import requests\n",
    "\n",
    "class URLMaker:\n",
    "    \"\"\"\n",
    "    영화진흥위원회 API URL 생성 클래스\n",
    "    \"\"\"\n",
    "    \n",
    "    url = 'http://www.kobis.or.kr/kobisopenapi/webservice/rest'\n",
    "\n",
    "    def __init__(self, key):\n",
    "        \"\"\"\n",
    "        API key 초기화\n",
    "        \"\"\"\n",
    "        self.key = key\n",
    "\n",
    "    def daily_boxoffice_url(self, targetDt, itemPerPage=10, multiMovieYn='', repNationCd='', wideAreaCd=''):\n",
    "        \"\"\"\n",
    "        일별 박스오피스 URL 생성\n",
    "        \"\"\"\n",
    "        return f'{self.url}/boxoffice/searchDailyBoxOfficeList.json?key={self.key}&targetDt={targetDt}&itemPerPage={itemPerPage}&multiMovieYn={multiMovieYn}&repNationCd={repNationCd}&wideAreaCd={wideAreaCd}'\n",
    "\n",
    "    def weekly_boxoffice_url(self, targetDt, weekGb='0', itemPerPage=10, multiMovieYn='', repNationCd='', wideAreaCd=''):\n",
    "        \"\"\"\n",
    "        주간/주말 박스오피스 URL 생성\n",
    "        weekGb: 0(주간), 1(주말), 2(주중)\n",
    "        \"\"\"\n",
    "        return f'{self.url}/boxoffice/searchWeeklyBoxOfficeList.json?key={self.key}&targetDt={targetDt}&weekGb={weekGb}&itemPerPage={itemPerPage}&multiMovieYn={multiMovieYn}&repNationCd={repNationCd}&wideAreaCd={wideAreaCd}'\n",
    "\n",
    "    def movie_list_url(self, curPage=1, itemPerPage=10, movieNm='', directorNm='', openStartDt='', openEndDt='', \n",
    "                      prdtStartYear='', prdtEndYear='', repNationCd='', movieTypeCd=''):\n",
    "        \"\"\"\n",
    "        영화목록 URL 생성\n",
    "        \"\"\"\n",
    "        return f'{self.url}/movie/searchMovieList.json?key={self.key}&curPage={curPage}&itemPerPage={itemPerPage}&movieNm={movieNm}&directorNm={directorNm}&openStartDt={openStartDt}&openEndDt={openEndDt}&prdtStartYear={prdtStartYear}&prdtEndYear={prdtEndYear}&repNationCd={repNationCd}&movieTypeCd={movieTypeCd}'\n",
    "\n",
    "    def movie_info_url(self, movieCd):\n",
    "        \"\"\"\n",
    "        영화 상세정보 URL 생성\n",
    "        \"\"\"\n",
    "        return f'{self.url}/movie/searchMovieInfo.json?key={self.key}&movieCd={movieCd}'\n",
    "\n",
    "    def people_list_url(self, curPage=1, itemPerPage=10, peopleNm='', filmoNames=''):\n",
    "        \"\"\"\n",
    "        영화인목록 URL 생성\n",
    "        \"\"\"\n",
    "        return f'{self.url}/people/searchPeopleList.json?key={self.key}&curPage={curPage}&itemPerPage={itemPerPage}&peopleNm={peopleNm}&filmoNames={filmoNames}'\n",
    "\n",
    "    def people_info_url(self, peopleCd):\n",
    "        \"\"\"\n",
    "        영화인 상세정보 URL 생성\n",
    "        \"\"\"\n",
    "        return f'{self.url}/people/searchPeopleInfo.json?key={self.key}&peopleCd={peopleCd}'"
   ]
  },
  {
   "cell_type": "code",
   "execution_count": 5,
   "id": "e1089554-8c9a-41e7-bdaf-48b61457f7cc",
   "metadata": {},
   "outputs": [],
   "source": [
    "MY_API_KEY = 'ea85d0bf80c1a2a847737cf8270b6feb'\n",
    "url_maker = URLMaker(MY_API_KEY)"
   ]
  },
  {
   "cell_type": "markdown",
   "id": "d11cc333-35a9-4f76-bc5d-26a83b2c94f7",
   "metadata": {},
   "source": [
    "## 영화 상세정보 조회\n",
    "\n",
    "- **영화 상세정보 api**를 사용합니다.\n",
    "- 영화 코드(movieCd)를 입력받아 해당 영화의 상세 정보를 조회합니다.\n",
    "- 다음 정보를 순서대로 출력합니다:\n",
    "    - 영화 제목 (제작연도)\n",
    "    - 감독 (첫 번째 감독)\n",
    "    - 주연 배우 (첫 번째, 두 번째 배우)\n",
    "    - 장르 (첫 번째 장르)"
   ]
  },
  {
   "cell_type": "code",
   "execution_count": 20,
   "id": "c46ed916-48da-43c8-85f7-cd8d7bcbc6cb",
   "metadata": {},
   "outputs": [
    {
     "name": "stdout",
     "output_type": "stream",
     "text": [
      "http://www.kobis.or.kr/kobisopenapi/webservice/rest/movie/searchMovieInfo.json?key=ea85d0bf80c1a2a847737cf8270b6feb&movieCd=19950084\n"
     ]
    }
   ],
   "source": [
    "movie_info_url = url_maker.movie_info_url('19950084')\n",
    "print(movie_info_url)\n",
    "# 이 구문이 함수 안으로 들어갔어야 했다\n",
    "# '19950084'부분은 함수안으로 들어가면서 변수화 되어야 하겠다"
   ]
  },
  {
   "cell_type": "code",
   "execution_count": 8,
   "id": "4741e25e-e52a-4300-91b5-c975d6634b56",
   "metadata": {},
   "outputs": [],
   "source": [
    "def get_movie_detail(movie_cd):\n",
    "    movie_url = url_maker.movie_info_url(movie_cd)\n",
    "    movie_data = requests.get(movie_url).json()\n",
    "    \n",
    "    movie_info = movie_data['movieInfoResult']['movieInfo']\n",
    "    \n",
    "    print(f\"{movie_info['movieNm']} ({movie_info['prdtYear']})\")\n",
    "    print(f\"감독: {movie_info['directors'][0]['peopleNm']}\")\n",
    "    print(f\"주연: {movie_info['actors'][0]['peopleNm']}, {movie_info['actors'][1]['peopleNm']}\")\n",
    "    print(f\"장르: {movie_info['genres'][0]['genreNm']}\")"
   ]
  },
  {
   "cell_type": "code",
   "execution_count": 19,
   "id": "50f80b70-993d-4b42-952f-606ea697e32a",
   "metadata": {},
   "outputs": [
    {
     "name": "stdin",
     "output_type": "stream",
     "text": [
      "영화코드(movieCd)를 입력해주세요 : 19950084\n"
     ]
    },
    {
     "name": "stdout",
     "output_type": "stream",
     "text": [
      "쇼생크 탈출 (1994)\n",
      "감독: 프랭크 다라본트\n",
      "주연: 팀 로빈스, 모건 프리먼\n",
      "장르: 드라마\n"
     ]
    }
   ],
   "source": [
    "get_movie_detail(input('영화코드(movieCd)를 입력해주세요 :'))"
   ]
  },
  {
   "cell_type": "markdown",
   "id": "2a6177b6-a144-43d9-877f-ba6913c289a2",
   "metadata": {},
   "source": [
    "## 일별 박스오피스 조회\n",
    "\n",
    "- **일별 박스오피스 api**를 사용합니다.\n",
    "- 입력받은 날짜(YYYYMMDD 형식)의 박스오피스 정보를 조회합니다.\n",
    "- 각 영화의 순위, 영화제목, 해당 일의 관객수를 출력합니다."
   ]
  },
  {
   "cell_type": "markdown",
   "id": "c570a681-04d6-4d18-bce2-3e61686da3f1",
   "metadata": {},
   "source": [
    "### 받아온 url을 가공이 가능한 dict형태로 변경하는 것이 좋다\n",
    "- 안그러면 데이터를 사용할 때마다 r.json을 매번 넣어줘야 한다\n",
    "- ↓ bad case\n",
    "```python\n",
    "r = requests.get(daily_url)\n",
    "daily_rank = r.json()['boxOfficeResult']['dailyBoxOfficeList']\n",
    "print(daily_rank)\n",
    "print(f'{daily_rank[0]['rank']}위 : {daily_rank[0]['movieNm']} ({daily_rank[0]['audiCnt']}명)')\n",
    "```\n"
   ]
  },
  {
   "cell_type": "code",
   "execution_count": 59,
   "id": "24e3c5c6-461b-4623-8ca5-52d31f51e15b",
   "metadata": {},
   "outputs": [],
   "source": [
    "def get_daily_boxoffice(target_date):\n",
    "    daily_url = url_maker.daily_boxoffice_url(target_date)\n",
    "    daily_data = requests.get(daily_url).json()\n",
    "    # ↑ good case 받아온 url을 가공이 가능한 dict형태로 변경하는 것이 좋다\n",
    "    \n",
    "    boxoffice_list = daily_data['boxOfficeResult']['dailyBoxOfficeList']\n",
    "    \n",
    "    print(f\"\\n{target_date} 박스오피스 TOP 10\")\n",
    "    for movie in boxoffice_list:\n",
    "        rank = movie['rank']\n",
    "        title = movie['movieNm']\n",
    "        audience = movie['audiCnt']\n",
    "        print(f\"{rank}위: {title} ({audience}명)\")"
   ]
  },
  {
   "cell_type": "code",
   "execution_count": 57,
   "id": "6fd6c034-01a3-4a8f-b83a-87425c94d70a",
   "metadata": {},
   "outputs": [
    {
     "name": "stdin",
     "output_type": "stream",
     "text": [
      "YYYYMMDD 형식으로 날짜 입력 : 20041123\n"
     ]
    },
    {
     "name": "stdout",
     "output_type": "stream",
     "text": [
      "\n",
      "20041123 박스오피스 TOP 10\n",
      "1위: 나비효과 (28404명)\n",
      "2위: 여선생 VS 여제자 (26918명)\n",
      "3위: 내 머리 속의 지우개 (25705명)\n",
      "4위: 이프 온리 (14070명)\n",
      "5위: 하나와 앨리스 (5655명)\n",
      "6위: 엑소시스트: 더 비기닝 (5490명)\n",
      "7위: 화이트 칙스 (4173명)\n",
      "8위: 레지던트 이블 2-아포칼립스 (4140명)\n",
      "9위: 팜므 파탈 (2639명)\n",
      "10위: 주홍글씨 (2543명)\n"
     ]
    }
   ],
   "source": [
    "get_daily_boxoffice(input('YYYYMMDD 형식으로 날짜 입력 :'))\n",
    "# 20031111 부터 조회 가능"
   ]
  },
  {
   "cell_type": "markdown",
   "id": "69179913-40b4-40b3-a3ec-d64e1ab8e3f7",
   "metadata": {},
   "source": [
    "## 한국 영화 일별 박스오피스 조회\n",
    "\n",
    "- **일별 박스오피스 api**를 사용합니다.\n",
    "- 입력받은 날짜(YYYYMMDD 형식)의 한국 영화 박스오피스 정보를 조회합니다.\n",
    "- 한국 영화만 조회하기 위해 repNationCd='K' 파라미터를 사용합니다.\n",
    "- 영화가 개봉한 순서대로 정렬하여 제목, 날짜, 순위를 출력합니다."
   ]
  },
  {
   "cell_type": "code",
   "execution_count": 65,
   "id": "e5f12285-d2c3-4125-b952-4973cb065db6",
   "metadata": {},
   "outputs": [
    {
     "name": "stdout",
     "output_type": "stream",
     "text": [
      "[['2025-01-22', '1', '히트맨2'], ['2025-01-24', '2', '검은 수녀들'], ['2025-01-27', '3', '말할 수 없는 비밀'], ['2024-12-24', '4', '하얼빈'], ['2025-01-01', '5', '뽀로로 극장판 바닷속 대모험'], ['2025-01-24', '6', '아이유 콘서트 : 더 위닝'], ['2025-01-24', '7', '귀신경찰'], ['2024-12-04', '8', '소방관'], ['2011-07-28', '9', '마당을 나온 암탉'], [' ', '10', '뜻밖의 순간 : 언익스펙티드 저니']]\n"
     ]
    }
   ],
   "source": [
    "# version1 (리스트에 저장 후 정렬하는 방식)\n",
    "def get_movie_details(target_date):\n",
    "    daily_url = url_maker.daily_boxoffice_url(targetDt=target_date, repNationCd='K')\n",
    "    daily_data = requests.get(daily_url).json()\n",
    "    movies = daily_data['boxOfficeResult']['dailyBoxOfficeList']\n",
    "\n",
    "    movie_list = []\n",
    "    for movie in movies:\n",
    "        movie_list.append([movie['openDt'], movie['rank'], movie['movieNm']])\n",
    "    print(movie_list)\n",
    "get_movie_details('20250201')\n",
    "# 날짜데이터를 리스트안에서 맨 앞에 둠으로써 정렬할때 우선순위를 갖게 한다"
   ]
  },
  {
   "cell_type": "code",
   "execution_count": 67,
   "id": "6fd4e0ce-a040-4203-b083-d691c768ca85",
   "metadata": {},
   "outputs": [
    {
     "name": "stdout",
     "output_type": "stream",
     "text": [
      "[[' ', '10', '뜻밖의 순간 : 언익스펙티드 저니'], ['2011-07-28', '9', '마당을 나온 암탉'], ['2024-12-04', '8', '소방관'], ['2024-12-24', '4', '하얼빈'], ['2025-01-01', '5', '뽀로로 극장판 바닷속 대모험'], ['2025-01-22', '1', '히트맨2'], ['2025-01-24', '2', '검은 수녀들'], ['2025-01-24', '6', '아이유 콘서트 : 더 위닝'], ['2025-01-24', '7', '귀신경찰'], ['2025-01-27', '3', '말할 수 없는 비밀']]\n"
     ]
    }
   ],
   "source": [
    "# sorted 먹여서 날짜순으로 정렬된 모습\n",
    "def get_movie_details(target_date):\n",
    "    daily_url = url_maker.daily_boxoffice_url(targetDt=target_date, repNationCd='K')\n",
    "    daily_data = requests.get(daily_url).json()\n",
    "    movies = daily_data['boxOfficeResult']['dailyBoxOfficeList']\n",
    "\n",
    "    movie_list = []\n",
    "    for movie in movies:\n",
    "        movie_list.append([movie['openDt'], movie['rank'], movie['movieNm']])\n",
    "\n",
    "    sorted_movies = sorted(movie_list)\n",
    "    print(sorted_movies)\n",
    "get_movie_details('20250201')"
   ]
  },
  {
   "cell_type": "markdown",
   "id": "2260e4cc-fa07-4d63-b64c-063399e05ee7",
   "metadata": {},
   "source": [
    "```python\n",
    "movie[0] → 개봉일 (openDt)\n",
    "movie[1] → 순위 (rank)\n",
    "movie[2] → 영화 제목 (movieNm)\n",
    "```\n",
    "이므로 최종버전은 아래와 같다"
   ]
  },
  {
   "cell_type": "code",
   "execution_count": 68,
   "id": "061a21b0-0a02-4da1-a1fe-fe7c0db1bbe4",
   "metadata": {},
   "outputs": [],
   "source": [
    "def get_movie_details(target_date):\n",
    "    daily_url = url_maker.daily_boxoffice_url(targetDt=target_date, repNationCd='K')\n",
    "    daily_data = requests.get(daily_url).json()\n",
    "    movies = daily_data['boxOfficeResult']['dailyBoxOfficeList']\n",
    "\n",
    "    movie_list = []\n",
    "    for movie in movies:\n",
    "        movie_list.append([movie['openDt'], movie['rank'], movie['movieNm']])\n",
    "\n",
    "    sorted_movies = sorted(movie_list)\n",
    "    print(f\"{target_date} 한국 영화 박스오피스 (개봉일 순)\")\n",
    "    for movie in sorted_movies:\n",
    "        print(f\"{movie[2]} ({movie[0]}) - {movie[1]}위\")"
   ]
  },
  {
   "cell_type": "markdown",
   "id": "eda2e8cf-5fd3-49f4-bade-ea7a3c8a29ab",
   "metadata": {},
   "source": [
    "### 이제까지 함수에서 지속적으로 **반복되어 나오는 구조**\n",
    "```python\n",
    "def get_movie_details(target_date):\n",
    "    daily_url = url_maker.daily_boxoffice_url(targetDt=target_date, repNationCd='K')\n",
    "    daily_data = requests.get(daily_url).json()\n",
    "    movies = daily_data['boxOfficeResult']['dailyBoxOfficeList']\n",
    "\n",
    "    movie_list = []\n",
    "    for movie in movies:\n",
    "        pass\n",
    "```\n",
    "그리고 `for` 안에서 무엇을 반복하며 리스트안에 넣고 싶은가만 달라지는 것이었다\n",
    "1~3번 문제까지 오면서 이 구조를 머릿속에서 잡지못해서 문제를 어렵게 풀었다"
   ]
  },
  {
   "cell_type": "markdown",
   "id": "d0491a31-f4fa-4cc7-bfe0-c3b1bbb6ac86",
   "metadata": {},
   "source": [
    "## 1월 전체 주간 박스오피스 데이터 수집\n",
    "\n",
    "- **주간/주말 박스오피스 api**를 사용합니다.\n",
    "- 2025년 1월의 모든 주간(1/5, 1/12, 1/19, 1/26) 데이터를 수집합니다.\n",
    "- 각 영화의 정보는 다음을 포함해야 합니다:\n",
    "    - 영화제목, 개봉일, 누적관객수, 누적매출액\n",
    "- 동일한 영화가 여러 주에 걸쳐 나타날 경우, 가장 최근의 정보만 저장합니다.\n",
    "```python\n",
    " def weekly_boxoffice_url(self, targetDt, weekGb='0', itemPerPage=10, multiMovieYn='', repNationCd='', wideAreaCd=''):\n",
    "        \"\"\"\n",
    "        주간/주말 박스오피스 URL 생성\n",
    "        weekGb: 0(주간), 1(주말), 2(주중)\n",
    "        \"\"\"\n",
    "        return f'{self.url}/boxoffice/searchWeeklyBoxOfficeList.json?key={self.key}&targetDt={targetDt}&weekGb={weekGb}&itemPerPage={itemPerPage}&multiMovieYn={multiMovieYn}&repNationCd={repNationCd}&wideAreaCd={wideAreaCd}'\n",
    "```\n"
   ]
  },
  {
   "cell_type": "code",
   "execution_count": 74,
   "id": "c1f98b16-118c-43df-b452-94479b297aa3",
   "metadata": {},
   "outputs": [],
   "source": [
    "# 그리고 함수 구조 짜나갈 때, def밖에서 짜보고 나중에 def안으로 집어넣는 방식으로 했는데 잘못된 방법같다\n",
    "# 나중에 def안으로 넣을때 indent하기 너무 귗ㅏㄴㅎ다...\n",
    "def get_weekly_boxoffice():\n",
    "    jan = ['20250105', '20250112', '20250119', '20250126']\n",
    "    # 위의 부분을 from datetime import datetime 해서도 풀 수 있는지가 궁금하다 나중에 공부하게되면 추가해본다\n",
    "    movie_data = {} # 출력예시가 {k: v}인 dict 구조였다\n",
    "    \n",
    "    for target_date in jan:                       # '주간'이었던걸 완전 잊고있었다\n",
    "        weekly_url = url_maker.weekly_boxoffice_url(target_date, weekGb='0')\n",
    "        weekly_data = requests.get(weekly_url).json()\n",
    "        \n",
    "        boxoffice_list = weekly_data['boxOfficeResult']['weeklyBoxOfficeList']\n",
    "        showRange = weekly_data['boxOfficeResult']['showRange']\n",
    "        # 주차별 자료 안에서 for문 돌린다\n",
    "        for movie in boxoffice_list:\n",
    "            movie_data[movie['movieNm']] = {\n",
    "                '영화제목': movie['movieNm'],\n",
    "                '개봉일': movie['openDt'],\n",
    "                '누적관객': movie['audiAcc'],\n",
    "                '누적매출': movie['salesAcc'],\n",
    "            }\n",
    "    \n",
    "    print(movie_data)"
   ]
  },
  {
   "cell_type": "code",
   "execution_count": 75,
   "id": "3f22bfed-d392-4ee4-8ab4-2534862604a5",
   "metadata": {},
   "outputs": [
    {
     "name": "stdout",
     "output_type": "stream",
     "text": [
      "{'하얼빈': {'영화제목': '하얼빈', '개봉일': '2024-12-24', '누적관객': '4642215', '누적매출': '44407362460'}, '소방관': {'영화제목': '소방관', '개봉일': '2024-12-04', '누적관객': '3840551', '누적매출': '36145572270'}, '보고타: 마지막 기회의 땅': {'영화제목': '보고타: 마지막 기회의 땅', '개봉일': '2024-12-31', '누적관객': '396287', '누적매출': '3669720540'}, '수퍼 소닉3': {'영화제목': '수퍼 소닉3', '개봉일': '2025-01-01', '누적관객': '322100', '누적매출': '2950620910'}, '뽀로로 극장판 바닷속 대모험': {'영화제목': '뽀로로 극장판 바닷속 대모험', '개봉일': '2025-01-01', '누적관객': '349597', '누적매출': '2996015770'}, '무파사: 라이온 킹': {'영화제목': '무파사: 라이온 킹', '개봉일': '2024-12-18', '누적관객': '833832', '누적매출': '8188072950'}, '모아나 2': {'영화제목': '모아나 2', '개봉일': '2024-11-27', '누적관객': '3522517', '누적매출': '32533317750'}, '극장판 짱구는 못말려: 우리들의 공룡일기': {'영화제목': '극장판 짱구는 못말려: 우리들의 공룡일기', '개봉일': '2024-12-18', '누적관객': '762895', '누적매출': '7177275100'}, '위키드': {'영화제목': '위키드', '개봉일': '2024-11-20', '누적관객': '2195165', '누적매출': '21677201940'}, '시빌 워: 분열의 시대': {'영화제목': '시빌 워: 분열의 시대', '개봉일': '2024-12-31', '누적관객': '80373', '누적매출': '836845230'}, '동화지만 청불입니다': {'영화제목': '동화지만 청불입니다', '개봉일': '2025-01-08', '누적관객': '157616', '누적매출': '1465916720'}, '서브스턴스': {'영화제목': '서브스턴스', '개봉일': '2024-12-11', '누적관객': '302870', '누적매출': '2954609400'}, '검은 수녀들': {'영화제목': '검은 수녀들', '개봉일': '2025-01-24', '누적관객': '606145', '누적매출': '5870106460'}, '히트맨2': {'영화제목': '히트맨2', '개봉일': '2025-01-22', '누적관객': '604875', '누적매출': '5686993120'}, '극장판 포켓몬스터 AG: 뮤와 파동의 용사 루카리오': {'영화제목': '극장판 포켓몬스터 AG: 뮤와 파동의 용사 루카리오', '개봉일': '2025-01-22', '누적관객': '64585', '누적매출': '570033160'}, '아이유 콘서트 : 더 위닝': {'영화제목': '아이유 콘서트 : 더 위닝', '개봉일': '2025-01-24', '누적관객': '28061', '누적매출': '778067000'}, '귀신경찰': {'영화제목': '귀신경찰', '개봉일': '2025-01-24', '누적관객': '21949', '누적매출': '191035980'}}\n"
     ]
    }
   ],
   "source": [
    "get_weekly_boxoffice()"
   ]
  },
  {
   "cell_type": "markdown",
   "id": "ad179d68-3890-4b91-8aff-4567ad573758",
   "metadata": {},
   "source": [
    "## 일별 박스오피스 영화의 상세정보\n",
    "\n",
    "- **일별 박스오피스 api**와 **영화 상세정보 api**를 사용합니다.\n",
    "- 입력받은 날짜의 일별 박스오피스 TOP 10을 조회합니다.\n",
    "- 각 영화의 상세 정보를 추가로 조회하여 다음 정보를 출력합니다:\n",
    "    - 순위\n",
    "    - 영화제목\n",
    "    - 감독\n",
    "    - 주연배우 (최대 3명)"
   ]
  },
  {
   "cell_type": "code",
   "execution_count": 76,
   "id": "f36f5dc8-5ed3-491e-8dfb-6403509831cf",
   "metadata": {},
   "outputs": [],
   "source": [
    "def get_movie_details(target_date):\n",
    "    pass"
   ]
  },
  {
   "cell_type": "code",
   "execution_count": 77,
   "id": "02587880-4bb8-4201-85ad-fc6100ad8596",
   "metadata": {},
   "outputs": [],
   "source": [
    "get_movie_details(\"20250201\")  # YYYYMMDD 형식으로 날짜 입력"
   ]
  },
  {
   "cell_type": "markdown",
   "id": "2d28f55c-d344-4642-8314-9589f278f55a",
   "metadata": {},
   "source": [
    "**출력예시**\n",
    "\n",
    "```\n",
    "1위\n",
    "히트맨2\n",
    "감독: 최원섭\n",
    "주연: 권상우, 정준호, 이이경\n",
    "----------------------------------------\n",
    "\n",
    "2위\n",
    "검은 수녀들\n",
    "감독: 권혁재\n",
    "주연: 송혜교, 전여빈, 이진욱\n",
    "----------------------------------------\n",
    "\n",
    "3위\n",
    "말할 수 없는 비밀\n",
    "감독: 서유민\n",
    "주연: 도경수, 원진아, 신예은\n",
    "----------------------------------------\n",
    "...\n",
    "```"
   ]
  },
  {
   "cell_type": "markdown",
   "id": "90a87e80-1a90-410d-9055-d94272a38e6e",
   "metadata": {},
   "source": [
    "## 배우검색\n",
    "\n",
    "- **영화인목록 api**, **영화인 상세정보 api**, **영화 상세정보 api**를 사용합니다.\n",
    "- 배우 이름을 입력받아 해당 배우의 정보를 검색합니다.\n",
    "- 여러 명의 동명 배우가 있는 경우, 필모그래피가 가장 많은 배우를 선택합니다.\n",
    "- 선택된 배우의 출연작 중 '배우'로 참여한 작품 5개의 정보를 출력합니다:\n",
    "    - 영화 제목\n",
    "    - 개봉일\n",
    "    - 상영시간\n",
    "    - 감독"
   ]
  },
  {
   "cell_type": "code",
   "execution_count": 79,
   "id": "98a30c1b-20d7-4521-9c6f-fed6133ac664",
   "metadata": {},
   "outputs": [],
   "source": [
    "def analyze_actor_movies(actor_name):\n",
    "    pass"
   ]
  },
  {
   "cell_type": "code",
   "execution_count": 80,
   "id": "d55c3117-dcec-412f-b81e-fb6846b41eed",
   "metadata": {},
   "outputs": [],
   "source": [
    "analyze_actor_movies(\"박정민\")  # 원하는 배우 이름으로 변경 가능"
   ]
  },
  {
   "cell_type": "markdown",
   "id": "0858d14b-0a2c-43ff-9fd6-922fdd5b77b4",
   "metadata": {},
   "source": [
    "**출력예시**\n",
    "\n",
    "```\n",
    "배우 '박정민'의 최근 출연작 5개\n",
    "\n",
    "제목: 하얼빈\n",
    "개봉일: 20241224\n",
    "상영시간: 113분\n",
    "감독: 우민호\n",
    "\n",
    "제목: 얼굴\n",
    "개봉일: \n",
    "상영시간: 분\n",
    "감독: 연상호\n",
    "\n",
    "제목: 전, 란\n",
    "개봉일: \n",
    "상영시간: 126분\n",
    "감독: 김상만\n",
    "\n",
    "제목: 휴민트\n",
    "개봉일: \n",
    "상영시간: 분\n",
    "감독: 류승완\n",
    "\n",
    "제목: 밀수\n",
    "개봉일: 20230726\n",
    "상영시간: 129분\n",
    "감독: 류승완\n",
    "```"
   ]
  },
  {
   "cell_type": "code",
   "execution_count": null,
   "id": "058c2bd2-d494-49e0-9a67-6d128768514c",
   "metadata": {},
   "outputs": [],
   "source": []
  }
 ],
 "metadata": {
  "kernelspec": {
   "display_name": "Python 3 (ipykernel)",
   "language": "python",
   "name": "python3"
  },
  "language_info": {
   "codemirror_mode": {
    "name": "ipython",
    "version": 3
   },
   "file_extension": ".py",
   "mimetype": "text/x-python",
   "name": "python",
   "nbconvert_exporter": "python",
   "pygments_lexer": "ipython3",
   "version": "3.13.1"
  }
 },
 "nbformat": 4,
 "nbformat_minor": 5
}
