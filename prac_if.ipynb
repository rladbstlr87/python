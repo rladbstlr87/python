{
 "cells": [
  {
   "cell_type": "code",
   "execution_count": 49,
   "id": "3e66cb3f-0c51-4212-988b-94d9e08c5b30",
   "metadata": {},
   "outputs": [
    {
     "name": "stdout",
     "output_type": "stream",
     "text": [
      "==, elif true\n"
     ]
    }
   ],
   "source": [
    "a = 5\n",
    "b = 5\n",
    "\n",
    "if a > b:\n",
    "    print('>, if true')\n",
    "elif a == b:\n",
    "    print('==, elif true')\n",
    "else:\n",
    "    print('<, flase')"
   ]
  },
  {
   "cell_type": "code",
   "execution_count": 46,
   "id": "7382b408-671e-4bca-aa42-f8f896fef3fe",
   "metadata": {},
   "outputs": [
    {
     "name": "stdout",
     "output_type": "stream",
     "text": [
      "==, flase\n"
     ]
    }
   ],
   "source": [
    "a = 5\n",
    "b = 5\n",
    "\n",
    "if a > b:\n",
    "    print('>, if true')\n",
    "elif a < b:\n",
    "    print('<, elif true')\n",
    "else:\n",
    "    print('==, flase')"
   ]
  },
  {
   "cell_type": "code",
   "execution_count": 50,
   "id": "bfe247f1-b113-41fc-8aac-4c77b272bfd6",
   "metadata": {},
   "outputs": [
    {
     "name": "stdin",
     "output_type": "stream",
     "text": [
      " 90\n"
     ]
    },
    {
     "name": "stdout",
     "output_type": "stream",
     "text": [
      "A\n"
     ]
    }
   ],
   "source": [
    "score = int(input())\n",
    "\n",
    "if score >= 90:\n",
    "    print('A')\n",
    "elif score >= 80:\n",
    "    print('B')\n",
    "elif score >= 70:\n",
    "    print('C')\n",
    "elif score >= 60:\n",
    "    print('D')\n",
    "else:\n",
    "    print('F')"
   ]
  },
  {
   "cell_type": "code",
   "execution_count": 62,
   "id": "fe2ab8e7-b2a0-4cc3-a17d-a31a665cde20",
   "metadata": {},
   "outputs": [
    {
     "name": "stdin",
     "output_type": "stream",
     "text": [
      " 2000\n"
     ]
    },
    {
     "name": "stdout",
     "output_type": "stream",
     "text": [
      "1\n"
     ]
    }
   ],
   "source": [
    "year = int(input())\n",
    "\n",
    "if year % 4 == 0 and year % 100 != 0:\n",
    "    print(1)\n",
    "elif year % 4 == 0 and year % 400 == 0:\n",
    "    print(1)\n",
    "else:\n",
    "    print(0)"
   ]
  },
  {
   "cell_type": "code",
   "execution_count": 2,
   "id": "7285d092-a84e-4288-a95e-565bc37fb045",
   "metadata": {},
   "outputs": [
    {
     "ename": "_IncompleteInputError",
     "evalue": "incomplete input (1142365166.py, line 6)",
     "output_type": "error",
     "traceback": [
      "\u001b[0;36m  Cell \u001b[0;32mIn[2], line 6\u001b[0;36m\u001b[0m\n\u001b[0;31m    \u001b[0m\n\u001b[0m    ^\u001b[0m\n\u001b[0;31m_IncompleteInputError\u001b[0m\u001b[0;31m:\u001b[0m incomplete input\n"
     ]
    }
   ],
   "source": [
    "year = int(input())\n",
    "\n",
    "if year % 4 == 0:\n",
    "    \n",
    "    "
   ]
  },
  {
   "cell_type": "code",
   "execution_count": null,
   "id": "8b7d1597-3026-404e-aa32-5c50de2a1223",
   "metadata": {},
   "outputs": [],
   "source": []
  }
 ],
 "metadata": {
  "kernelspec": {
   "display_name": "Python 3 (ipykernel)",
   "language": "python",
   "name": "python3"
  },
  "language_info": {
   "codemirror_mode": {
    "name": "ipython",
    "version": 3
   },
   "file_extension": ".py",
   "mimetype": "text/x-python",
   "name": "python",
   "nbconvert_exporter": "python",
   "pygments_lexer": "ipython3",
   "version": "3.13.1"
  }
 },
 "nbformat": 4,
 "nbformat_minor": 5
}
