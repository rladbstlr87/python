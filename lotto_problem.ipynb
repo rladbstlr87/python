{
 "cells": [
  {
   "cell_type": "code",
   "execution_count": 15,
   "id": "82208945-b2c1-4ffe-aed1-52a8023bf0d3",
   "metadata": {},
   "outputs": [],
   "source": [
    "import random"
   ]
  },
  {
   "cell_type": "code",
   "execution_count": 16,
   "id": "0f8759dd-8c86-4d70-9221-bcef33e4bfbe",
   "metadata": {},
   "outputs": [
    {
     "ename": "NameError",
     "evalue": "name 'result' is not defined",
     "output_type": "error",
     "traceback": [
      "\u001b[1;31m---------------------------------------------------------------------------\u001b[0m",
      "\u001b[1;31mNameError\u001b[0m                                 Traceback (most recent call last)",
      "Cell \u001b[1;32mIn[16], line 12\u001b[0m\n\u001b[0;32m      9\u001b[0m yes_no \u001b[38;5;241m=\u001b[39m \u001b[38;5;241m0\u001b[39m\n\u001b[0;32m     10\u001b[0m lucky_nums \u001b[38;5;241m=\u001b[39m [\u001b[38;5;241m3\u001b[39m, \u001b[38;5;241m9\u001b[39m, \u001b[38;5;241m27\u001b[39m, \u001b[38;5;241m28\u001b[39m, \u001b[38;5;241m38\u001b[39m, \u001b[38;5;241m39\u001b[39m]\n\u001b[1;32m---> 12\u001b[0m \u001b[38;5;28;01mif\u001b[39;00m \u001b[43mresult\u001b[49m \u001b[38;5;129;01mnot\u001b[39;00m \u001b[38;5;129;01min\u001b[39;00m lucky_nums:\n\u001b[0;32m     13\u001b[0m     yes_no \u001b[38;5;241m+\u001b[39m\u001b[38;5;241m=\u001b[39m \u001b[38;5;241m1\u001b[39m\n\u001b[0;32m     15\u001b[0m \u001b[38;5;28mprint\u001b[39m(lotto_number(), yes_no)\n",
      "\u001b[1;31mNameError\u001b[0m: name 'result' is not defined"
     ]
    }
   ],
   "source": [
    "def lotto_number():\n",
    "    game_set = range(5)\n",
    "    result = []\n",
    "    for game in game_set:\n",
    "        game = random.sample(range(1, 46), 6)\n",
    "        result.append(game)\n",
    "    return result\n",
    "\n",
    "yes_no = 0\n",
    "lucky_nums = [3, 9, 27, 28, 38, 39]\n",
    "\n",
    "if result not in lucky_nums:\n",
    "    yes_no += 1\n",
    "\n",
    "print(lotto_number(), yes_no)\n",
    "\n",
    "# 로또 번호가 당첨번호 list 안에 있는지 확인하며 당첨번호를 비교하고 in 한 갯수가\n",
    "# 6개면 1등\n",
    "# 5개 + 보너스 번호 2등\n",
    "# 5개면 3등\n",
    "# 4개면 4등\n",
    "# 3개면 5등\n",
    "# 다 아니면 꽝\n",
    "\n",
    "for correct in lucky_nums:\n",
    "    if correct == 6:\n",
    "        print('1등')\n",
    "    elif correct == 5:\n",
    "        print('3등')\n",
    "    elif correct == 4:\n",
    "        print('4등')\n",
    "    elif correct == 3:\n",
    "        print('5등')\n",
    "    else:\n",
    "        print('꽝')"
   ]
  },
  {
   "cell_type": "markdown",
   "id": "ea0e6855-8726-4c33-9e7a-a679e10cfbb2",
   "metadata": {},
   "source": [
    "6 = 1개가 겹치는거\n",
    "5 = 2개\n",
    "4 = 3개 = 5등"
   ]
  },
  {
   "cell_type": "code",
   "execution_count": 17,
   "id": "18dab62a-dfb1-4843-b5c3-0ad52bf73b8a",
   "metadata": {},
   "outputs": [
    {
     "name": "stdout",
     "output_type": "stream",
     "text": [
      "3등\n",
      "3등\n",
      "[43, 39, 29, 21, 30, 28] 4등\n",
      "[43, 39, 29, 21, 30, 28] 5등\n",
      "[43, 39, 29, 21, 30, 28] 꽝\n",
      "[43, 39, 29, 21, 30, 28] 꽝\n"
     ]
    }
   ],
   "source": [
    "game = random.sample(range(1, 46), 6)\n",
    "\n",
    "grade = 0\n",
    "lucky_nums = [3, 9, 27, 28, 38, 39]\n",
    "\n",
    "for select_num in game:\n",
    "    if select_num not in lucky_nums:\n",
    "        grade += 1\n",
    "    if grade == 0 :\n",
    "        print(game,'1등')\n",
    "    elif grade == 1:\n",
    "        if 7 in game:\n",
    "            print(game,'2등')\n",
    "        else:\n",
    "            print('3등')\n",
    "    elif grade == 2:\n",
    "        print(game,'4등')\n",
    "    elif grade == 3:\n",
    "        print(game,'5등')\n",
    "    else:\n",
    "        print(game,'꽝')"
   ]
  },
  {
   "cell_type": "code",
   "execution_count": 18,
   "id": "a86a2716-b9f8-4f00-ab73-03ce6762ee12",
   "metadata": {},
   "outputs": [
    {
     "name": "stdout",
     "output_type": "stream",
     "text": [
      "[[2, 42, 16, 8, 41, 6], [18, 7, 14, 27, 5, 30], [15, 44, 43, 22, 18, 8], [27, 5, 25, 13, 21, 4], [22, 36, 8, 33, 37, 6]]\n"
     ]
    }
   ],
   "source": [
    "def lotto_number():\n",
    "    game_set = range(5)\n",
    "    result = []\n",
    "    for game in game_set:\n",
    "        game = random.sample(range(1, 46), 6)\n",
    "        result.append(game)\n",
    "    return result\n",
    "print(lotto_number())"
   ]
  },
  {
   "cell_type": "code",
   "execution_count": 20,
   "id": "3c11f0ea-3590-45f1-9a12-cd4dd04bd52e",
   "metadata": {},
   "outputs": [
    {
     "name": "stdout",
     "output_type": "stream",
     "text": [
      "[[15, 20, 23, 26, 32, 42], [2, 3, 4, 10, 23, 25], [4, 9, 11, 14, 22, 34], [3, 11, 27, 29, 33, 43], [12, 16, 26, 35, 39, 43]]\n"
     ]
    }
   ],
   "source": [
    "def five_games():\n",
    "    return [sorted(random.sample(range(1, 46), 6)) for _ in range(5)]\n",
    "match_count = 0\n",
    "for match_count in range(6):\n",
    "    if match_count == 6:\n",
    "        print('1등')\n",
    "    elif match_count == 5:\n",
    "        print('3등')\n",
    "    elif match_count == 4:\n",
    "        print('4등')\n",
    "    elif match_count == 3:\n",
    "        print('5등')\n",
    "    else:\n",
    "        print('꽝')"
   ]
  },
  {
   "cell_type": "code",
   "execution_count": null,
   "id": "a3858240-2361-41b5-81fb-dcba931f924a",
   "metadata": {},
   "outputs": [],
   "source": []
  }
 ],
 "metadata": {
  "kernelspec": {
   "display_name": "Python 3 (ipykernel)",
   "language": "python",
   "name": "python3"
  },
  "language_info": {
   "codemirror_mode": {
    "name": "ipython",
    "version": 3
   },
   "file_extension": ".py",
   "mimetype": "text/x-python",
   "name": "python",
   "nbconvert_exporter": "python",
   "pygments_lexer": "ipython3",
   "version": "3.13.2"
  }
 },
 "nbformat": 4,
 "nbformat_minor": 5
}
