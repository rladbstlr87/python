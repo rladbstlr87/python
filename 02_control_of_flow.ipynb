{
 "cells": [
  {
   "cell_type": "markdown",
   "id": "bc141884-83c8-402e-811d-fe7796d0d41e",
   "metadata": {},
   "source": [
    "# 제어문"
   ]
  },
  {
   "cell_type": "markdown",
   "id": "829be56b-8302-4ac4-8dce-b7a1bdffe7fd",
   "metadata": {
    "jp-MarkdownHeadingCollapsed": true
   },
   "source": [
    "## 조건문 (if)\n",
    "1. if는 만드시 참/거짓을 판단할 수 있는 `조건식`과 함께 사용한다.\n",
    "    - `if <조건식>:`\n",
    "2. `<조건식>`이 참 : `:` 이후의 문장을 실행\n",
    "3. `<조건식>`이 거짓 : `else:` 이후의 문장을 실행\n",
    "\n",
    "```\n",
    "if <조건식>:\n",
    "    조건이 참인 경우 실행하는 코드\n",
    "else:\n",
    "    조건이 거짓인 경우 실행하는 코드\n",
    "```"
   ]
  },
  {
   "cell_type": "code",
   "execution_count": 37,
   "id": "b2a93509-a037-4de5-903d-978d2b86b40b",
   "metadata": {},
   "outputs": [
    {
     "name": "stdin",
     "output_type": "stream",
     "text": [
      " 1/1\n"
     ]
    },
    {
     "name": "stdout",
     "output_type": "stream",
     "text": [
      "1/1\n",
      "No\n"
     ]
    }
   ],
   "source": [
    "my_string = input()\n",
    "print(my_string)\n",
    "\n",
    "if my_string == '12/25': # 이거 이따가 여쭤보자 \n",
    "    print('merry christmas!')\n",
    "else:\n",
    "    print('No')"
   ]
  },
  {
   "cell_type": "code",
   "execution_count": 15,
   "id": "ffd7cec4-c711-43cd-b520-4f22247064fd",
   "metadata": {},
   "outputs": [
    {
     "name": "stdin",
     "output_type": "stream",
     "text": [
      "숫자를 입력해주세ㅐ요 123\n"
     ]
    },
    {
     "name": "stdout",
     "output_type": "stream",
     "text": [
      "odd\n"
     ]
    }
   ],
   "source": [
    "num = input('숫자를 입력해주세ㅐ요')\n",
    "\n",
    "if int(num) % 2 == 1:\n",
    "    print('odd')\n",
    "else:\n",
    "    print('even')"
   ]
  },
  {
   "cell_type": "code",
   "execution_count": 20,
   "id": "fbe83282-e0df-4fae-991a-797175510df5",
   "metadata": {},
   "outputs": [
    {
     "name": "stdin",
     "output_type": "stream",
     "text": [
      "숫자를 입력하면 type을 int로 바꿔줍니다. 홀수인가요? 123\n"
     ]
    },
    {
     "name": "stdout",
     "output_type": "stream",
     "text": [
      "odd\n"
     ]
    }
   ],
   "source": [
    "num = int(input('숫자를 입력하면 type을 int로 바꿔줍니다. 홀수인가요?'))\n",
    "\n",
    "if num % 2 == 1:\n",
    "    print('odd')\n",
    "else:\n",
    "    print('even')\n"
   ]
  },
  {
   "cell_type": "code",
   "execution_count": 21,
   "id": "a627cfa1-0e1f-4d1c-b1e6-625c127e6699",
   "metadata": {},
   "outputs": [
    {
     "name": "stdin",
     "output_type": "stream",
     "text": [
      "짝수인가요? 123\n"
     ]
    },
    {
     "name": "stdout",
     "output_type": "stream",
     "text": [
      "odd\n"
     ]
    }
   ],
   "source": [
    "num = int(input('짝수인가요?'))\n",
    "\n",
    "if num % 2 == 0:\n",
    "    print('even')\n",
    "else:\n",
    "    print('odd')"
   ]
  },
  {
   "cell_type": "code",
   "execution_count": 22,
   "id": "35990bd6-f09f-482b-881b-5be2a82afcaf",
   "metadata": {},
   "outputs": [
    {
     "name": "stdin",
     "output_type": "stream",
     "text": [
      "숫자를 입력하면 type을 int로 바꿔줍니다. 홀수인가요? 123\n"
     ]
    },
    {
     "name": "stdout",
     "output_type": "stream",
     "text": [
      "odd\n"
     ]
    }
   ],
   "source": [
    "num = int(input('숫자를 입력하면 type을 int로 바꿔줍니다. 홀수인가요?'))\n",
    "# if는 자동으로 형변환해주는 성격이 있고 '== 블라블라'를 안적으면 'True == 1' 로 동작한다\n",
    "if num % 2:\n",
    "    print('odd')\n",
    "else:\n",
    "    print('even')"
   ]
  },
  {
   "cell_type": "code",
   "execution_count": 29,
   "id": "3e657578-a111-41f3-8676-e3246fe44198",
   "metadata": {},
   "outputs": [
    {
     "name": "stdin",
     "output_type": "stream",
     "text": [
      "5의 배수인지 판단해드리겠습니다 0\n"
     ]
    },
    {
     "name": "stdout",
     "output_type": "stream",
     "text": [
      "yes\n"
     ]
    }
   ],
   "source": [
    "num = int(input('5의 배수인지 판단해드리겠습니다'))\n",
    "\n",
    "if num % 5:\n",
    "    print('no')\n",
    "else:\n",
    "    print('yes')"
   ]
  },
  {
   "cell_type": "markdown",
   "id": "48ab8f0c-80ed-4f2e-aabf-fc2afc21086a",
   "metadata": {
    "jp-MarkdownHeadingCollapsed": true
   },
   "source": [
    "### elif\n",
    "\n",
    "```\n",
    "if <조건식>:\n",
    "    if가 참인 경우\n",
    "elif <조건식>:\n",
    "    elif가 참인 경우\n",
    "else:\n",
    "    위의 모든 조건이 거짓인 경우\n",
    "```"
   ]
  },
  {
   "cell_type": "code",
   "execution_count": 30,
   "id": "e6a291b2-73ee-4b99-82f5-5b458bf1b50e",
   "metadata": {},
   "outputs": [
    {
     "name": "stdin",
     "output_type": "stream",
     "text": [
      " 95\n"
     ]
    },
    {
     "name": "stdout",
     "output_type": "stream",
     "text": [
      "A\n"
     ]
    }
   ],
   "source": [
    "score = int(input())\n",
    "\n",
    "if score >= 90:\n",
    "    print('A')\n",
    "elif score >= 80:\n",
    "    print('B')\n",
    "elif score >= 70:\n",
    "    print('C')\n",
    "else:\n",
    "    print('F')"
   ]
  },
  {
   "cell_type": "code",
   "execution_count": 31,
   "id": "04ce4d39-009b-4955-868b-d14eabe4c0e6",
   "metadata": {},
   "outputs": [
    {
     "name": "stdin",
     "output_type": "stream",
     "text": [
      " 99\n"
     ]
    },
    {
     "name": "stdout",
     "output_type": "stream",
     "text": [
      "A\n",
      "good!!!\n"
     ]
    }
   ],
   "source": [
    "score = int(input())\n",
    "\n",
    "if score >= 90:\n",
    "    print('A')\n",
    "    if score >= 95:\n",
    "        print('good!!!')\n",
    "elif score >= 80:\n",
    "    print('B')\n",
    "elif score >= 70:\n",
    "    print('C')\n",
    "else:\n",
    "    print('F')"
   ]
  },
  {
   "cell_type": "markdown",
   "id": "3a163655-8dfe-4781-88c2-bde09dcab6e2",
   "metadata": {},
   "source": [
    "### 조건표현식\n",
    "- `true_value if <조건식> else false_value`"
   ]
  },
  {
   "cell_type": "code",
   "execution_count": 1,
   "id": "bbec9ad5-0d36-4a31-9bcf-0516cff507e1",
   "metadata": {},
   "outputs": [
    {
     "name": "stdout",
     "output_type": "stream",
     "text": [
      "100\n"
     ]
    }
   ],
   "source": [
    "a = 0\n",
    "if True:\n",
    "    a = 100\n",
    "else:\n",
    "    a = -100\n",
    "print(a)"
   ]
  },
  {
   "cell_type": "code",
   "execution_count": 15,
   "id": "ccc8c271-36e4-4fa1-8cba-64e900400e1a",
   "metadata": {},
   "outputs": [
    {
     "name": "stdout",
     "output_type": "stream",
     "text": [
      "-100\n"
     ]
    }
   ],
   "source": [
    "a = 100 if False else -100\n",
    "print(a)"
   ]
  },
  {
   "cell_type": "code",
   "execution_count": 3,
   "id": "0dea07de-95bc-457e-b5d5-23fc966a89d2",
   "metadata": {},
   "outputs": [
    {
     "name": "stdin",
     "output_type": "stream",
     "text": [
      " -100\n"
     ]
    },
    {
     "name": "stdout",
     "output_type": "stream",
     "text": [
      "0\n"
     ]
    }
   ],
   "source": [
    "num = int(input())\n",
    "\n",
    "if num >= 0:\n",
    "    result = num\n",
    "else:\n",
    "    result = 0\n",
    "print(result)"
   ]
  },
  {
   "cell_type": "code",
   "execution_count": 12,
   "id": "23952a67-a4b9-4ff1-85ce-fc967ee875d9",
   "metadata": {},
   "outputs": [
    {
     "name": "stdin",
     "output_type": "stream",
     "text": [
      " -10\n"
     ]
    },
    {
     "name": "stdout",
     "output_type": "stream",
     "text": [
      "0\n"
     ]
    }
   ],
   "source": [
    "num = int(input())\n",
    "\n",
    "result = num if num >= 0 else 0\n",
    "print(result)"
   ]
  },
  {
   "cell_type": "code",
   "execution_count": 13,
   "id": "cce756fa-ca27-4f94-bcfb-1d3e5cd8df56",
   "metadata": {},
   "outputs": [
    {
     "name": "stdout",
     "output_type": "stream",
     "text": [
      "홀수\n"
     ]
    }
   ],
   "source": [
    "num = 9\n",
    "\n",
    "result = '홀수' if num % 2 else '짝수'\n",
    "print(result)"
   ]
  },
  {
   "cell_type": "code",
   "execution_count": 14,
   "id": "fc1ccc77-0c8c-4a85-a1ca-39ca42f686e6",
   "metadata": {},
   "outputs": [
    {
     "name": "stdout",
     "output_type": "stream",
     "text": [
      "짝수\n"
     ]
    }
   ],
   "source": [
    "num = 10\n",
    "\n",
    "if num % 2:\n",
    "    result = '홀수'\n",
    "else:\n",
    "    result = '짝수'\n",
    "print(result)"
   ]
  },
  {
   "cell_type": "markdown",
   "id": "69918e05-ab71-48e3-93dd-839556e5f8f8",
   "metadata": {},
   "source": [
    "## 반복문"
   ]
  },
  {
   "cell_type": "markdown",
   "id": "db512267-fa03-4f9f-8389-25a57e05caaa",
   "metadata": {},
   "source": [
    "### while\n",
    "- 조건식이 '참'인 동안 코드를 실행하고, 참이 아니면 동작중단\n",
    "```\n",
    "while <조건식>\n",
    "    실행할 코드\n",
    "```"
   ]
  },
  {
   "cell_type": "code",
   "execution_count": 16,
   "id": "23eefb02-586f-4daa-be80-0f974e0c5788",
   "metadata": {},
   "outputs": [
    {
     "name": "stdout",
     "output_type": "stream",
     "text": [
      "0\n",
      "1\n",
      "2\n",
      "3\n",
      "4\n"
     ]
    }
   ],
   "source": [
    "a = 0\n",
    "\n",
    "while a < 5:\n",
    "    print(a)\n",
    "    a += 1 # a += 1 이 수식은 a = a + 1 과 같다"
   ]
  },
  {
   "cell_type": "markdown",
   "id": "d7f495e7-8cc3-4862-8d75-901bd18bf509",
   "metadata": {},
   "source": [
    "### for\n",
    "- 정해진 범위 내의 반복을 할때 쓴다\n",
    "```\n",
    "for variable in sequence:\n",
    "    code\n",
    "```"
   ]
  },
  {
   "cell_type": "markdown",
   "id": "1bd2ee94-9d49-43a2-b99d-5be4ceab1b68",
   "metadata": {},
   "source": [
    "#### 시퀀스 에서의 for문"
   ]
  },
  {
   "cell_type": "code",
   "execution_count": 17,
   "id": "c2b7b048-b26b-4e9b-9ada-6d7fa070dc6d",
   "metadata": {},
   "outputs": [
    {
     "name": "stdout",
     "output_type": "stream",
     "text": [
      "1\n",
      "2\n",
      "3\n",
      "4\n",
      "5\n"
     ]
    }
   ],
   "source": [
    "numbers = [1, 2, 3, 4, 5]\n",
    "\n",
    "for number in numbers:\n",
    "    print(number)"
   ]
  },
  {
   "cell_type": "code",
   "execution_count": 22,
   "id": "c81cad6d-668b-4c7f-9ef7-fff94488c889",
   "metadata": {},
   "outputs": [
    {
     "name": "stdout",
     "output_type": "stream",
     "text": [
      "a\n",
      "p\n",
      "p\n",
      "l\n",
      "e\n"
     ]
    }
   ],
   "source": [
    "word = 'apple'\n",
    "\n",
    "for char in word:\n",
    "    print(char)"
   ]
  },
  {
   "cell_type": "code",
   "execution_count": 20,
   "id": "3b6ce4d1-85ac-453c-a362-defbabbd96cd",
   "metadata": {},
   "outputs": [
    {
     "name": "stdout",
     "output_type": "stream",
     "text": [
      "0\n",
      "1\n",
      "2\n",
      "3\n",
      "4\n"
     ]
    }
   ],
   "source": [
    "for i in range(5):\n",
    "    print(i)"
   ]
  },
  {
   "cell_type": "code",
   "execution_count": 23,
   "id": "b10345b0-dc3d-4e10-b317-b4fa111601d6",
   "metadata": {},
   "outputs": [
    {
     "name": "stdout",
     "output_type": "stream",
     "text": [
      "5\n",
      "10\n",
      "15\n",
      "20\n",
      "25\n",
      "30\n",
      "35\n",
      "40\n",
      "45\n",
      "50\n"
     ]
    }
   ],
   "source": [
    "numbers = range(1, 51)\n",
    "\n",
    "for number in numbers:\n",
    "    if number % 5 == 0:\n",
    "        print(number)"
   ]
  },
  {
   "cell_type": "code",
   "execution_count": 25,
   "id": "7f16daf7-f706-46c7-8930-4c2226008046",
   "metadata": {},
   "outputs": [
    {
     "name": "stdout",
     "output_type": "stream",
     "text": [
      "(0, '서울')\n",
      "(1, '대전')\n",
      "(2, '붓싼')\n"
     ]
    }
   ],
   "source": [
    "locations = ['서울', '대전', '붓싼']\n",
    "for location in enumerate(locations):\n",
    "        print(location)"
   ]
  },
  {
   "cell_type": "code",
   "execution_count": 26,
   "id": "811e2526-a86d-451a-bcb9-1d03adf2af32",
   "metadata": {},
   "outputs": [
    {
     "name": "stdout",
     "output_type": "stream",
     "text": [
      "0\n",
      "서울\n",
      "1\n",
      "대전\n",
      "2\n",
      "붓싼\n"
     ]
    }
   ],
   "source": [
    "locations = ['서울', '대전', '붓싼']\n",
    "for (index, location) in enumerate(locations):\n",
    "    print(index)    \n",
    "    print(location)"
   ]
  },
  {
   "cell_type": "markdown",
   "id": "230472e7-1c29-4bb4-aa79-36e522382f0a",
   "metadata": {},
   "source": [
    "### dictionary 반복\n",
    "1. for key in dict:\n",
    "2. for key in dict.keys(): `윗줄과 완전히 똑같음`\n",
    "3. for value in dict.values():\n",
    "4. for key, value in dict.items():"
   ]
  },
  {
   "cell_type": "code",
   "execution_count": 27,
   "id": "2d795414-5926-483e-9ace-b22f8a998d71",
   "metadata": {},
   "outputs": [],
   "source": [
    "info = {\n",
    "    'name': 'yoonsick',\n",
    "    'location': 'in-cheon',\n",
    "    'phone': '010-8744-7428',\n",
    "    'age': 39,\n",
    "}"
   ]
  },
  {
   "cell_type": "code",
   "execution_count": 28,
   "id": "a782d93c-c99e-46d6-b456-06940a76bfe9",
   "metadata": {},
   "outputs": [
    {
     "name": "stdout",
     "output_type": "stream",
     "text": [
      "name\n",
      "location\n",
      "phone\n",
      "age\n"
     ]
    }
   ],
   "source": [
    "for k in info:\n",
    "    print(k)"
   ]
  },
  {
   "cell_type": "code",
   "execution_count": 33,
   "id": "007305f6-83eb-4ecc-a304-d018a96e1c99",
   "metadata": {},
   "outputs": [
    {
     "name": "stdout",
     "output_type": "stream",
     "text": [
      "name\n",
      "yoonsick\n",
      "location\n",
      "in-cheon\n",
      "phone\n",
      "010-8744-7428\n",
      "age\n",
      "39\n"
     ]
    }
   ],
   "source": [
    "for k in info.keys():\n",
    "    print(k)\n",
    "    print(info[k])"
   ]
  },
  {
   "cell_type": "code",
   "execution_count": 31,
   "id": "09acf4ee-7a78-4e1d-953f-59256a1ae2e3",
   "metadata": {},
   "outputs": [
    {
     "name": "stdout",
     "output_type": "stream",
     "text": [
      "yoonsick\n",
      "in-cheon\n",
      "010-8744-7428\n",
      "39\n"
     ]
    }
   ],
   "source": [
    "for v in info.values():\n",
    "    print(v)"
   ]
  },
  {
   "cell_type": "code",
   "execution_count": 32,
   "id": "06ad544a-d426-4d43-a952-af4b93f00dc4",
   "metadata": {},
   "outputs": [
    {
     "name": "stdout",
     "output_type": "stream",
     "text": [
      "name yoonsick\n",
      "location in-cheon\n",
      "phone 010-8744-7428\n",
      "age 39\n"
     ]
    }
   ],
   "source": [
    "for k, v in info.items():\n",
    "    print(k, v)"
   ]
  },
  {
   "cell_type": "code",
   "execution_count": 34,
   "id": "69f01339-a63a-4dec-8cf6-3f104bf7ec80",
   "metadata": {},
   "outputs": [],
   "source": [
    "blood_type = {\n",
    "    'A': 15,\n",
    "    'B': 8,\n",
    "    'O': 12,\n",
    "    'AB': 2\n",
    "}"
   ]
  },
  {
   "cell_type": "code",
   "execution_count": 36,
   "id": "bd16e8c9-bc14-4126-b2f7-b144977c4f28",
   "metadata": {},
   "outputs": [
    {
     "name": "stdout",
     "output_type": "stream",
     "text": [
      "혈액형 종류는 다음과 같습니다\n",
      "A\n",
      "B\n",
      "O\n",
      "AB\n"
     ]
    }
   ],
   "source": [
    "# 혈액형은 ~가 있습니다\n",
    "print('혈액형 종류는 다음과 같습니다')\n",
    "\n",
    "for blood in blood_type:\n",
    "    print(blood)"
   ]
  },
  {
   "cell_type": "code",
   "execution_count": 40,
   "id": "bacc9d4b-4e8c-44c2-bc38-0d1cf71315e9",
   "metadata": {},
   "outputs": [
    {
     "name": "stdout",
     "output_type": "stream",
     "text": [
      "37\n"
     ]
    }
   ],
   "source": [
    "# 총 학생은 몇명 입니다\n",
    "result = 0\n",
    "for number in blood_type.values():\n",
    "    result = result + number\n",
    "print(result)"
   ]
  },
  {
   "cell_type": "code",
   "execution_count": 44,
   "id": "91509168-e857-42e8-8b80-588272eb9693",
   "metadata": {},
   "outputs": [
    {
     "name": "stdout",
     "output_type": "stream",
     "text": [
      "A형은 15 명입니다\n",
      "B형은 8 명입니다\n",
      "O형은 12 명입니다\n",
      "AB형은 2 명입니다\n"
     ]
    }
   ],
   "source": [
    "for k, v in blood_type.items():\n",
    "    print(f'{k}형은 {v} 명입니다')"
   ]
  },
  {
   "cell_type": "markdown",
   "id": "6620a4f2-c79e-4488-a869-911547340796",
   "metadata": {},
   "source": [
    "### break\n",
    "- 반복문을 종료시키는 키워드"
   ]
  },
  {
   "cell_type": "code",
   "execution_count": 46,
   "id": "8f45f587-d5fd-4e7f-83cc-12e91a65fa86",
   "metadata": {},
   "outputs": [
    {
     "name": "stdout",
     "output_type": "stream",
     "text": [
      "for 위치 0\n",
      "for 위치 1\n",
      "for 위치 2\n",
      "for 위치 3\n",
      "for 위치 4\n",
      "for 위치 5\n",
      "for 위치 6\n",
      "break 위치\n"
     ]
    }
   ],
   "source": [
    "for i in range(10):\n",
    "    print('for 위치', i)\n",
    "    if i > 5:\n",
    "        print('break 위치')\n",
    "        break"
   ]
  },
  {
   "cell_type": "code",
   "execution_count": 47,
   "id": "c1ea256c-c89d-41ee-b872-dd3aeadf1f76",
   "metadata": {},
   "outputs": [
    {
     "name": "stdin",
     "output_type": "stream",
     "text": [
      " 보리\n",
      " 보리\n",
      " ㅇㅇ\n",
      " 쌀\n"
     ]
    },
    {
     "name": "stdout",
     "output_type": "stream",
     "text": [
      "잡았다!!\n"
     ]
    }
   ],
   "source": [
    "while True:\n",
    "    rice = input()\n",
    "    if rice == '쌀':\n",
    "        print('잡았다!!')\n",
    "        break"
   ]
  },
  {
   "cell_type": "markdown",
   "id": "aff03026-a741-4444-8d75-60e673aa9021",
   "metadata": {},
   "source": [
    "### continue\n",
    "\n",
    "continue 이후의 코드를 실행하지 않고(스킵하고) 다음 반복을 진행"
   ]
  },
  {
   "cell_type": "code",
   "execution_count": 49,
   "id": "b8e31b7c-6432-4680-9eb8-8d2206cf2570",
   "metadata": {},
   "outputs": [
    {
     "name": "stdout",
     "output_type": "stream",
     "text": [
      "0\n",
      "2\n",
      "4\n",
      "6\n",
      "8\n",
      "10\n",
      "12\n",
      "14\n",
      "16\n",
      "18\n"
     ]
    }
   ],
   "source": [
    "for i in range(20):\n",
    "    if i % 2 == 1:\n",
    "        continue\n",
    "    print(i)"
   ]
  },
  {
   "cell_type": "code",
   "execution_count": 50,
   "id": "90205c00-67bb-4172-a88f-027bb9b5b2bc",
   "metadata": {},
   "outputs": [
    {
     "name": "stdout",
     "output_type": "stream",
     "text": [
      "20세 = 성인입니다\n",
      "30세 = 성인입니다\n",
      "23세 = 성인입니다\n",
      "43세 = 성인입니다\n",
      "20세 = 성인입니다\n"
     ]
    }
   ],
   "source": [
    "ages = [10, 20, 30, 23, 43, 9, 20]\n",
    "for age in ages:\n",
    "    if age < 20:\n",
    "        continue\n",
    "    print(f'{age}세 = 성인입니다')"
   ]
  },
  {
   "cell_type": "markdown",
   "id": "5183eb6c-0aa0-47d9-b4ce-1827dbe94fa6",
   "metadata": {},
   "source": [
    "### else\n",
    "- else 문은 끝까지 반복된 경우 실행됨\n",
    "== break를 만나지 않은 경우"
   ]
  },
  {
   "cell_type": "code",
   "execution_count": 65,
   "id": "40255380-6eec-416a-af5f-d01cb82a59d8",
   "metadata": {},
   "outputs": [
    {
     "name": "stdout",
     "output_type": "stream",
     "text": [
      "0\n",
      "1\n",
      "2\n",
      "3\n",
      "4\n",
      "5\n",
      "6\n",
      "7\n",
      "8\n",
      "9\n",
      "모두완료!\n"
     ]
    }
   ],
   "source": [
    "for i in range(10):\n",
    "    if i > 9:\n",
    "        break\n",
    "    print(i)\n",
    "else:\n",
    "    print('모두완료!')"
   ]
  },
  {
   "cell_type": "code",
   "execution_count": null,
   "id": "5a1fc84c-39b6-4276-9a42-fadba994bb35",
   "metadata": {},
   "outputs": [],
   "source": []
  }
 ],
 "metadata": {
  "kernelspec": {
   "display_name": "Python 3 (ipykernel)",
   "language": "python",
   "name": "python3"
  },
  "language_info": {
   "codemirror_mode": {
    "name": "ipython",
    "version": 3
   },
   "file_extension": ".py",
   "mimetype": "text/x-python",
   "name": "python",
   "nbconvert_exporter": "python",
   "pygments_lexer": "ipython3",
   "version": "3.13.2"
  }
 },
 "nbformat": 4,
 "nbformat_minor": 5
}
