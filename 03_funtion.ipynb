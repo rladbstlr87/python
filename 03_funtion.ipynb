{
 "cells": [
  {
   "cell_type": "markdown",
   "id": "75a43395-2092-4cad-abfe-84db5b8031a1",
   "metadata": {},
   "source": [
    "# 함수(funtion)"
   ]
  },
  {
   "cell_type": "code",
   "execution_count": 1,
   "id": "61c416e6-2478-4a40-86e4-1b1737cf61bc",
   "metadata": {},
   "outputs": [
    {
     "name": "stdout",
     "output_type": "stream",
     "text": [
      "사각형의 면적은 1000이고 둘레는 140입니다\n"
     ]
    }
   ],
   "source": [
    "# 사각형의 가로와 세로의 길이를 이용하여 면적과 둘레를 구하는 코드\n",
    "\n",
    "height = 50\n",
    "width = 20\n",
    "\n",
    "area = height * width\n",
    "perimeter = (height + width) * 2\n",
    "\n",
    "print(f'사각형의 면적은 {area}이고 둘레는 {perimeter}입니다')"
   ]
  },
  {
   "cell_type": "markdown",
   "id": "edc9f344-a54f-4954-a10b-1b92d856d297",
   "metadata": {},
   "source": [
    "## 함수의 선언과 호출\n",
    "- 선언\n",
    "```python\n",
    "def func_name(none or parameter1, parameter2, ...):\n",
    "    code1\n",
    "    code2\n",
    "    ...\n",
    "    return value\n",
    "```\n",
    "\n",
    "- 호출\n",
    "`func_name(parameter1, parameter2, ...)`"
   ]
  },
  {
   "cell_type": "code",
   "execution_count": 2,
   "id": "b6ae3022-87d6-4658-b942-28b743a9fbab",
   "metadata": {},
   "outputs": [],
   "source": [
    "def rectangle(width, height):\n",
    "    area = width * height\n",
    "    perimeter = (width + height) * 2\n",
    "\n",
    "    print(f'사각형의 면적은 {area}이고 둘레는 {perimeter}입니다')"
   ]
  },
  {
   "cell_type": "code",
   "execution_count": 4,
   "id": "aed7b83a-d791-42f8-85b0-0aafe0160e7f",
   "metadata": {},
   "outputs": [
    {
     "name": "stdout",
     "output_type": "stream",
     "text": [
      "사각형의 면적은 1500이고 둘레는 160입니다\n",
      "사각형의 면적은 2000이고 둘레는 240입니다\n"
     ]
    }
   ],
   "source": [
    "rectangle(50, 30)\n",
    "rectangle(20, 100)"
   ]
  },
  {
   "cell_type": "code",
   "execution_count": 19,
   "id": "ed3716b2-db6a-4605-8db1-6f14f8721edf",
   "metadata": {},
   "outputs": [],
   "source": [
    "# dir(__builtins__) == 파이썬이 기본으로 가지고 잇는 함수 리스트"
   ]
  },
  {
   "cell_type": "code",
   "execution_count": 7,
   "id": "106c7d5b-6acc-452c-8abb-c10d5aa22957",
   "metadata": {},
   "outputs": [
    {
     "data": {
      "text/plain": [
       "100"
      ]
     },
     "execution_count": 7,
     "metadata": {},
     "output_type": "execute_result"
    }
   ],
   "source": [
    "max(1, 100)"
   ]
  },
  {
   "cell_type": "code",
   "execution_count": 17,
   "id": "291697eb-9df7-4ff6-8ac5-a86046dd43b6",
   "metadata": {},
   "outputs": [],
   "source": [
    "def my_max(a, b):\n",
    "    if a > b:\n",
    "        print(a)\n",
    "    elif a < b:\n",
    "        print(b)\n",
    "    else:\n",
    "        print(\"같습니다\")\n",
    "        # max_int = max(a, b)\n",
    "\n",
    "    # print(f'가장 큰 값은 {max_int}입니다')"
   ]
  },
  {
   "cell_type": "code",
   "execution_count": 18,
   "id": "00d29c0d-f078-4905-94e1-c8a022b3d3a9",
   "metadata": {},
   "outputs": [
    {
     "name": "stdout",
     "output_type": "stream",
     "text": [
      "2\n",
      "2\n",
      "같습니다\n"
     ]
    }
   ],
   "source": [
    "my_max(1, 2)\n",
    "my_max(2, 1)\n",
    "my_max(2, 2)"
   ]
  },
  {
   "cell_type": "markdown",
   "id": "6e780d27-b402-4375-a6f2-87122fa1a136",
   "metadata": {},
   "source": [
    "## 함수의 return\n",
    "\n",
    "- 함수가 return을 만나면 해당값 반환하고 함수를 종료\n",
    "- 만약 return이 없는 경우 none을 자동으로 반환\n",
    "- return은 오직 하나의 객체만 반환한다"
   ]
  },
  {
   "cell_type": "code",
   "execution_count": 20,
   "id": "d2c2d3e0-a9e6-45ed-9fd2-cab25104c9cc",
   "metadata": {},
   "outputs": [
    {
     "name": "stdout",
     "output_type": "stream",
     "text": [
      "5\n",
      "None\n"
     ]
    }
   ],
   "source": [
    "result = my_max(2, 5)\n",
    "print(result)\n",
    "# result * 2"
   ]
  },
  {
   "cell_type": "code",
   "execution_count": 1,
   "id": "1bfbf882-3543-40c1-b23e-aa41912a4e9d",
   "metadata": {},
   "outputs": [],
   "source": [
    "def my_max2(num1, num2):\n",
    "    if num1 > num2:\n",
    "        return num1\n",
    "    elif num1 < num2:\n",
    "        return num2\n",
    "    else:\n",
    "        pass"
   ]
  },
  {
   "cell_type": "code",
   "execution_count": 3,
   "id": "a5c06289-0fd8-4e17-8dec-189725620580",
   "metadata": {},
   "outputs": [
    {
     "name": "stdout",
     "output_type": "stream",
     "text": [
      "4\n"
     ]
    }
   ],
   "source": [
    "result = my_max2(3, 4)\n",
    "print(result)"
   ]
  },
  {
   "cell_type": "code",
   "execution_count": 7,
   "id": "595546a2-7b90-4304-a532-7aacc3d8bd4f",
   "metadata": {},
   "outputs": [
    {
     "data": {
      "text/plain": [
       "(20, 10)"
      ]
     },
     "execution_count": 7,
     "metadata": {},
     "output_type": "execute_result"
    }
   ],
   "source": [
    "def my_def(x):\n",
    "    return x * 2, x\n",
    "# == return (x * 2, x)\n",
    "\n",
    "my_def(10)"
   ]
  },
  {
   "cell_type": "code",
   "execution_count": 9,
   "id": "6807ba0b-4c70-4992-954f-526b9e2ef848",
   "metadata": {},
   "outputs": [
    {
     "name": "stdout",
     "output_type": "stream",
     "text": [
      "0\n",
      "1\n",
      "2\n",
      "3\n"
     ]
    },
    {
     "data": {
      "text/plain": [
       "3"
      ]
     },
     "execution_count": 9,
     "metadata": {},
     "output_type": "execute_result"
    }
   ],
   "source": [
    "def my_for(x): # 반복문을 x번 실행할지\n",
    "    for i in range(x):\n",
    "        print(i)\n",
    "        if i == 3:\n",
    "            return i\n",
    "        \n",
    "\n",
    "my_for(5)"
   ]
  },
  {
   "cell_type": "code",
   "execution_count": 28,
   "id": "2084db91-252e-4bf6-a085-6bc7ded8173e",
   "metadata": {},
   "outputs": [],
   "source": [
    "# 각 리스트의 합 중 큰값을 반환하도록\n",
    "def my_list_max(a, b):\n",
    "    sum_of_a = 0 # << 0으로 리셋하여 누적 '합'을 하려할 때 0으로 한다\n",
    "    sum_of_b = 0 # << 누적 '곱'을 구하려면 1로 바꿔야 한다\n",
    "    \n",
    "    for i in a:\n",
    "        sum_of_a += i\n",
    "\n",
    "    for i in b:\n",
    "        sum_of_b += i\n",
    "    \n",
    "    if sum_of_a > sum_of_b:\n",
    "        return a\n",
    "    elif sum_of_a < sum_of_b:\n",
    "        return b\n",
    "    else:\n",
    "        return a, b"
   ]
  },
  {
   "cell_type": "code",
   "execution_count": 35,
   "id": "2927f695-920f-4734-95f6-40e6fee3b985",
   "metadata": {},
   "outputs": [],
   "source": [
    "# version 3\n",
    "def my_list_max(a, b):\n",
    "    sum_of_a = sum(a)\n",
    "    sum_of_b = sum(b)\n",
    "\n",
    "    if sum_of_a > sum_of_b:\n",
    "        return a\n",
    "    elif sum_of_a < sum_of_b:\n",
    "        return b\n",
    "    else:\n",
    "        return a, b"
   ]
  },
  {
   "cell_type": "code",
   "execution_count": 33,
   "id": "82af0208-4ae8-4c01-bb2e-c3900c537c3f",
   "metadata": {},
   "outputs": [
    {
     "data": {
      "text/plain": [
       "[2, 3, 4]"
      ]
     },
     "execution_count": 33,
     "metadata": {},
     "output_type": "execute_result"
    }
   ],
   "source": [
    "my_list_max([1, 2, 3], [2, 3, 4])"
   ]
  },
  {
   "cell_type": "markdown",
   "id": "92585e4b-79ae-4c6c-9a87-006c86625bd8",
   "metadata": {},
   "source": [
    "### 함수의 인수(데이터를 어떻게 넣을 것인가)"
   ]
  },
  {
   "cell_type": "markdown",
   "id": "1adb1f73-d7ab-414e-933d-9dcd08b99a40",
   "metadata": {},
   "source": [
    "#### 위치인수\n",
    "- 기본적으로 함수는 위치를 기준으로 인수를 판단합니다"
   ]
  },
  {
   "cell_type": "code",
   "execution_count": 1,
   "id": "069cfd5b-8524-4d35-bae6-53c81c7223db",
   "metadata": {},
   "outputs": [],
   "source": [
    "#원기둥의 부피를 구해보자\n",
    "def cylinder(r, h):\n",
    "    return 3.14 * r ** 2 * h"
   ]
  },
  {
   "cell_type": "code",
   "execution_count": 3,
   "id": "61cf4821-ff4a-4940-ab7a-370e0ce95bc4",
   "metadata": {},
   "outputs": [
    {
     "data": {
      "text/plain": [
       "282.6"
      ]
     },
     "execution_count": 3,
     "metadata": {},
     "output_type": "execute_result"
    }
   ],
   "source": [
    "cylinder(3, 10)"
   ]
  },
  {
   "cell_type": "code",
   "execution_count": 4,
   "id": "5782cf67-e8e3-4ab9-88a4-f6a7d543ffb7",
   "metadata": {},
   "outputs": [
    {
     "data": {
      "text/plain": [
       "942.0"
      ]
     },
     "execution_count": 4,
     "metadata": {},
     "output_type": "execute_result"
    }
   ],
   "source": [
    "cylinder(10, 3)"
   ]
  },
  {
   "cell_type": "markdown",
   "id": "260eb054-4f0d-4e8b-8ee2-b2ada67409c2",
   "metadata": {},
   "source": [
    "#### 기본값\n",
    "```python\n",
    "def furc_name(parameter1=value1):\n",
    "    code1\n",
    "    return value\n",
    "```"
   ]
  },
  {
   "cell_type": "code",
   "execution_count": 34,
   "id": "ffc0f5fe-3f02-4c39-83a5-42215c745303",
   "metadata": {},
   "outputs": [],
   "source": [
    "def greeting(name='익명'):\n",
    "    return f'{name}님 반갑습니다'"
   ]
  },
  {
   "cell_type": "code",
   "execution_count": 35,
   "id": "59b4b688-d96c-4b96-9f5a-9742429b708d",
   "metadata": {},
   "outputs": [
    {
     "data": {
      "text/plain": [
       "'익명님 반갑습니다'"
      ]
     },
     "execution_count": 35,
     "metadata": {},
     "output_type": "execute_result"
    }
   ],
   "source": [
    "greeting()"
   ]
  },
  {
   "cell_type": "code",
   "execution_count": 38,
   "id": "eeecf481-9ebe-4627-b21a-7d4e52363008",
   "metadata": {},
   "outputs": [
    {
     "name": "stdout",
     "output_type": "stream",
     "text": [
      "안녕하세요***반갑습니다\n"
     ]
    }
   ],
   "source": [
    "print('안녕하세요', '반갑습니다', sep='***', end='\\n')"
   ]
  },
  {
   "cell_type": "code",
   "execution_count": 39,
   "id": "b1312442-a4e8-4d2c-80ad-b893227d8f1c",
   "metadata": {},
   "outputs": [],
   "source": [
    "def greeting(age, name='익명'):\n",
    "    return f'{name}님의 나이는 {age}살 입니다'"
   ]
  },
  {
   "cell_type": "code",
   "execution_count": 40,
   "id": "170a4004-4f3a-4987-9bb2-47106e390eae",
   "metadata": {},
   "outputs": [
    {
     "data": {
      "text/plain": [
       "'익명님의 나이는 10살 입니다'"
      ]
     },
     "execution_count": 40,
     "metadata": {},
     "output_type": "execute_result"
    }
   ],
   "source": [
    "greeting(10)"
   ]
  },
  {
   "cell_type": "markdown",
   "id": "7fac1621-1ef4-4eff-9e85-769043619251",
   "metadata": {},
   "source": [
    "#### 키워드 인수\n",
    "- 함수를 호출(실행)할 때 내가 원하는 위치에 직접적으로 값을 전달"
   ]
  },
  {
   "cell_type": "code",
   "execution_count": 41,
   "id": "5a88334a-8371-4845-b253-eeb6cfa7b42b",
   "metadata": {},
   "outputs": [],
   "source": [
    "def greeting(age, name='익명'):\n",
    "    return f'{name}님의 나이는 {age}살 입니다'"
   ]
  },
  {
   "cell_type": "code",
   "execution_count": 45,
   "id": "68e14afa-2f9d-4b94-a5df-7f72a598aa12",
   "metadata": {},
   "outputs": [
    {
     "data": {
      "text/plain": [
       "'dbstlr님의 나이는 10살 입니다'"
      ]
     },
     "execution_count": 45,
     "metadata": {},
     "output_type": "execute_result"
    }
   ],
   "source": [
    "greeting(10, '윤식')\n",
    "greeting(10)\n",
    "greeting(name='dbstlr', age=10)"
   ]
  },
  {
   "cell_type": "markdown",
   "id": "a58adf05-008d-492f-9353-8c53da25f4f3",
   "metadata": {},
   "source": [
    "#### 가변인자 리스트\n",
    "```python\n",
    "def func_name(*parms): #parameters\n",
    "    code1\n",
    "    code2\n",
    "    ...\n",
    "    return value\n",
    "```"
   ]
  },
  {
   "cell_type": "code",
   "execution_count": 46,
   "id": "a7018d21-b4d3-44f2-b226-d3684e0da938",
   "metadata": {},
   "outputs": [
    {
     "name": "stdout",
     "output_type": "stream",
     "text": [
      "1 2 qwer\n"
     ]
    }
   ],
   "source": [
    "print(1, 2, 'qwer') # 인자를 몇 개를 넣든 다 작동한다"
   ]
  },
  {
   "cell_type": "code",
   "execution_count": 47,
   "id": "5e75b49a-9de9-42b9-8088-4b6de8bf5bb3",
   "metadata": {},
   "outputs": [],
   "source": [
    "def my_print(*words):\n",
    "    print(words)"
   ]
  },
  {
   "cell_type": "code",
   "execution_count": 49,
   "id": "0686eb4f-421b-477d-9047-477e5b3c535b",
   "metadata": {},
   "outputs": [
    {
     "name": "stdout",
     "output_type": "stream",
     "text": [
      "('my', 'name', 'is')\n"
     ]
    }
   ],
   "source": [
    "my_print('my', 'name', 'is')"
   ]
  },
  {
   "cell_type": "code",
   "execution_count": 50,
   "id": "d2532dec-6645-4753-86af-1569da2e2b80",
   "metadata": {},
   "outputs": [
    {
     "data": {
      "text/plain": [
       "54"
      ]
     },
     "execution_count": 50,
     "metadata": {},
     "output_type": "execute_result"
    }
   ],
   "source": [
    "max(1, 2, 3, 4, 54)"
   ]
  },
  {
   "cell_type": "code",
   "execution_count": 88,
   "id": "126f6df1-738f-4953-8d01-957015bdcf4f",
   "metadata": {},
   "outputs": [],
   "source": [
    "def my_max(*ints):\n",
    "    max_int = ints[0] # 시작점\n",
    "    for int in ints:\n",
    "        if max_int < int:\n",
    "            max_int = int\n",
    "    \n",
    "            \n",
    "    return max_int"
   ]
  },
  {
   "cell_type": "code",
   "execution_count": 89,
   "id": "025f8838-bcb5-4872-8279-a52fd53a937e",
   "metadata": {},
   "outputs": [
    {
     "data": {
      "text/plain": [
       "100"
      ]
     },
     "execution_count": 89,
     "metadata": {},
     "output_type": "execute_result"
    }
   ],
   "source": [
    "my_max(100, 2, 3, 4, 56)"
   ]
  },
  {
   "cell_type": "code",
   "execution_count": null,
   "id": "ce2b7a99-077e-41e8-8141-18d63a2df6d8",
   "metadata": {},
   "outputs": [],
   "source": []
  }
 ],
 "metadata": {
  "kernelspec": {
   "display_name": "Python 3 (ipykernel)",
   "language": "python",
   "name": "python3"
  },
  "language_info": {
   "codemirror_mode": {
    "name": "ipython",
    "version": 3
   },
   "file_extension": ".py",
   "mimetype": "text/x-python",
   "name": "python",
   "nbconvert_exporter": "python",
   "pygments_lexer": "ipython3",
   "version": "3.13.2"
  }
 },
 "nbformat": 4,
 "nbformat_minor": 5
}
