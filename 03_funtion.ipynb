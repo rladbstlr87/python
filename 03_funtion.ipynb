{
 "cells": [
  {
   "cell_type": "markdown",
   "id": "75a43395-2092-4cad-abfe-84db5b8031a1",
   "metadata": {},
   "source": [
    "# 함수(funtion)"
   ]
  },
  {
   "cell_type": "code",
   "execution_count": 1,
   "id": "61c416e6-2478-4a40-86e4-1b1737cf61bc",
   "metadata": {},
   "outputs": [
    {
     "name": "stdout",
     "output_type": "stream",
     "text": [
      "사각형의 면적은 1000이고 둘레는 140입니다\n"
     ]
    }
   ],
   "source": [
    "# 사각형의 가로와 세로의 길이를 이용하여 면적과 둘레를 구하는 코드\n",
    "\n",
    "height = 50\n",
    "width = 20\n",
    "\n",
    "area = height * width\n",
    "perimeter = (height + width) * 2\n",
    "\n",
    "print(f'사각형의 면적은 {area}이고 둘레는 {perimeter}입니다')"
   ]
  },
  {
   "cell_type": "markdown",
   "id": "edc9f344-a54f-4954-a10b-1b92d856d297",
   "metadata": {},
   "source": [
    "## 함수의 선언과 호출\n",
    "- 선언\n",
    "```python\n",
    "def func_name(none or parameter1, parameter2, ...):\n",
    "    code1\n",
    "    code2\n",
    "    ...\n",
    "    return value\n",
    "```\n",
    "\n",
    "- 호출\n",
    "`func_name(parameter1, parameter2, ...)`"
   ]
  },
  {
   "cell_type": "code",
   "execution_count": 2,
   "id": "b6ae3022-87d6-4658-b942-28b743a9fbab",
   "metadata": {},
   "outputs": [],
   "source": [
    "def rectangle(width, height):\n",
    "    area = width * height\n",
    "    perimeter = (width + height) * 2\n",
    "\n",
    "    print(f'사각형의 면적은 {area}이고 둘레는 {perimeter}입니다')"
   ]
  },
  {
   "cell_type": "code",
   "execution_count": 4,
   "id": "aed7b83a-d791-42f8-85b0-0aafe0160e7f",
   "metadata": {},
   "outputs": [
    {
     "name": "stdout",
     "output_type": "stream",
     "text": [
      "사각형의 면적은 1500이고 둘레는 160입니다\n",
      "사각형의 면적은 2000이고 둘레는 240입니다\n"
     ]
    }
   ],
   "source": [
    "rectangle(50, 30)\n",
    "rectangle(20, 100)"
   ]
  },
  {
   "cell_type": "code",
   "execution_count": 19,
   "id": "ed3716b2-db6a-4605-8db1-6f14f8721edf",
   "metadata": {},
   "outputs": [],
   "source": [
    "# dir(__builtins__) == 파이썬이 기본으로 가지고 잇는 함수 리스트"
   ]
  },
  {
   "cell_type": "code",
   "execution_count": 7,
   "id": "106c7d5b-6acc-452c-8abb-c10d5aa22957",
   "metadata": {},
   "outputs": [
    {
     "data": {
      "text/plain": [
       "100"
      ]
     },
     "execution_count": 7,
     "metadata": {},
     "output_type": "execute_result"
    }
   ],
   "source": [
    "max(1, 100)"
   ]
  },
  {
   "cell_type": "code",
   "execution_count": 17,
   "id": "291697eb-9df7-4ff6-8ac5-a86046dd43b6",
   "metadata": {},
   "outputs": [],
   "source": [
    "def my_max(a, b):\n",
    "    if a > b:\n",
    "        print(a)\n",
    "    elif a < b:\n",
    "        print(b)\n",
    "    else:\n",
    "        print(\"같습니다\")\n",
    "        # max_int = max(a, b)\n",
    "\n",
    "    # print(f'가장 큰 값은 {max_int}입니다')"
   ]
  },
  {
   "cell_type": "code",
   "execution_count": 18,
   "id": "00d29c0d-f078-4905-94e1-c8a022b3d3a9",
   "metadata": {},
   "outputs": [
    {
     "name": "stdout",
     "output_type": "stream",
     "text": [
      "2\n",
      "2\n",
      "같습니다\n"
     ]
    }
   ],
   "source": [
    "my_max(1, 2)\n",
    "my_max(2, 1)\n",
    "my_max(2, 2)"
   ]
  },
  {
   "cell_type": "markdown",
   "id": "6e780d27-b402-4375-a6f2-87122fa1a136",
   "metadata": {},
   "source": [
    "## 함수의 return\n",
    "\n",
    "- 함수가 return을 만나면 해당값 반환하고 함수를 종료\n",
    "- 만약 return이 없는 경우 none을 자동으로 반환\n",
    "- return은 오직 하나의 객체만 반환한다"
   ]
  },
  {
   "cell_type": "code",
   "execution_count": 20,
   "id": "d2c2d3e0-a9e6-45ed-9fd2-cab25104c9cc",
   "metadata": {},
   "outputs": [
    {
     "name": "stdout",
     "output_type": "stream",
     "text": [
      "5\n",
      "None\n"
     ]
    }
   ],
   "source": [
    "result = my_max(2, 5)\n",
    "print(result)\n",
    "# result * 2"
   ]
  },
  {
   "cell_type": "code",
   "execution_count": null,
   "id": "1bfbf882-3543-40c1-b23e-aa41912a4e9d",
   "metadata": {},
   "outputs": [],
   "source": []
  }
 ],
 "metadata": {
  "kernelspec": {
   "display_name": "Python 3 (ipykernel)",
   "language": "python",
   "name": "python3"
  },
  "language_info": {
   "codemirror_mode": {
    "name": "ipython",
    "version": 3
   },
   "file_extension": ".py",
   "mimetype": "text/x-python",
   "name": "python",
   "nbconvert_exporter": "python",
   "pygments_lexer": "ipython3",
   "version": "3.13.2"
  }
 },
 "nbformat": 4,
 "nbformat_minor": 5
}
