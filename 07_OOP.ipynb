{
 "cells": [
  {
   "cell_type": "markdown",
   "id": "5f75dc28-8ba5-42e6-83c1-42231cfc630c",
   "metadata": {},
   "source": [
    "# 객체지향 프로그래밍 (OOP - 오브젝트...)\n",
    "\n",
    "- 클래스 : 같은 종류의 집단에 속하는 `속성`과 `행동`을 `정의`한 것\n",
    "- 속성 attribute : 클래스/인스턴스가 가지고 잇는 데이터/값\n",
    "- 행동 method : 클래스/인스턴스가 가지고 있는 함수/기능(클래스 안에 있는 함수는 메소드라고 부른다)\n",
    "- 인스턴스 : 클래스를 실제로 메모리상에 할당한 것"
   ]
  },
  {
   "cell_type": "code",
   "execution_count": 5,
   "id": "d678f629-a105-4ea9-a5b7-b30de4f22cd2",
   "metadata": {},
   "outputs": [],
   "source": [
    "number = 1 + 2j # (복소수)"
   ]
  },
  {
   "cell_type": "code",
   "execution_count": 6,
   "id": "78f3dd6e-c33f-4b89-86a7-804f72752600",
   "metadata": {},
   "outputs": [
    {
     "name": "stdout",
     "output_type": "stream",
     "text": [
      "<class 'complex'>\n"
     ]
    }
   ],
   "source": [
    "print(type(number))"
   ]
  },
  {
   "cell_type": "code",
   "execution_count": 7,
   "id": "947aba54-6d91-4a7c-aa98-b490a523a7e0",
   "metadata": {},
   "outputs": [
    {
     "data": {
      "text/plain": [
       "1.0"
      ]
     },
     "execution_count": 7,
     "metadata": {},
     "output_type": "execute_result"
    }
   ],
   "source": [
    "number.real # 실수부분의 데이터에 접근한 것. 변수니까 괄호가 안붙는다"
   ]
  },
  {
   "cell_type": "code",
   "execution_count": 8,
   "id": "da1436b0-0dd0-4a56-9bc2-d03e8f8405af",
   "metadata": {},
   "outputs": [
    {
     "data": {
      "text/plain": [
       "2.0"
      ]
     },
     "execution_count": 8,
     "metadata": {},
     "output_type": "execute_result"
    }
   ],
   "source": [
    "number.imag # 허수부의 데이터에 접근한 것"
   ]
  },
  {
   "cell_type": "code",
   "execution_count": 11,
   "id": "df087273-c1bb-4407-9a21-916105890cf7",
   "metadata": {},
   "outputs": [
    {
     "name": "stdout",
     "output_type": "stream",
     "text": [
      "<class 'list'>\n"
     ]
    }
   ],
   "source": [
    "numbers = [1, 2, 3, 0, 5]\n",
    "print(type(numbers))"
   ]
  },
  {
   "cell_type": "code",
   "execution_count": 12,
   "id": "028f31ba-4da4-44f8-a5ca-c8302bc62cd8",
   "metadata": {},
   "outputs": [
    {
     "name": "stdout",
     "output_type": "stream",
     "text": [
      "[5, 0, 3, 2, 1]\n"
     ]
    }
   ],
   "source": [
    "numbers.reverse() # 기능(함수)를 실행했으므로 괄호가 붙는다\n",
    "print(numbers)"
   ]
  },
  {
   "cell_type": "code",
   "execution_count": 14,
   "id": "86072b81-9423-446f-be41-cb3f85934479",
   "metadata": {},
   "outputs": [
    {
     "name": "stdout",
     "output_type": "stream",
     "text": [
      "010-4567-1234가 010-8787-5454한테 전화 거는중\n"
     ]
    }
   ],
   "source": [
    "# 핸드폰 1\n",
    "number = '010-4567-1234'\n",
    "power = True\n",
    "phone_book = {\n",
    "    'name': 'kim',\n",
    "    'location': 'seoul',\n",
    "    'age': 20,\n",
    "    'phone_book': {\n",
    "        'kim': '010-8787-5454',\n",
    "        'park': '010-1234-4567'\n",
    "    },\n",
    "    'models': ['iphone', 'ipad'],\n",
    "}\n",
    "\n",
    "def call(from_num, to_num):\n",
    "    print(f'{from_num}가 {to_num}한테 전화 거는중')\n",
    "\n",
    "call(number, phone_book['phone_book']['kim'])"
   ]
  },
  {
   "cell_type": "code",
   "execution_count": 15,
   "id": "6ba42e4a-cf92-487b-9ddf-56ed83b253e2",
   "metadata": {},
   "outputs": [],
   "source": [
    "# 핸드폰 2\n",
    "number2 = '010-4567-1234'   # 클래스를 만들어서 핸드폰 1 핸드폰 2로만 바꾸는 객체지향을 하지 않으면\n",
    "power2 = True               # 변수에 일일이 바리에이션을 줘야 하므로 번거롭다\n",
    "phone_book2 = {\n",
    "    'name': 'kim',\n",
    "    'location': 'seoul',\n",
    "    'age': 20,\n",
    "    'phone_book': {\n",
    "        'kim': '010-8787-5454',\n",
    "        'park': '010-1234-4567'\n",
    "    },\n",
    "    'models': ['iphone', 'ipad'],\n",
    "}"
   ]
  },
  {
   "cell_type": "markdown",
   "id": "642d2f44-93a7-443b-af58-0e8cd188ebf6",
   "metadata": {},
   "source": [
    "## class\n",
    "\n",
    "- 클래서 선언/정의\n",
    "```python\n",
    "class ClassName(): # 대소문자 표기법이 def와는 조금 다르게 camel case(낙타 등 처럼 모든 단어의 시작하는 알파벳을 대문자로)\n",
    "    attribute1 = value1\n",
    "    attribute2 = value2\n",
    "    ...\n",
    "\n",
    "    def method_name1(self):\n",
    "        code\n",
    "\n",
    "    def method_name2(self):\n",
    "        code\n",
    "\n",
    "```\n",
    "\n",
    "- 인스턴스화(클래스 실행)\n",
    "```python\n",
    "c = ClassName()\n",
    "```"
   ]
  },
  {
   "cell_type": "code",
   "execution_count": 16,
   "id": "6ef6f194-4f11-4865-8038-58a583286c27",
   "metadata": {},
   "outputs": [],
   "source": [
    "# 선언(정의)\n",
    "class MyClass():\n",
    "    name = 'kim'\n",
    "\n",
    "    def hello(self):\n",
    "        return 'hihihihihi'"
   ]
  },
  {
   "cell_type": "code",
   "execution_count": 17,
   "id": "4bde2990-b1f2-4af8-a222-e2c968ff7dc9",
   "metadata": {},
   "outputs": [],
   "source": [
    "# 인스턴스화\n",
    "m = MyClass()"
   ]
  },
  {
   "cell_type": "code",
   "execution_count": 19,
   "id": "65bfc978-41b4-44fd-8aa2-8fbc53438ca1",
   "metadata": {},
   "outputs": [
    {
     "name": "stdout",
     "output_type": "stream",
     "text": [
      "<class '__main__.MyClass'>\n"
     ]
    }
   ],
   "source": [
    "print(type(m)) # 우리가 직접 만들어서 __main__ 붙은거라고 이해하자"
   ]
  },
  {
   "cell_type": "code",
   "execution_count": 23,
   "id": "502c376d-e785-4f87-8a32-118637f81d6b",
   "metadata": {},
   "outputs": [
    {
     "name": "stdout",
     "output_type": "stream",
     "text": [
      "kim\n",
      "hihihihihi\n"
     ]
    }
   ],
   "source": [
    "print(m.name)\n",
    "print(m.hello())"
   ]
  },
  {
   "cell_type": "code",
   "execution_count": 24,
   "id": "099c0582-b8dc-4f3f-8a34-9bc11d72a9e9",
   "metadata": {},
   "outputs": [
    {
     "name": "stdout",
     "output_type": "stream",
     "text": [
      "<class 'str'>\n",
      "<class 'str'>\n"
     ]
    }
   ],
   "source": [
    "print(type(m.name))\n",
    "print(type(m.hello()))"
   ]
  },
  {
   "cell_type": "code",
   "execution_count": 21,
   "id": "882bafb4-cc1b-4019-9a3f-c5e786cc272e",
   "metadata": {},
   "outputs": [
    {
     "name": "stdout",
     "output_type": "stream",
     "text": [
      "kim\n",
      "hihihihihi\n"
     ]
    }
   ],
   "source": [
    "m2 = MyClass()\n",
    "print(m2.name)\n",
    "print(m2.hello())"
   ]
  },
  {
   "cell_type": "code",
   "execution_count": 22,
   "id": "518dd499-90e0-4a8b-acd2-d79000eb35fa",
   "metadata": {},
   "outputs": [
    {
     "name": "stdout",
     "output_type": "stream",
     "text": [
      "kim\n",
      "park\n"
     ]
    }
   ],
   "source": [
    "m2.name = 'park'\n",
    "\n",
    "print(m.name)\n",
    "print(m2.name)"
   ]
  },
  {
   "cell_type": "code",
   "execution_count": 42,
   "id": "9f901ba8-e36c-4853-8acf-b16bf424f540",
   "metadata": {},
   "outputs": [],
   "source": [
    "class Phone():\n",
    "    power = False\n",
    "    number = '010-0000-0000'\n",
    "    book = {}\n",
    "    model = ''\n",
    "\n",
    "    def on(self):\n",
    "        if self.power == False:\n",
    "            self.power = True\n",
    "\n",
    "    def off(self):\n",
    "        if self.power == True:\n",
    "            self.power = False\n",
    "\n",
    "    def call(self, target):\n",
    "        if self.power == True:\n",
    "            print(f'{self.number}가 {target.number}한테 전화 거는중')\n",
    "        else:\n",
    "            print('핸드폰이 꺼져있습니다')"
   ]
  },
  {
   "cell_type": "code",
   "execution_count": 43,
   "id": "c3ce933f-c453-4332-ab54-fbd4515e3474",
   "metadata": {},
   "outputs": [],
   "source": [
    "my_phone = Phone()\n",
    "your_phone = Phone()"
   ]
  },
  {
   "cell_type": "code",
   "execution_count": 44,
   "id": "a8eb2746-b5d8-4d0e-bae4-f35228b19ff0",
   "metadata": {},
   "outputs": [
    {
     "data": {
      "text/plain": [
       "'010-0000-0000'"
      ]
     },
     "execution_count": 44,
     "metadata": {},
     "output_type": "execute_result"
    }
   ],
   "source": [
    "my_phone.number"
   ]
  },
  {
   "cell_type": "code",
   "execution_count": 45,
   "id": "4a6b257c-a057-4e22-8452-d30026c41e7c",
   "metadata": {},
   "outputs": [
    {
     "data": {
      "text/plain": [
       "'010-0000-0000'"
      ]
     },
     "execution_count": 45,
     "metadata": {},
     "output_type": "execute_result"
    }
   ],
   "source": [
    "your_phone.number"
   ]
  },
  {
   "cell_type": "code",
   "execution_count": 46,
   "id": "25b20f0a-ed3f-41f4-97cd-79e626fcee26",
   "metadata": {},
   "outputs": [
    {
     "name": "stdout",
     "output_type": "stream",
     "text": [
      "010-4567-1234\n"
     ]
    }
   ],
   "source": [
    "my_phone.number = '010-4567-1234'\n",
    "print(my_phone.number)"
   ]
  },
  {
   "cell_type": "code",
   "execution_count": 47,
   "id": "2890ce60-31d0-4170-8632-677fcbdc45fa",
   "metadata": {},
   "outputs": [
    {
     "data": {
      "text/plain": [
       "False"
      ]
     },
     "execution_count": 47,
     "metadata": {},
     "output_type": "execute_result"
    }
   ],
   "source": [
    "my_phone.power"
   ]
  },
  {
   "cell_type": "code",
   "execution_count": 48,
   "id": "aefc9fec-a9a3-46d7-9e22-560bf070d15b",
   "metadata": {},
   "outputs": [],
   "source": [
    "my_phone.on()"
   ]
  },
  {
   "cell_type": "code",
   "execution_count": 49,
   "id": "b11097ca-5646-424e-b5a1-ea539e69a149",
   "metadata": {},
   "outputs": [
    {
     "data": {
      "text/plain": [
       "True"
      ]
     },
     "execution_count": 49,
     "metadata": {},
     "output_type": "execute_result"
    }
   ],
   "source": [
    "my_phone.power"
   ]
  },
  {
   "cell_type": "code",
   "execution_count": 50,
   "id": "3f3991c7-e81e-4f28-b28c-547172bf92e3",
   "metadata": {},
   "outputs": [
    {
     "data": {
      "text/plain": [
       "False"
      ]
     },
     "execution_count": 50,
     "metadata": {},
     "output_type": "execute_result"
    }
   ],
   "source": [
    "your_phone.power"
   ]
  },
  {
   "cell_type": "code",
   "execution_count": 52,
   "id": "90dd122f-e232-4667-bf43-b41f60d6ebcd",
   "metadata": {},
   "outputs": [
    {
     "name": "stdout",
     "output_type": "stream",
     "text": [
      "010-4567-1234가 010-0000-0000한테 전화 거는중\n"
     ]
    }
   ],
   "source": [
    "my_phone.call(your_phone)"
   ]
  },
  {
   "cell_type": "code",
   "execution_count": 53,
   "id": "3b0f1607-793e-4e33-9255-322e3c7d5214",
   "metadata": {},
   "outputs": [
    {
     "name": "stdout",
     "output_type": "stream",
     "text": [
      "핸드폰이 꺼져있습니다\n"
     ]
    }
   ],
   "source": [
    "your_phone.call(my_phone)"
   ]
  },
  {
   "cell_type": "code",
   "execution_count": 89,
   "id": "8eea8d75-1516-4d3d-897e-2349243d69e5",
   "metadata": {},
   "outputs": [],
   "source": [
    "class Person():\n",
    "    name = ''\n",
    "    gender = ''\n",
    "    age = 0\n",
    "    height = 0\n",
    "\n",
    "    def greeting(self):\n",
    "        return print(f'안녕하세요 저는 {self.name}입니다')\n",
    "\n",
    "    def next_year(self):\n",
    "        self.age += 1"
   ]
  },
  {
   "cell_type": "code",
   "execution_count": 90,
   "id": "2986e3ef-2c7d-4cf1-8e62-9d2ae0c1d189",
   "metadata": {},
   "outputs": [],
   "source": [
    "p1 = Person()\n",
    "p2 = Person()"
   ]
  },
  {
   "cell_type": "code",
   "execution_count": 91,
   "id": "75136a62-00ea-4e28-91b7-a92073d4e039",
   "metadata": {},
   "outputs": [
    {
     "name": "stdout",
     "output_type": "stream",
     "text": [
      " \n"
     ]
    }
   ],
   "source": [
    "print(p1.name, p2.name)"
   ]
  },
  {
   "cell_type": "code",
   "execution_count": 92,
   "id": "46933f48-6f18-4048-b498-bfe0671f5e87",
   "metadata": {},
   "outputs": [],
   "source": [
    "p1.name = 'hong'\n",
    "p2.name = 'kim'\n",
    "\n",
    "p1.gender = 'F'\n",
    "p2.gender = 'M'\n",
    "\n",
    "p1.age = 30\n",
    "p2.age = 38\n",
    "\n",
    "p1.height = 163\n",
    "p2.height = 177"
   ]
  },
  {
   "cell_type": "code",
   "execution_count": 93,
   "id": "a8720c39-676e-4687-a183-118b59f2fc5f",
   "metadata": {},
   "outputs": [
    {
     "name": "stdout",
     "output_type": "stream",
     "text": [
      "안녕하세요 저는 hong입니다\n"
     ]
    }
   ],
   "source": [
    "p1.greeting()"
   ]
  },
  {
   "cell_type": "code",
   "execution_count": 94,
   "id": "fed1f7c1-bd61-4812-86d1-175bc5a18b88",
   "metadata": {},
   "outputs": [
    {
     "name": "stdout",
     "output_type": "stream",
     "text": [
      "안녕하세요 저는 kim입니다\n",
      "None\n"
     ]
    }
   ],
   "source": [
    "print(p2.greeting())"
   ]
  },
  {
   "cell_type": "code",
   "execution_count": 95,
   "id": "003c9239-0849-48e7-81dd-f3f6efe55fbe",
   "metadata": {},
   "outputs": [
    {
     "name": "stdout",
     "output_type": "stream",
     "text": [
      "안녕하세요 저는 hong입니다\n",
      "None\n",
      "안녕하세요 저는 hong입니다\n",
      "None\n"
     ]
    }
   ],
   "source": [
    "print(Person.greeting(p1))\n",
    "print(p1.greeting())"
   ]
  },
  {
   "cell_type": "markdown",
   "id": "fde4721e-7b48-4daf-a728-c74b0b3c0a71",
   "metadata": {},
   "source": [
    "## 생성자, 소멸자\n",
    "- p1 = Person(이름, 성별..) 미리 생성\n",
    "- p2 = Person()\n",
    "\n",
    "```python\n",
    "class MyClass():\n",
    "\n",
    "    def __init__(self):\n",
    "        pass\n",
    "        \n",
    "    def __del__(self):\n",
    "        pass\n",
    "```"
   ]
  },
  {
   "cell_type": "code",
   "execution_count": 164,
   "id": "4fe1c39d-d111-4627-a4b1-9468d7e20e74",
   "metadata": {},
   "outputs": [],
   "source": [
    "class Person():\n",
    "    name = ''\n",
    "\n",
    "    def __init__(self, name):\n",
    "        self.name = name\n",
    "        print('생성됨')\n",
    "\n",
    "    def __del__(self):\n",
    "        print('소멸됨')"
   ]
  },
  {
   "cell_type": "code",
   "execution_count": 111,
   "id": "3ebb432d-a34d-45ad-a7a2-cfc95f1eb542",
   "metadata": {},
   "outputs": [
    {
     "name": "stdout",
     "output_type": "stream",
     "text": [
      "소멸됨\n"
     ]
    },
    {
     "ename": "TypeError",
     "evalue": "Person.__init__() missing 1 required positional argument: 'name'",
     "output_type": "error",
     "traceback": [
      "\u001b[1;31m---------------------------------------------------------------------------\u001b[0m",
      "\u001b[1;31mTypeError\u001b[0m                                 Traceback (most recent call last)",
      "Cell \u001b[1;32mIn[111], line 1\u001b[0m\n\u001b[1;32m----> 1\u001b[0m p1 \u001b[38;5;241m=\u001b[39m \u001b[43mPerson\u001b[49m\u001b[43m(\u001b[49m\u001b[43m)\u001b[49m \u001b[38;5;66;03m# => Person.__init__(p1, ?????)\u001b[39;00m\n",
      "\u001b[1;31mTypeError\u001b[0m: Person.__init__() missing 1 required positional argument: 'name'"
     ]
    }
   ],
   "source": [
    "p1 = Person() # => Person.__init__(p1, ?????)"
   ]
  },
  {
   "cell_type": "code",
   "execution_count": 114,
   "id": "1b356edc-9afa-46d2-820a-4c44a8447526",
   "metadata": {},
   "outputs": [
    {
     "name": "stdout",
     "output_type": "stream",
     "text": [
      "생성됨\n",
      "생성됨\n",
      "소멸됨\n"
     ]
    }
   ],
   "source": [
    "p1 = Person('kim')\n",
    "p2 = Person('park')"
   ]
  },
  {
   "cell_type": "code",
   "execution_count": 113,
   "id": "a06f0689-aa02-4cc4-b1b2-dad5fdb10810",
   "metadata": {},
   "outputs": [
    {
     "name": "stdout",
     "output_type": "stream",
     "text": [
      "소멸됨\n"
     ]
    }
   ],
   "source": [
    "del p1"
   ]
  },
  {
   "cell_type": "code",
   "execution_count": 118,
   "id": "a8088956-1906-4d77-a063-9ebfc0b4c8a7",
   "metadata": {},
   "outputs": [],
   "source": [
    "class Circle():\n",
    "    def __init__(self, r, x, y):\n",
    "        self.r = r\n",
    "        self.x = x\n",
    "        self.y = y\n",
    "\n",
    "    def info(self):\n",
    "        print(f'반지름: {self.r}, 중심점: {self.x}, {self.y}')"
   ]
  },
  {
   "cell_type": "code",
   "execution_count": 121,
   "id": "2efce5db-fcb3-4555-bc80-ef7251f38702",
   "metadata": {},
   "outputs": [],
   "source": [
    "c1 = Circle(3, 0, 0)\n",
    "c2 = Circle(5, 1, 1)"
   ]
  },
  {
   "cell_type": "code",
   "execution_count": 122,
   "id": "887de7dd-7772-439a-bf59-ee4629433543",
   "metadata": {},
   "outputs": [
    {
     "name": "stdout",
     "output_type": "stream",
     "text": [
      "반지름: 3, 중심점: 0, 0\n",
      "반지름: 5, 중심점: 1, 1\n"
     ]
    }
   ],
   "source": [
    "c1.info()\n",
    "c2.info()"
   ]
  },
  {
   "cell_type": "code",
   "execution_count": 145,
   "id": "7f60e2b0-0ab9-4191-8d0b-0c251cdfaa90",
   "metadata": {},
   "outputs": [],
   "source": [
    "class Circle():\n",
    "    pi = 3.14\n",
    "    def __init__(self, r, x=0, y=0):\n",
    "        self.r = r\n",
    "        self.x = x\n",
    "        self.y = y\n",
    "\n",
    "    def info(self):\n",
    "        print(f'반지름: {self.r}, 중심점: {self.x}, {self.y}')\n",
    "\n",
    "    def area(self):\n",
    "        return self.r ** 2 * self.pi\n",
    "\n",
    "    def round(self):\n",
    "        return self.r * self.pi * 2\n",
    "\n",
    "    def move(self, x, y):\n",
    "        self.x = x\n",
    "        self.y = y"
   ]
  },
  {
   "cell_type": "code",
   "execution_count": 146,
   "id": "d9881231-6660-49b8-968c-30e87efc7434",
   "metadata": {},
   "outputs": [],
   "source": [
    "c1 = Circle(3)\n",
    "c2 = Circle(5, 1, 1)"
   ]
  },
  {
   "cell_type": "code",
   "execution_count": 147,
   "id": "4036853b-8438-49ba-8d6a-f9bdba7aeaf5",
   "metadata": {},
   "outputs": [
    {
     "name": "stdout",
     "output_type": "stream",
     "text": [
      "반지름: 3, 중심점: 0, 0\n",
      "반지름: 5, 중심점: 1, 1\n"
     ]
    }
   ],
   "source": [
    "c1.info()\n",
    "c2.info()"
   ]
  },
  {
   "cell_type": "code",
   "execution_count": 148,
   "id": "256f9f85-80b1-4394-b88e-d953adc99211",
   "metadata": {},
   "outputs": [
    {
     "name": "stdout",
     "output_type": "stream",
     "text": [
      "28.26\n",
      "78.5\n"
     ]
    }
   ],
   "source": [
    "print(c1.area())\n",
    "print(c2.area())"
   ]
  },
  {
   "cell_type": "code",
   "execution_count": 149,
   "id": "9f612dac-21f8-4f5e-9a90-4c828a1973f0",
   "metadata": {},
   "outputs": [
    {
     "name": "stdout",
     "output_type": "stream",
     "text": [
      "18.84\n",
      "31.400000000000002\n"
     ]
    }
   ],
   "source": [
    "print(c1.round())\n",
    "print(c2.round())"
   ]
  },
  {
   "cell_type": "code",
   "execution_count": 150,
   "id": "494b03da-0524-46bb-93d8-ff579e524845",
   "metadata": {},
   "outputs": [
    {
     "name": "stdout",
     "output_type": "stream",
     "text": [
      "반지름: 3, 중심점: 100, 100\n"
     ]
    }
   ],
   "source": [
    "c1.move(100, 100)\n",
    "c1.info()"
   ]
  },
  {
   "cell_type": "code",
   "execution_count": 158,
   "id": "a9a58206-c590-49d1-bd3e-e59315cd04dc",
   "metadata": {},
   "outputs": [],
   "source": [
    "class Point():\n",
    "    def __init__(self, x=0, y=0):\n",
    "        self.x = x\n",
    "        self.y = y\n",
    "\n",
    "    def info(self):\n",
    "        print(f'{self.x}, {self.y}')\n",
    "\n",
    "    def move(self, x, y):\n",
    "        self.x = x\n",
    "        self.y = y"
   ]
  },
  {
   "cell_type": "code",
   "execution_count": 159,
   "id": "589d6ce9-1c5c-418b-8028-ef5996feba57",
   "metadata": {},
   "outputs": [],
   "source": [
    "p1 = Point(1, 1)\n",
    "p2 = Point(2, 3)"
   ]
  },
  {
   "cell_type": "code",
   "execution_count": 165,
   "id": "a9c64f74-e733-4ba0-bab1-486a95ff5237",
   "metadata": {},
   "outputs": [],
   "source": [
    "class Circle():\n",
    "    pi = 3.14\n",
    "    def __init__(self, r, point):\n",
    "        self.r = r\n",
    "        self.point = point\n",
    "\n",
    "    def info(self):\n",
    "        print(f'반지름: {self.r}, 중심점: {self.point.x}, {self.point.y}')"
   ]
  },
  {
   "cell_type": "code",
   "execution_count": 167,
   "id": "4f2df5ea-e1aa-4984-9d78-435277274cf8",
   "metadata": {},
   "outputs": [],
   "source": [
    "c1 = Circle(10, p1)\n",
    "c2 = Circle(5, p2)"
   ]
  },
  {
   "cell_type": "code",
   "execution_count": 168,
   "id": "5d596e42-5588-493e-83c7-bf771d906c13",
   "metadata": {},
   "outputs": [
    {
     "name": "stdout",
     "output_type": "stream",
     "text": [
      "반지름: 10, 중심점: 1, 1\n"
     ]
    }
   ],
   "source": [
    "c1.info()"
   ]
  },
  {
   "cell_type": "markdown",
   "id": "a07e08e5-c224-45fd-b674-0208deaf227e",
   "metadata": {},
   "source": [
    "### class 변수 / instance 변수\n",
    "\n",
    "- 클래스 변수 : 클래스 선언 블록 최상단에 위치\n",
    "- 인스턴스 변수 : 인스턴스 내부에서 생성한 변수\n",
    "\n",
    "```python\n",
    "class MyClass():\n",
    "    class_variable = '클래스변수' # 클래스 전체가 가지고 있는 기본정보다\n",
    "\n",
    "    def __init__(self):\n",
    "        self.instance_variable = '인스턴스변수'\n",
    "\n",
    "```"
   ]
  },
  {
   "cell_type": "code",
   "execution_count": 170,
   "id": "9d87c61e-f2a8-48a7-a3f6-d68b41b41b8b",
   "metadata": {},
   "outputs": [],
   "source": [
    "class Person():\n",
    "    name = 'hong'\n",
    "    age = 10\n",
    "\n",
    "    def __init__(self, name):\n",
    "        self.name = name"
   ]
  },
  {
   "cell_type": "code",
   "execution_count": 171,
   "id": "b2ae8c8a-c3de-4012-afc5-be42e5a1474e",
   "metadata": {},
   "outputs": [
    {
     "name": "stdout",
     "output_type": "stream",
     "text": [
      "oh\n",
      "10\n"
     ]
    }
   ],
   "source": [
    "p1 = Person('oh')\n",
    "print(p1.name)\n",
    "print(p1.age)"
   ]
  },
  {
   "cell_type": "markdown",
   "id": "fe356cf7-8f9a-40fc-9c64-9f16c098471c",
   "metadata": {},
   "source": [
    "### class methods / instance methods / static methods\n",
    "- 대부분 인스턴스 메소드\n",
    "- 스태틱은 거의 안쓰인다고 하시긴 햇음\n",
    "\n",
    "```python\n",
    "def instance_method(self):\n",
    "    def instance_method(self):\n",
    "    print(self)\n",
    "\n",
    "    @classmethod\n",
    "    def class_method(cls): # cls : class\n",
    "        print(cls)\n",
    "\n",
    "    @staticmethod\n",
    "    def static_method():\n",
    "        print('static')\n",
    "```"
   ]
  },
  {
   "cell_type": "code",
   "execution_count": 181,
   "id": "480464fa-56a4-4974-b067-763a62150e92",
   "metadata": {},
   "outputs": [],
   "source": [
    "class MyClass():\n",
    "    def instance_method(self):\n",
    "        print(self)\n",
    "\n",
    "    @classmethod\n",
    "    def class_method(cls):\n",
    "        print(cls)\n",
    "\n",
    "    @staticmethod\n",
    "    def static_method():\n",
    "        print('static')"
   ]
  },
  {
   "cell_type": "code",
   "execution_count": 182,
   "id": "d649a5c7-a9d8-4589-941f-6de697c26508",
   "metadata": {},
   "outputs": [
    {
     "name": "stdout",
     "output_type": "stream",
     "text": [
      "<__main__.MyClass object at 0x0000017601770050>\n",
      "<__main__.MyClass object at 0x0000017601770050>\n"
     ]
    }
   ],
   "source": [
    "mc = MyClass()\n",
    "mc.instance_method() # => self\n",
    "print(mc)"
   ]
  },
  {
   "cell_type": "code",
   "execution_count": 184,
   "id": "8653dd8b-02e9-4271-a866-93650bbab119",
   "metadata": {},
   "outputs": [
    {
     "name": "stdout",
     "output_type": "stream",
     "text": [
      "<class '__main__.MyClass'>\n",
      "<class '__main__.MyClass'>\n"
     ]
    }
   ],
   "source": [
    "mc.class_method() # => cls\n",
    "print(MyClass)"
   ]
  },
  {
   "cell_type": "code",
   "execution_count": 185,
   "id": "3d4fafd0-093a-425d-a3d3-e3dd8a0e2c9e",
   "metadata": {},
   "outputs": [
    {
     "name": "stdout",
     "output_type": "stream",
     "text": [
      "static\n"
     ]
    }
   ],
   "source": [
    "mc.static_method()"
   ]
  },
  {
   "cell_type": "code",
   "execution_count": 186,
   "id": "3f19ad67-5ed6-4f97-b238-a838dd2d75b1",
   "metadata": {},
   "outputs": [],
   "source": [
    "\n",
    "class Puppy():\n",
    "    num_of_puppy = 0\n",
    "\n",
    "    def __init__(self, name):\n",
    "        self.name = name\n",
    "        Puppy.num_of_puppy += 1\n",
    "\n",
    "    @classmethod\n",
    "    def info(cls):\n",
    "        print(f'현재 강아지는 {cls.num_of_puppy}마리입니다.')\n",
    "\n",
    "    def bark(self):\n",
    "        print(f'멍멍! {self.name}입니다.')\n",
    "\n",
    "    @staticmethod\n",
    "    def bark2():\n",
    "        print('왈왈!')"
   ]
  },
  {
   "cell_type": "code",
   "execution_count": 188,
   "id": "56045f94-f498-428c-8756-fc5bd508e81c",
   "metadata": {},
   "outputs": [
    {
     "name": "stdout",
     "output_type": "stream",
     "text": [
      "현재 강아지는 6마리입니다.\n"
     ]
    }
   ],
   "source": [
    "p1 = Puppy('초코')\n",
    "p2 = Puppy('구름')\n",
    "p3 = Puppy('인절미')\n",
    "\n",
    "Puppy.info()"
   ]
  },
  {
   "cell_type": "code",
   "execution_count": 190,
   "id": "6d3e792d-7c03-4faa-8996-82634f1065b6",
   "metadata": {},
   "outputs": [
    {
     "name": "stdout",
     "output_type": "stream",
     "text": [
      "멍멍! 초코입니다.\n",
      "멍멍! 구름입니다.\n"
     ]
    }
   ],
   "source": [
    "p1.bark()\n",
    "p2.bark()"
   ]
  },
  {
   "cell_type": "markdown",
   "id": "0ae4cb46-8d59-41f5-968e-54cf3ce571b8",
   "metadata": {},
   "source": [
    "- 클래스\n",
    "    - 데이터/변수/속성/attribute\n",
    "        - 클래스변수\n",
    "        - 인스턴스변수\n",
    "    - 기능/동작/함수/method\n",
    "        - 클래스변수에 접근하려면 클래스메소드 사용\n",
    "        - 인스턴스변수에 접근하려면 인스턴스메소드 사용\n",
    "        - 둘다 필요없는 경우 스태틱메소드 사용"
   ]
  },
  {
   "cell_type": "markdown",
   "id": "ed9ff792-e16f-40eb-bae5-ca4267637945",
   "metadata": {},
   "source": [
    "## 상속\n",
    "- 상속은 다른 사람이 만들어놓은 클래스를 받아와서 쓰기 위해 알아야 한다\n",
    "- 상속해서 쓰세요~ 많이 말할거라서 끌어서 상속하는 연습 필요"
   ]
  },
  {
   "cell_type": "code",
   "execution_count": 192,
   "id": "a1ed9323-9684-46fc-b96b-3b41054c59b3",
   "metadata": {},
   "outputs": [],
   "source": [
    "class Person():\n",
    "    ident = ''\n",
    "\n",
    "    def __init__(self, name):\n",
    "        self.name = name\n",
    "\n",
    "    def greeting(self):\n",
    "        print(f'안녕하세요. {self.name}입니다.')"
   ]
  },
  {
   "cell_type": "code",
   "execution_count": 193,
   "id": "305e111e-eb15-46ec-800a-23102f177e50",
   "metadata": {},
   "outputs": [],
   "source": [
    "p1 = Person('hong')\n",
    "p2 = Person('kim')"
   ]
  },
  {
   "cell_type": "code",
   "execution_count": 195,
   "id": "72c69f2e-5fe6-467b-b0f4-131faeb86e8f",
   "metadata": {},
   "outputs": [
    {
     "name": "stdout",
     "output_type": "stream",
     "text": [
      "안녕하세요. hong입니다.\n",
      "안녕하세요. kim입니다.\n"
     ]
    }
   ],
   "source": [
    "p1.greeting()\n",
    "p2.greeting()"
   ]
  },
  {
   "cell_type": "code",
   "execution_count": 197,
   "id": "9fda32a4-0016-469a-a893-6c396f80a575",
   "metadata": {},
   "outputs": [
    {
     "data": {
      "text/plain": [
       "'999999-1111111'"
      ]
     },
     "execution_count": 197,
     "metadata": {},
     "output_type": "execute_result"
    }
   ],
   "source": [
    "p1.ident = '999999-1111111'\n",
    "p1.ident"
   ]
  },
  {
   "cell_type": "code",
   "execution_count": 198,
   "id": "62f79ce1-3874-4112-9a74-167ef7d5e214",
   "metadata": {},
   "outputs": [],
   "source": [
    "class Soldier(Person):\n",
    "    def greeting(self):\n",
    "        print(f'충성! {self.name}입니다.')\n",
    "    # ident = ''\n",
    "\n",
    "    # def __init__(self, name):\n",
    "    #     self.name = name\n",
    "\n",
    "    # def greeting(self):\n",
    "    #     print(f'안녕하세요. {self.name}입니다.')"
   ]
  },
  {
   "cell_type": "code",
   "execution_count": 200,
   "id": "adeaac9e-7856-4ce1-a547-d4440eefd75c",
   "metadata": {},
   "outputs": [
    {
     "name": "stdout",
     "output_type": "stream",
     "text": [
      "충성! 굳건이입니다.\n"
     ]
    }
   ],
   "source": [
    "s1 = Soldier('굳건이')\n",
    "s1.greeting()\n",
    "# s1.soldier_greeting()"
   ]
  },
  {
   "cell_type": "code",
   "execution_count": 202,
   "id": "b265ca79-691f-4afd-9722-4922605c4503",
   "metadata": {},
   "outputs": [
    {
     "data": {
      "text/plain": [
       "'25-12341234'"
      ]
     },
     "execution_count": 202,
     "metadata": {},
     "output_type": "execute_result"
    }
   ],
   "source": [
    "s1.ident = '25-12341234'\n",
    "s1.ident"
   ]
  },
  {
   "cell_type": "code",
   "execution_count": 203,
   "id": "34e39a38-8fa7-4fe7-a2b3-7b58a9b0a564",
   "metadata": {},
   "outputs": [],
   "source": [
    "class Person():\n",
    "    def __init__(self, name, age, email, phone):\n",
    "        self.name = name\n",
    "        self.age = age\n",
    "        self.email = email\n",
    "        self.phone = phone\n",
    "\n",
    "class Student(Person):\n",
    "    def __init__(self, name, age, email, phone, student_id):\n",
    "        super().__init__(name, age, email, phone)\n",
    "        self.student_id = student_id"
   ]
  },
  {
   "cell_type": "markdown",
   "id": "b485eb2f-9661-42e6-9f5a-29cfd7c74d7d",
   "metadata": {},
   "source": [
    "### 다중상속"
   ]
  },
  {
   "cell_type": "code",
   "execution_count": 213,
   "id": "addd6506-d266-4c9b-b541-3d052dad93d6",
   "metadata": {},
   "outputs": [],
   "source": [
    "class Person():\n",
    "    def __init__(self, name):\n",
    "        self.name = name\n",
    "\n",
    "    def breath(self):\n",
    "        print('후하')\n",
    "class Mom(Person):\n",
    "    gene = 'xx'\n",
    "\n",
    "    def swim(self):\n",
    "        print('어푸어푸')\n",
    "class Dad(Person):\n",
    "    gene = 'xy'\n",
    "\n",
    "    def run(self):\n",
    "        print('다다다')\n",
    "class Child(Dad, Mom):\n",
    "    pass"
   ]
  },
  {
   "cell_type": "code",
   "execution_count": 214,
   "id": "e711ae8f-02e4-4e7d-8189-fa555a024476",
   "metadata": {},
   "outputs": [
    {
     "name": "stdout",
     "output_type": "stream",
     "text": [
      "후하\n",
      "다다다\n",
      "어푸어푸\n"
     ]
    }
   ],
   "source": [
    "c = Child('금쪽이')\n",
    "c.breath()\n",
    "c.run()\n",
    "c.swim()"
   ]
  },
  {
   "cell_type": "code",
   "execution_count": 212,
   "id": "b98f2ccf-f941-4521-b10c-b430eb6626b3",
   "metadata": {},
   "outputs": [
    {
     "data": {
      "text/plain": [
       "'xy'"
      ]
     },
     "execution_count": 212,
     "metadata": {},
     "output_type": "execute_result"
    }
   ],
   "source": [
    "c.gene"
   ]
  },
  {
   "cell_type": "markdown",
   "id": "bc3f48d3-5076-488a-a248-a69bd342b080",
   "metadata": {},
   "source": [
    "# 다른 사람이 쓴 코드를 읽고 이해해보자"
   ]
  },
  {
   "cell_type": "code",
   "execution_count": 215,
   "id": "94eff3be-eb4b-402a-bd46-06eaf0af5e7d",
   "metadata": {},
   "outputs": [
    {
     "name": "stdout",
     "output_type": "stream",
     "text": [
      "배틀 시작!\n",
      "꼬부기이(가) 파이리에게 5의 데미지를 입혔습니다!\n",
      "파이리이(가) 꼬부기에게 5의 데미지를 입혔습니다!\n",
      "꼬부기 - 체력: 45\n",
      "파이리 - 체력: 45\n",
      "----------\n",
      "꼬부기이(가) 파이리에게 5의 데미지를 입혔습니다!\n",
      "파이리이(가) 꼬부기에게 5의 데미지를 입혔습니다!\n",
      "꼬부기 - 체력: 40\n",
      "파이리 - 체력: 40\n",
      "----------\n",
      "꼬부기이(가) 파이리에게 10의 데미지를 입혔습니다!\n",
      "파이리이(가) 꼬부기에게 10의 데미지를 입혔습니다!\n",
      "꼬부기 - 체력: 30\n",
      "파이리 - 체력: 30\n",
      "----------\n",
      "꼬부기이(가) 파이리에게 10의 데미지를 입혔습니다!\n",
      "파이리이(가) 꼬부기에게 5의 데미지를 입혔습니다!\n",
      "꼬부기 - 체력: 25\n",
      "파이리 - 체력: 20\n",
      "----------\n",
      "꼬부기이(가) 파이리에게 15의 데미지를 입혔습니다!\n",
      "파이리이(가) 꼬부기에게 10의 데미지를 입혔습니다!\n",
      "꼬부기 - 체력: 15\n",
      "파이리 - 체력: 5\n",
      "----------\n",
      "꼬부기이(가) 파이리에게 10의 데미지를 입혔습니다!\n",
      "파이리가 쓰러졌습니다! 꼬부기 승리!\n"
     ]
    }
   ],
   "source": [
    "import random\n",
    "\n",
    "# 포켓몬 클래스 정의\n",
    "class Pokemon:\n",
    "    def __init__(self, name, level=5):\n",
    "        self.name = name            # 포켓몬 이름\n",
    "        self.level = level          # 포켓몬 레벨 (기본값 5)\n",
    "        self.hp = level * 10        # 체력은 레벨에 따라 결정 (예: 레벨 5면 체력 50)\n",
    "\n",
    "    def attack(self, opponent):\n",
    "        # 간단한 공격: 데미지는 레벨과 1부터 3 사이의 랜덤 숫자를 곱해 결정합니다.\n",
    "        damage = self.level * random.randint(1, 3)\n",
    "        print(f\"{self.name}이(가) {opponent.name}에게 {damage}의 데미지를 입혔습니다!\")\n",
    "        opponent.hp -= damage\n",
    "\n",
    "    def is_knocked_out(self):\n",
    "        # 체력이 0 이하이면 쓰러진 것으로 간주\n",
    "        return self.hp <= 0\n",
    "\n",
    "    def status(self):\n",
    "        # 현재 상태(이름과 체력)를 출력하는 메서드\n",
    "        print(f\"{self.name} - 체력: {self.hp}\")\n",
    "\n",
    "# 포켓몬 객체 생성 (타입 정보를 제거)\n",
    "kobugi = Pokemon(\"꼬부기\", level=5)\n",
    "pairi = Pokemon(\"파이리\", level=5)\n",
    "\n",
    "# 배틀 시뮬레이션 시작\n",
    "print(\"배틀 시작!\")\n",
    "while True:\n",
    "    # 꼬부기가 파이리를 공격\n",
    "    kobugi.attack(pairi)\n",
    "    if pairi.is_knocked_out():\n",
    "        print(f\"{pairi.name}가 쓰러졌습니다! {kobugi.name} 승리!\")\n",
    "        break\n",
    "\n",
    "    # 파이리가 꼬부기를 공격\n",
    "    pairi.attack(kobugi)\n",
    "    if kobugi.is_knocked_out():\n",
    "        print(f\"{kobugi.name}가 쓰러졌습니다! {pairi.name} 승리!\")\n",
    "        break\n",
    "\n",
    "    # 각 포켓몬의 현재 체력을 출력\n",
    "    kobugi.status()\n",
    "    pairi.status()\n",
    "    print(\"----------\")"
   ]
  },
  {
   "cell_type": "code",
   "execution_count": 217,
   "id": "0a5c5e1c-5b6f-49a1-9018-98c8b8545d00",
   "metadata": {},
   "outputs": [
    {
     "name": "stdout",
     "output_type": "stream",
     "text": [
      "<class 'str'>\n"
     ]
    }
   ],
   "source": [
    "print(type('@' * 4))"
   ]
  },
  {
   "cell_type": "code",
   "execution_count": null,
   "id": "4dea169c-3857-4151-9185-e157fc4a5526",
   "metadata": {},
   "outputs": [],
   "source": []
  }
 ],
 "metadata": {
  "kernelspec": {
   "display_name": "Python 3 (ipykernel)",
   "language": "python",
   "name": "python3"
  },
  "language_info": {
   "codemirror_mode": {
    "name": "ipython",
    "version": 3
   },
   "file_extension": ".py",
   "mimetype": "text/x-python",
   "name": "python",
   "nbconvert_exporter": "python",
   "pygments_lexer": "ipython3",
   "version": "3.13.2"
  }
 },
 "nbformat": 4,
 "nbformat_minor": 5
}
