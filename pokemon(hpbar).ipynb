{
 "cells": [
  {
   "cell_type": "code",
   "execution_count": 26,
   "id": "c901949b-235f-4b2f-b41d-cb6ad2e4c414",
   "metadata": {},
   "outputs": [
    {
     "name": "stdout",
     "output_type": "stream",
     "text": [
      "배틀 시작!\n",
      "꼬부기이(가) 파이리에게 10의 데미지를 입혔습니다\n",
      "파이리이(가) 꼬부기에게 15의 데미지를 입혔습니다\n",
      "꼬부기의 체력 : @@@@@@@35\n",
      "파이리의 체력 : @@@@@@@@40\n",
      "----------------\n",
      "꼬부기이(가) 파이리에게 5의 데미지를 입혔습니다\n",
      "파이리이(가) 꼬부기에게 10의 데미지를 입혔습니다\n",
      "꼬부기의 체력 : @@@@@25\n",
      "파이리의 체력 : @@@@@@@35\n",
      "----------------\n",
      "꼬부기이(가) 파이리에게 5의 데미지를 입혔습니다\n",
      "파이리이(가) 꼬부기에게 5의 데미지를 입혔습니다\n",
      "꼬부기의 체력 : @@@@20\n",
      "파이리의 체력 : @@@@@@30\n",
      "----------------\n",
      "꼬부기이(가) 파이리에게 15의 데미지를 입혔습니다\n",
      "파이리이(가) 꼬부기에게 5의 데미지를 입혔습니다\n",
      "꼬부기의 체력 : @@@15\n",
      "파이리의 체력 : @@@15\n",
      "----------------\n",
      "꼬부기이(가) 파이리에게 15의 데미지를 입혔습니다\n",
      "파이리이(가) 쓰러졌습니다! 꼬부기 승리!\n"
     ]
    }
   ],
   "source": [
    "# 포켓몬 클래스 정의\n",
    "import random\n",
    "class Pokemon:\n",
    "    def __init__(self, name, level=5):\n",
    "        self.name = name\n",
    "        self.level = level\n",
    "        self.hp = level * 10\n",
    "        self.hpbar =  '@' * int(self.hp / 5)\n",
    "\n",
    "    def attack(self, opponent):\n",
    "        damage = self.level * random.randint(1, 3)\n",
    "        print(f'{self.name}이(가) {opponent.name}에게 {damage}의 데미지를 입혔습니다')\n",
    "        opponent.hp -= damage\n",
    "        opponent.hpbar = '@' * int(opponent.hp / 5)\n",
    "        \n",
    "    def is_knocked_out(self):\n",
    "        return self.hp <= 0\n",
    "\n",
    "    def status(self):\n",
    "        print(f'{self.name}의 체력 : {self.hpbar}{self.hp}')\n",
    "\n",
    "# 포켓몬 객체 생성(무속성 타입)\n",
    "kobuki = Pokemon('꼬부기')\n",
    "pairi = Pokemon('파이리')\n",
    "\n",
    "# 배틀 시뮬레이션 시작\n",
    "print('배틀 시작!')\n",
    "while True:\n",
    "    kobuki.attack(pairi)\n",
    "    if pairi.is_knocked_out():\n",
    "        print(f'{pairi.name}이(가) 쓰러졌습니다! {kobuki.name} 승리!')\n",
    "        break\n",
    "\n",
    "    pairi.attack(kobuki)\n",
    "    if kobuki.is_knocked_out():\n",
    "        print(f'{kobuki.name}이(가) 쓰러졌습니다! {pairi.name} 승리!')\n",
    "        break\n",
    "\n",
    "    kobuki.status()\n",
    "    pairi.status()\n",
    "    print('----------------')"
   ]
  },
  {
   "cell_type": "code",
   "execution_count": null,
   "id": "6a192b8d-cf11-4d15-89c7-a86776f884ca",
   "metadata": {},
   "outputs": [],
   "source": []
  }
 ],
 "metadata": {
  "kernelspec": {
   "display_name": "Python 3 (ipykernel)",
   "language": "python",
   "name": "python3"
  },
  "language_info": {
   "codemirror_mode": {
    "name": "ipython",
    "version": 3
   },
   "file_extension": ".py",
   "mimetype": "text/x-python",
   "name": "python",
   "nbconvert_exporter": "python",
   "pygments_lexer": "ipython3",
   "version": "3.13.2"
  }
 },
 "nbformat": 4,
 "nbformat_minor": 5
}
