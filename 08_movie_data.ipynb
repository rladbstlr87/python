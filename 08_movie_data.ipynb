{
 "cells": [
  {
   "cell_type": "markdown",
   "id": "6ea5ca45-f07f-4873-b402-9585fb6b1fe4",
   "metadata": {},
   "source": [
    "# 영화진흥위원회 데이터 수집"
   ]
  },
  {
   "cell_type": "markdown",
   "id": "de9c2940-4b3a-451a-aa8f-bf61ddad4be8",
   "metadata": {},
   "source": [
    "## setting"
   ]
  },
  {
   "cell_type": "code",
   "execution_count": 2,
   "id": "7f103712-82c7-48f0-8633-7b160156ef50",
   "metadata": {},
   "outputs": [],
   "source": [
    "import requests\n",
    "\n",
    "class URLMaker:\n",
    "    \"\"\"\n",
    "    영화진흥위원회 API URL 생성 클래스\n",
    "    \"\"\"\n",
    "    \n",
    "    url = 'http://www.kobis.or.kr/kobisopenapi/webservice/rest'\n",
    "\n",
    "    def __init__(self, key):\n",
    "        \"\"\"\n",
    "        API key 초기화\n",
    "        \"\"\"\n",
    "        self.key = key\n",
    "\n",
    "    def daily_boxoffice_url(self, targetDt, itemPerPage=10, multiMovieYn='', repNationCd='', wideAreaCd=''):\n",
    "        \"\"\"\n",
    "        일별 박스오피스 URL 생성\n",
    "        \"\"\"\n",
    "        return f'{self.url}/boxoffice/searchDailyBoxOfficeList.json?key={self.key}&targetDt={targetDt}&itemPerPage={itemPerPage}&multiMovieYn={multiMovieYn}&repNationCd={repNationCd}&wideAreaCd={wideAreaCd}'\n",
    "\n",
    "    def weekly_boxoffice_url(self, targetDt, weekGb='0', itemPerPage=10, multiMovieYn='', repNationCd='', wideAreaCd=''):\n",
    "        \"\"\"\n",
    "        주간/주말 박스오피스 URL 생성\n",
    "        weekGb: 0(주간), 1(주말), 2(주중)\n",
    "        \"\"\"\n",
    "        return f'{self.url}/boxoffice/searchWeeklyBoxOfficeList.json?key={self.key}&targetDt={targetDt}&weekGb={weekGb}&itemPerPage={itemPerPage}&multiMovieYn={multiMovieYn}&repNationCd={repNationCd}&wideAreaCd={wideAreaCd}'\n",
    "\n",
    "    def movie_list_url(self, curPage=1, itemPerPage=10, movieNm='', directorNm='', openStartDt='', openEndDt='', \n",
    "                      prdtStartYear='', prdtEndYear='', repNationCd='', movieTypeCd=''):\n",
    "        \"\"\"\n",
    "        영화목록 URL 생성\n",
    "        \"\"\"\n",
    "        return f'{self.url}/movie/searchMovieList.json?key={self.key}&curPage={curPage}&itemPerPage={itemPerPage}&movieNm={movieNm}&directorNm={directorNm}&openStartDt={openStartDt}&openEndDt={openEndDt}&prdtStartYear={prdtStartYear}&prdtEndYear={prdtEndYear}&repNationCd={repNationCd}&movieTypeCd={movieTypeCd}'\n",
    "\n",
    "    def movie_info_url(self, movieCd):\n",
    "        \"\"\"\n",
    "        영화 상세정보 URL 생성\n",
    "        \"\"\"\n",
    "        return f'{self.url}/movie/searchMovieInfo.json?key={self.key}&movieCd={movieCd}'\n",
    "\n",
    "    def people_list_url(self, curPage=1, itemPerPage=10, peopleNm='', filmoNames=''):\n",
    "        \"\"\"\n",
    "        영화인목록 URL 생성\n",
    "        \"\"\"\n",
    "        return f'{self.url}/people/searchPeopleList.json?key={self.key}&curPage={curPage}&itemPerPage={itemPerPage}&peopleNm={peopleNm}&filmoNames={filmoNames}'\n",
    "\n",
    "    def people_info_url(self, peopleCd):\n",
    "        \"\"\"\n",
    "        영화인 상세정보 URL 생성\n",
    "        \"\"\"\n",
    "        return f'{self.url}/people/searchPeopleInfo.json?key={self.key}&peopleCd={peopleCd}'\n",
    "\n",
    "\n",
    "    "
   ]
  },
  {
   "cell_type": "code",
   "execution_count": 3,
   "id": "e78744cd-54ef-43ab-b409-7edd3b44af58",
   "metadata": {},
   "outputs": [],
   "source": [
    "MY_API_KEY = 'ea85d0bf80c1a2a847737cf8270b6feb'\n",
    "url_maker = URLMaker(MY_API_KEY)"
   ]
  },
  {
   "cell_type": "code",
   "execution_count": 4,
   "id": "9c656d45-0037-4072-a0d4-1fe7baad8c81",
   "metadata": {},
   "outputs": [
    {
     "data": {
      "text/plain": [
       "'ea85d0bf80c1a2a847737cf8270b6feb'"
      ]
     },
     "execution_count": 4,
     "metadata": {},
     "output_type": "execute_result"
    }
   ],
   "source": [
    "url_maker.key"
   ]
  },
  {
   "cell_type": "code",
   "execution_count": 5,
   "id": "af7eabe1-c3f2-4e30-88c6-b978510f5f58",
   "metadata": {},
   "outputs": [
    {
     "name": "stdout",
     "output_type": "stream",
     "text": [
      "http://www.kobis.or.kr/kobisopenapi/webservice/rest/boxoffice/searchDailyBoxOfficeList.json?key=ea85d0bf80c1a2a847737cf8270b6feb&targetDt=20250201&itemPerPage=10&multiMovieYn=&repNationCd=&wideAreaCd=\n"
     ]
    }
   ],
   "source": [
    "daily_url = url_maker.daily_boxoffice_url('20250201')\n",
    "print(daily_url)"
   ]
  },
  {
   "cell_type": "code",
   "execution_count": 18,
   "id": "6edc6052-5de8-4dab-9ad8-31a3ceb653ed",
   "metadata": {},
   "outputs": [
    {
     "name": "stdout",
     "output_type": "stream",
     "text": [
      "http://www.kobis.or.kr/kobisopenapi/webservice/rest/movie/searchMovieInfo.json?key=ea85d0bf80c1a2a847737cf8270b6feb&movieCd=19950084\n"
     ]
    }
   ],
   "source": [
    "movie_info_url = url_maker.movie_info_url('19950084')\n",
    "print(movie_info_url)\n",
    "# 이 구문이 함수 안으로 들어갔어야 했다\n",
    "# '19950084'부분은 함수안으로 들어가면서 변수화 되어야 하겠다"
   ]
  },
  {
   "cell_type": "markdown",
   "id": "846aac9a-0b63-4973-b1a7-c8ec66f0cbbb",
   "metadata": {},
   "source": [
    "## 영화 상세정보 조회\n",
    "\n",
    "- **영화 상세정보 api**를 사용합니다.\n",
    "- 영화 코드(movieCd)를 입력받아 해당 영화의 상세 정보를 조회합니다.\n",
    "- 다음 정보를 순서대로 출력합니다:\n",
    "    - 영화 제목 (제작연도)\n",
    "    - 감독 (첫 번째 감독)\n",
    "    - 주연 배우 (첫 번째, 두 번째 배우)\n",
    "    - 장르 (첫 번째 장르)"
   ]
  },
  {
   "cell_type": "code",
   "execution_count": 12,
   "id": "0de8fa87-7854-4223-b5d6-fb76f60416aa",
   "metadata": {},
   "outputs": [],
   "source": [
    "# movieNm\n",
    "# directors\n",
    "# actors_peopleNm[0, 1]\n",
    "# genreNm"
   ]
  },
  {
   "cell_type": "code",
   "execution_count": 13,
   "id": "d37950ad-45a9-4c24-a4fd-1e5ef7e7563b",
   "metadata": {},
   "outputs": [],
   "source": [
    "def get_movie_detail(movie_cd):\n",
    "    r = requests.get(movie_info_url)\n",
    "    print(r.json()['movieInfoResult']['movieInfo']['movieNm'], r.json()['movieInfoResult']['movieInfo']['prdtYear'])\n",
    "    print(f'감독 : {r.json()['movieInfoResult']['movieInfo']['directors'][0]['peopleNm']}')\n",
    "    print(f'주연 : {r.json()['movieInfoResult']['movieInfo']['actors'][0]['peopleNm']}, {r.json()['movieInfoResult']['movieInfo']['actors'][1]['peopleNm']}')\n",
    "    print(f'감독 : {r.json()['movieInfoResult']['movieInfo']['genres'][0]['genreNm']}')"
   ]
  },
  {
   "cell_type": "code",
   "execution_count": 15,
   "id": "4b257993-df34-4a45-b964-6676b8404b4f",
   "metadata": {},
   "outputs": [
    {
     "name": "stdout",
     "output_type": "stream",
     "text": [
      "쇼생크 탈출 1994\n",
      "감독 : 프랭크 다라본트\n",
      "주연 : 팀 로빈스, 모건 프리먼\n",
      "감독 : 드라마\n"
     ]
    }
   ],
   "source": [
    "get_movie_detail('19950081')"
   ]
  },
  {
   "cell_type": "markdown",
   "id": "ab037f8d-8f27-4668-b3f6-c97bd26302a2",
   "metadata": {},
   "source": [
    "**출력 예시**\n",
    "```\n",
    "쇼생크 탈출 (1994)\n",
    "감독: 프랭크 다라본트\n",
    "주연: 팀 로빈스, 모건 프리먼\n",
    "장르: 드라마\n",
    "```"
   ]
  },
  {
   "cell_type": "markdown",
   "id": "2f3b8d72-c4f8-4f2f-b72b-2fc221bc03dc",
   "metadata": {},
   "source": [
    "## 일별 박스오피스 조회\n",
    "\n",
    "- **일별 박스오피스 api**를 사용합니다.\n",
    "- 입력받은 날짜(YYYYMMDD 형식)의 박스오피스 정보를 조회합니다.\n",
    "- 각 영화의 순위, 영화제목, 해당 일의 관객수를 출력합니다."
   ]
  },
  {
   "cell_type": "code",
   "execution_count": 10,
   "id": "e4931f7a-d406-4859-a44e-12e92f4d2918",
   "metadata": {
    "collapsed": true,
    "jupyter": {
     "outputs_hidden": true
    },
    "scrolled": true
   },
   "outputs": [
    {
     "name": "stdout",
     "output_type": "stream",
     "text": [
      "http://www.kobis.or.kr/kobisopenapi/webservice/rest/boxoffice/searchDailyBoxOfficeList.json?key=ea85d0bf80c1a2a847737cf8270b6feb&targetDt=20250201&itemPerPage=10&multiMovieYn=&repNationCd=K&wideAreaCd=\n",
      "[{'rnum': '1', 'rank': '1', 'rankInten': '0', 'rankOldAndNew': 'OLD', 'movieCd': '20233006', 'movieNm': '히트맨2', 'openDt': '2025-01-22', 'salesAmt': '1663433100', 'salesShare': '46.0', 'salesInten': '525167660', 'salesChange': '46.1', 'salesAcc': '17240257840', 'audiCnt': '177129', 'audiInten': '40686', 'audiChange': '29.8', 'audiAcc': '1831557', 'scrnCnt': '1495', 'showCnt': '6165'}, {'rnum': '2', 'rank': '2', 'rankInten': '0', 'rankOldAndNew': 'OLD', 'movieCd': '20247450', 'movieNm': '검은 수녀들', 'openDt': '2025-01-24', 'salesAmt': '934872220', 'salesShare': '25.8', 'salesInten': '247202440', 'salesChange': '35.9', 'salesAcc': '13206216740', 'audiCnt': '96043', 'audiInten': '14734', 'audiChange': '18.1', 'audiAcc': '1363840', 'scrnCnt': '1192', 'showCnt': '4387'}, {'rnum': '3', 'rank': '3', 'rankInten': '0', 'rankOldAndNew': 'OLD', 'movieCd': '20223819', 'movieNm': '말할 수 없는 비밀', 'openDt': '2025-01-27', 'salesAmt': '612619860', 'salesShare': '16.9', 'salesInten': '255290400', 'salesChange': '71.4', 'salesAcc': '2831121780', 'audiCnt': '63000', 'audiInten': '19506', 'audiChange': '44.8', 'audiAcc': '298293', 'scrnCnt': '846', 'showCnt': '2521'}, {'rnum': '4', 'rank': '4', 'rankInten': '0', 'rankOldAndNew': 'OLD', 'movieCd': '20228796', 'movieNm': '하얼빈', 'openDt': '2024-12-24', 'salesAmt': '221288880', 'salesShare': '6.1', 'salesInten': '34724080', 'salesChange': '18.6', 'salesAcc': '46361411980', 'audiCnt': '23298', 'audiInten': '1383', 'audiChange': '6.3', 'audiAcc': '4847097', 'scrnCnt': '711', 'showCnt': '1390'}, {'rnum': '5', 'rank': '5', 'rankInten': '1', 'rankOldAndNew': 'OLD', 'movieCd': '20246361', 'movieNm': '뽀로로 극장판 바닷속 대모험', 'openDt': '2025-01-01', 'salesAmt': '53373900', 'salesShare': '1.5', 'salesInten': '32139000', 'salesChange': '151.3', 'salesAcc': '3295806970', 'audiCnt': '5903', 'audiInten': '3430', 'audiChange': '138.7', 'audiAcc': '382497', 'scrnCnt': '299', 'showCnt': '343'}, {'rnum': '6', 'rank': '6', 'rankInten': '-1', 'rankOldAndNew': 'OLD', 'movieCd': '20241110', 'movieNm': '아이유 콘서트 : 더 위닝', 'openDt': '2025-01-24', 'salesAmt': '85348500', 'salesShare': '2.4', 'salesInten': '14361000', 'salesChange': '20.2', 'salesAcc': '1360798000', 'audiCnt': '3156', 'audiInten': '525', 'audiChange': '20', 'audiAcc': '49561', 'scrnCnt': '113', 'showCnt': '316'}, {'rnum': '7', 'rank': '7', 'rankInten': '0', 'rankOldAndNew': 'OLD', 'movieCd': '20224303', 'movieNm': '귀신경찰', 'openDt': '2025-01-24', 'salesAmt': '15917100', 'salesShare': '0.4', 'salesInten': '3800980', 'salesChange': '31.4', 'salesAcc': '406114500', 'audiCnt': '1860', 'audiInten': '371', 'audiChange': '24.9', 'audiAcc': '45716', 'scrnCnt': '160', 'showCnt': '205'}, {'rnum': '8', 'rank': '8', 'rankInten': '0', 'rankOldAndNew': 'OLD', 'movieCd': '20200142', 'movieNm': '소방관', 'openDt': '2024-12-04', 'salesAmt': '13955700', 'salesShare': '0.4', 'salesInten': '2822700', 'salesChange': '25.4', 'salesAcc': '36260079370', 'audiCnt': '1418', 'audiInten': '101', 'audiChange': '7.7', 'audiAcc': '3852421', 'scrnCnt': '134', 'showCnt': '157'}, {'rnum': '9', 'rank': '9', 'rankInten': '0', 'rankOldAndNew': 'OLD', 'movieCd': '20110279', 'movieNm': '마당을 나온 암탉', 'openDt': '2011-07-28', 'salesAmt': '8933860', 'salesShare': '0.2', 'salesInten': '3591660', 'salesChange': '67.2', 'salesAcc': '14792455497', 'audiCnt': '1038', 'audiInten': '394', 'audiChange': '61.2', 'audiAcc': '2216721', 'scrnCnt': '109', 'showCnt': '131'}, {'rnum': '10', 'rank': '10', 'rankInten': '4', 'rankOldAndNew': 'OLD', 'movieCd': '20252147', 'movieNm': '뜻밖의 순간 : 언익스펙티드 저니', 'openDt': ' ', 'salesAmt': '723000', 'salesShare': '0.0', 'salesInten': '438000', 'salesChange': '153.7', 'salesAcc': '9732000', 'audiCnt': '241', 'audiInten': '146', 'audiChange': '153.7', 'audiAcc': '3244', 'scrnCnt': '1', 'showCnt': '2'}]\n",
      "1위 : 히트맨2 (177129명)\n"
     ]
    }
   ],
   "source": [
    "print(daily_url)\n",
    "r = requests.get(daily_url)\n",
    "daily_rank = r.json()['boxOfficeResult']['dailyBoxOfficeList']\n",
    "print(daily_rank)\n",
    "print(f'{daily_rank[0]['rank']}위 : {daily_rank[0]['movieNm']} ({daily_rank[0]['audiCnt']}명)')\n",
    "# print(f'주연 : {r.json()['boxOfficeResult']['dailyBoxOfficeList']['actors'][0]['peopleNm']}')\n",
    "# print(f'감독 : {r.json()['boxOfficeResult']['dailyBoxOfficeList']['genres'][0]['genreNm']}')"
   ]
  },
  {
   "cell_type": "code",
   "execution_count": 11,
   "id": "57d925d7-af7e-48df-97f4-604c1ea11db0",
   "metadata": {},
   "outputs": [
    {
     "name": "stdout",
     "output_type": "stream",
     "text": [
      "1위 : 히트맨2 (177129명)\n",
      "2위 : 검은 수녀들 (96043명)\n",
      "3위 : 말할 수 없는 비밀 (63000명)\n",
      "4위 : 하얼빈 (23298명)\n",
      "5위 : 뽀로로 극장판 바닷속 대모험 (5903명)\n",
      "6위 : 아이유 콘서트 : 더 위닝 (3156명)\n",
      "7위 : 귀신경찰 (1860명)\n",
      "8위 : 소방관 (1418명)\n",
      "9위 : 마당을 나온 암탉 (1038명)\n",
      "10위 : 뜻밖의 순간 : 언익스펙티드 저니 (241명)\n"
     ]
    }
   ],
   "source": [
    "for movie in daily_rank:\n",
    "    print(f'{movie['rank']}위 : {movie['movieNm']} ({movie['audiCnt']}명)')"
   ]
  },
  {
   "cell_type": "code",
   "execution_count": 19,
   "id": "0961262c-a175-4c69-be73-5cbcbba33ea3",
   "metadata": {},
   "outputs": [],
   "source": [
    "def get_daily_boxoffice(target_date):\n",
    "    daily_url = url_maker.daily_boxoffice_url(target_date)\n",
    "    r = requests.get(daily_url)\n",
    "    daily_rank = r.json()['boxOfficeResult']['dailyBoxOfficeList']\n",
    "    \n",
    "    for movie in daily_rank:\n",
    "        print(f'{movie['rank']}위 : {movie['movieNm']} ({movie['audiCnt']}명)')"
   ]
  },
  {
   "cell_type": "code",
   "execution_count": 20,
   "id": "33bd45c9-222e-4be6-a70c-d2d33f5845a5",
   "metadata": {},
   "outputs": [],
   "source": [
    "get_daily_boxoffice(\"20001123\")  # YYYYMMDD 형식으로 날짜 입력"
   ]
  },
  {
   "cell_type": "markdown",
   "id": "1967823a-dcdc-4ea6-8eaf-56a31b97f7b7",
   "metadata": {},
   "source": [
    "**출력예시**\n",
    "```\n",
    "20250201 박스오피스 TOP 10\n",
    "1위: 히트맨2 (177129명)\n",
    "2위: 검은 수녀들 (96043명)\n",
    "3위: 말할 수 없는 비밀 (63000명)\n",
    "4위: 하얼빈 (23298명)\n",
    "5위: 서브스턴스 (15031명)\n",
    "6위: 극장판 포켓몬스터 AG: 뮤와 파동의 용사 루카리오 (12342명)\n",
    "7위: 뽀로로 극장판 바닷속 대모험 (5903명)\n",
    "8위: 바다 탐험대 옥토넛 어보브 앤 비욘드 : 극지방 대작전 (4570명)\n",
    "9위: 극장판 짱구는 못말려: 우리들의 공룡일기 (3801명)\n",
    "10위: 아이유 콘서트 : 더 위닝 (3156명)\n",
    "```"
   ]
  },
  {
   "cell_type": "markdown",
   "id": "d3d889a8-6bcb-44a2-884a-4c7c9953f069",
   "metadata": {},
   "source": [
    "## 한국 영화 일별 박스오피스 조회\n",
    "\n",
    "- **일별 박스오피스 api**를 사용합니다.\n",
    "- 입력받은 날짜(YYYYMMDD 형식)의 한국 영화 박스오피스 정보를 조회합니다.\n",
    "- 한국 영화만 조회하기 위해 repNationCd='K' 파라미터를 사용합니다.\n",
    "- 영화가 개봉한 순서대로 정렬하여 제목, 날짜, 순위를 출력합니다.\n"
   ]
  },
  {
   "cell_type": "code",
   "execution_count": 59,
   "id": "45b7278a-9a7b-4bc1-b905-a3e1d78a7994",
   "metadata": {},
   "outputs": [
    {
     "name": "stdout",
     "output_type": "stream",
     "text": [
      "http://www.kobis.or.kr/kobisopenapi/webservice/rest/boxoffice/searchDailyBoxOfficeList.json?key=ea85d0bf80c1a2a847737cf8270b6feb&targetDt=20250201&itemPerPage=10&multiMovieYn=&repNationCd=K&wideAreaCd=\n"
     ]
    }
   ],
   "source": [
    "Kdaily_url = url_maker.daily_boxoffice_url('20250201', repNationCd='K')\n",
    "\n",
    "print(Kdaily_url)"
   ]
  },
  {
   "cell_type": "code",
   "execution_count": 115,
   "id": "76ee64d2-27b2-44f7-9663-e440f6483196",
   "metadata": {},
   "outputs": [
    {
     "name": "stdout",
     "output_type": "stream",
     "text": [
      "['뜻밖의 순간 : 언익스펙티드 저니', ' ', '10']\n",
      "['마당을 나온 암탉', '2011-07-28', '9']\n",
      "['소방관', '2024-12-04', '8']\n",
      "['하얼빈', '2024-12-24', '4']\n",
      "['뽀로로 극장판 바닷속 대모험', '2025-01-01', '5']\n",
      "['히트맨2', '2025-01-22', '1']\n",
      "['검은 수녀들', '2025-01-24', '2']\n",
      "['아이유 콘서트 : 더 위닝', '2025-01-24', '6']\n",
      "['귀신경찰', '2025-01-24', '7']\n",
      "['말할 수 없는 비밀', '2025-01-27', '3']\n"
     ]
    }
   ],
   "source": [
    "from datetime import datetime\n",
    "\n",
    "basic_daily = r.json()['boxOfficeResult']['dailyBoxOfficeList'][0]\n",
    "open_dts = basic_daily['openDt'], basic_daily['movieNm'], basic_daily['rank']\n",
    "open_dt = r.json()['boxOfficeResult']['dailyBoxOfficeList']\n",
    "result = []\n",
    "\n",
    "for i in open_dt:\n",
    "    result.append([i['movieNm'], i['openDt'], i['rank']])\n",
    "\n",
    "def get_date(result):\n",
    "    if result[1].strip() == \"\":\n",
    "        return datetime.min\n",
    "    return datetime.strptime(result[1], '%Y-%m-%d')\n",
    "result_sorted = sorted(result, key=get_date)\n",
    "\n",
    "for j in result_sorted:\n",
    "    print(j)"
   ]
  },
  {
   "cell_type": "code",
   "execution_count": 57,
   "id": "e9cde271-d38f-4d0d-818d-e33fca0b070a",
   "metadata": {},
   "outputs": [],
   "source": [
    "def get_movie_details(target_date):\n",
    "    daily_url = url_maker.daily_kboxoffice_url(target_date)\n",
    "    r = requests.get(daily_url)"
   ]
  },
  {
   "cell_type": "code",
   "execution_count": 58,
   "id": "f09e49e9-9e4a-404b-8034-b8cc664cbc8a",
   "metadata": {},
   "outputs": [
    {
     "ename": "AttributeError",
     "evalue": "'URLMaker' object has no attribute 'daily_kboxoffice_url'",
     "output_type": "error",
     "traceback": [
      "\u001b[1;31m---------------------------------------------------------------------------\u001b[0m",
      "\u001b[1;31mAttributeError\u001b[0m                            Traceback (most recent call last)",
      "Cell \u001b[1;32mIn[58], line 1\u001b[0m\n\u001b[1;32m----> 1\u001b[0m \u001b[43mget_movie_details\u001b[49m\u001b[43m(\u001b[49m\u001b[38;5;124;43m\"\u001b[39;49m\u001b[38;5;124;43m20250201\u001b[39;49m\u001b[38;5;124;43m\"\u001b[39;49m\u001b[43m)\u001b[49m  \u001b[38;5;66;03m# YYYYMMDD 형식으로 날짜 입력\u001b[39;00m\n",
      "Cell \u001b[1;32mIn[57], line 2\u001b[0m, in \u001b[0;36mget_movie_details\u001b[1;34m(target_date)\u001b[0m\n\u001b[0;32m      1\u001b[0m \u001b[38;5;28;01mdef\u001b[39;00m\u001b[38;5;250m \u001b[39m\u001b[38;5;21mget_movie_details\u001b[39m(target_date):\n\u001b[1;32m----> 2\u001b[0m     daily_url \u001b[38;5;241m=\u001b[39m \u001b[43murl_maker\u001b[49m\u001b[38;5;241;43m.\u001b[39;49m\u001b[43mdaily_kboxoffice_url\u001b[49m(target_date)\n\u001b[0;32m      3\u001b[0m     r \u001b[38;5;241m=\u001b[39m requests\u001b[38;5;241m.\u001b[39mget(daily_url)\n",
      "\u001b[1;31mAttributeError\u001b[0m: 'URLMaker' object has no attribute 'daily_kboxoffice_url'"
     ]
    }
   ],
   "source": [
    "get_movie_details(\"20250201\")  # YYYYMMDD 형식으로 날짜 입력"
   ]
  },
  {
   "cell_type": "markdown",
   "id": "d60c82b0-150b-4877-88df-58a58d1d23e0",
   "metadata": {},
   "source": [
    "**출력예시**\n",
    "```\n",
    "20250201 한국 영화 박스오피스 (개봉일 순)\n",
    "뜻밖의 순간 : 언익스펙티드 저니 ( ) - 10위\n",
    "마당을 나온 암탉 (2011-07-28) - 9위\n",
    "소방관 (2024-12-04) - 8위\n",
    "하얼빈 (2024-12-24) - 4위\n",
    "뽀로로 극장판 바닷속 대모험 (2025-01-01) - 5위\n",
    "히트맨2 (2025-01-22) - 1위\n",
    "검은 수녀들 (2025-01-24) - 2위\n",
    "아이유 콘서트 : 더 위닝 (2025-01-24) - 6위\n",
    "귀신경찰 (2025-01-24) - 7위\n",
    "말할 수 없는 비밀 (2025-01-27) - 3위\n",
    "```"
   ]
  },
  {
   "cell_type": "markdown",
   "id": "5928c65e-9cc2-4766-a26e-a6184c6397d3",
   "metadata": {},
   "source": [
    "## 1월 전체 주간 박스오피스 데이터 수집\n",
    "\n",
    "- **주간/주말 박스오피스 api**를 사용합니다.\n",
    "- 2025년 1월의 모든 주간(1/5, 1/12, 1/19, 1/26) 데이터를 수집합니다.\n",
    "- 각 영화의 정보는 다음을 포함해야 합니다:\n",
    "    - 영화제목, 개봉일, 누적관객수, 누적매출액\n",
    "- 동일한 영화가 여러 주에 걸쳐 나타날 경우, 가장 최근의 정보만 저장합니다.\n",
    "```python\n",
    " def weekly_boxoffice_url(self, targetDt, weekGb='0', itemPerPage=10, multiMovieYn='', repNationCd='', wideAreaCd=''):\n",
    "        \"\"\"\n",
    "        주간/주말 박스오피스 URL 생성\n",
    "        weekGb: 0(주간), 1(주말), 2(주중)\n",
    "        \"\"\"\n",
    "        return f'{self.url}/boxoffice/searchWeeklyBoxOfficeList.json?key={self.key}&targetDt={targetDt}&weekGb={weekGb}&itemPerPage={itemPerPage}&multiMovieYn={multiMovieYn}&repNationCd={repNationCd}&wideAreaCd={wideAreaCd}'\n",
    "```\n"
   ]
  },
  {
   "cell_type": "code",
   "execution_count": 163,
   "id": "85679a76-76bd-4416-b6d9-755fb13fe2ca",
   "metadata": {
    "collapsed": true,
    "jupyter": {
     "outputs_hidden": true
    }
   },
   "outputs": [
    {
     "name": "stdout",
     "output_type": "stream",
     "text": [
      "[{'boxOfficeResult': {'boxofficeType': '주간 박스오피스', 'showRange': '20241230~20250105', 'yearWeekTime': '202501', 'weeklyBoxOfficeList': [{'rnum': '1', 'rank': '1', 'rankInten': '0', 'rankOldAndNew': 'OLD', 'movieCd': '20228796', 'movieNm': '하얼빈', 'openDt': '2024-12-24', 'salesAmt': '12257573810', 'salesShare': '43.2', 'salesInten': '-10357204230', 'salesChange': '-45.8', 'salesAcc': '35098771850', 'audiCnt': '1287622', 'audiInten': '-1074841', 'audiChange': '-45.5', 'audiAcc': '3672922', 'scrnCnt': '1847', 'showCnt': '46414'}, {'rnum': '2', 'rank': '2', 'rankInten': '0', 'rankOldAndNew': 'OLD', 'movieCd': '20200142', 'movieNm': '소방관', 'openDt': '2024-12-04', 'salesAmt': '3151980440', 'salesShare': '11.1', 'salesInten': '-2661254850', 'salesChange': '-45.8', 'salesAcc': '33400749550', 'audiCnt': '335394', 'audiInten': '-284434', 'audiChange': '-45.9', 'audiAcc': '3551951', 'scrnCnt': '884', 'showCnt': '15399'}, {'rnum': '3', 'rank': '3', 'rankInten': '24', 'rankOldAndNew': 'OLD', 'movieCd': '20190300', 'movieNm': '보고타: 마지막 기회의 땅', 'openDt': '2024-12-31', 'salesAmt': '2966943560', 'salesShare': '10.4', 'salesInten': '2949303560', 'salesChange': '16719.4', 'salesAcc': '2994301560', 'audiCnt': '320018', 'audiInten': '318310', 'audiChange': '18636.4', 'audiAcc': '322552', 'scrnCnt': '1029', 'showCnt': '17841'}, {'rnum': '4', 'rank': '4', 'rankInten': '8', 'rankOldAndNew': 'OLD', 'movieCd': '20244167', 'movieNm': '수퍼 소닉3', 'openDt': '2025-01-01', 'salesAmt': '1634703490', 'salesShare': '5.8', 'salesInten': '1436003810', 'salesChange': '722.7', 'salesAcc': '1843196170', 'audiCnt': '177477', 'audiInten': '156775', 'audiChange': '757.3', 'audiAcc': '198934', 'scrnCnt': '882', 'showCnt': '7808'}, {'rnum': '5', 'rank': '5', 'rankInten': '4', 'rankOldAndNew': 'OLD', 'movieCd': '20246361', 'movieNm': '뽀로로 극장판 바닷속 대모험', 'openDt': '2025-01-01', 'salesAmt': '1374180160', 'salesShare': '4.8', 'salesInten': '1091729770', 'salesChange': '386.5', 'salesAcc': '1690169550', 'audiCnt': '160502', 'audiInten': '131542', 'audiChange': '454.2', 'audiAcc': '194399', 'scrnCnt': '791', 'showCnt': '6281'}, {'rnum': '6', 'rank': '6', 'rankInten': '-3', 'rankOldAndNew': 'OLD', 'movieCd': '20240193', 'movieNm': '무파사: 라이온 킹', 'openDt': '2024-12-18', 'salesAmt': '1323350200', 'salesShare': '4.7', 'salesInten': '-1704124400', 'salesChange': '-56.3', 'salesAcc': '7480644490', 'audiCnt': '142264', 'audiInten': '-160931', 'audiChange': '-53.1', 'audiAcc': '756979', 'scrnCnt': '779', 'showCnt': '6584'}, {'rnum': '7', 'rank': '7', 'rankInten': '-3', 'rankOldAndNew': 'OLD', 'movieCd': '20240737', 'movieNm': '모아나 2', 'openDt': '2024-11-27', 'salesAmt': '1089761890', 'salesShare': '3.8', 'salesInten': '-1626093350', 'salesChange': '-59.9', 'salesAcc': '31893752010', 'audiCnt': '115826', 'audiInten': '-173791', 'audiChange': '-60.0', 'audiAcc': '3453847', 'scrnCnt': '653', 'showCnt': '5751'}, {'rnum': '8', 'rank': '8', 'rankInten': '-3', 'rankOldAndNew': 'OLD', 'movieCd': '20245977', 'movieNm': '극장판 짱구는 못말려: 우리들의 공룡일기', 'openDt': '2024-12-18', 'salesAmt': '1063317180', 'salesShare': '3.7', 'salesInten': '-1574054390', 'salesChange': '-59.7', 'salesAcc': '6100827520', 'audiCnt': '113529', 'audiInten': '-167328', 'audiChange': '-59.6', 'audiAcc': '647581', 'scrnCnt': '636', 'showCnt': '6161'}, {'rnum': '9', 'rank': '9', 'rankInten': '-3', 'rankOldAndNew': 'OLD', 'movieCd': '20247693', 'movieNm': '위키드', 'openDt': '2024-11-20', 'salesAmt': '880078320', 'salesShare': '3.1', 'salesInten': '-633088620', 'salesChange': '-41.8', 'salesAcc': '20880403630', 'audiCnt': '89480', 'audiInten': '-64179', 'audiChange': '-41.8', 'audiAcc': '2119026', 'scrnCnt': '492', 'showCnt': '3728'}, {'rnum': '10', 'rank': '10', 'rankInten': '0', 'rankOldAndNew': 'NEW', 'movieCd': '20244850', 'movieNm': '시빌 워: 분열의 시대', 'openDt': '2024-12-31', 'salesAmt': '827462230', 'salesShare': '2.9', 'salesInten': '827462230', 'salesChange': '100.0', 'salesAcc': '836845230', 'audiCnt': '79645', 'audiInten': '79645', 'audiChange': '100.0', 'audiAcc': '80373', 'scrnCnt': '662', 'showCnt': '6364'}]}}, {'boxOfficeResult': {'boxofficeType': '주간 박스오피스', 'showRange': '20250106~20250112', 'yearWeekTime': '202502', 'weeklyBoxOfficeList': [{'rnum': '1', 'rank': '1', 'rankInten': '0', 'rankOldAndNew': 'OLD', 'movieCd': '20228796', 'movieNm': '하얼빈', 'openDt': '2024-12-24', 'salesAmt': '4878365560', 'salesShare': '36.7', 'salesInten': '-7379208250', 'salesChange': '-60.2', 'salesAcc': '39977137410', 'audiCnt': '507470', 'audiInten': '-780152', 'audiChange': '-60.6', 'audiAcc': '4180392', 'scrnCnt': '1322', 'showCnt': '34334'}, {'rnum': '2', 'rank': '2', 'rankInten': '0', 'rankOldAndNew': 'OLD', 'movieCd': '20200142', 'movieNm': '소방관', 'openDt': '2024-12-04', 'salesAmt': '1435787980', 'salesShare': '10.8', 'salesInten': '-1716192460', 'salesChange': '-54.4', 'salesAcc': '34836537530', 'audiCnt': '151020', 'audiInten': '-184374', 'audiChange': '-55.0', 'audiAcc': '3702971', 'scrnCnt': '780', 'showCnt': '12847'}, {'rnum': '3', 'rank': '3', 'rankInten': '42', 'rankOldAndNew': 'OLD', 'movieCd': '20248082', 'movieNm': '동화지만 청불입니다', 'openDt': '2025-01-08', 'salesAmt': '934137080', 'salesShare': '7.0', 'salesInten': '929750080', 'salesChange': '21193.3', 'salesAcc': '938524080', 'audiCnt': '101307', 'audiInten': '100847', 'audiChange': '21923.3', 'audiAcc': '101767', 'scrnCnt': '668', 'showCnt': '9421'}, {'rnum': '4', 'rank': '4', 'rankInten': '1', 'rankOldAndNew': 'OLD', 'movieCd': '20246361', 'movieNm': '뽀로로 극장판 바닷속 대모험', 'openDt': '2025-01-01', 'salesAmt': '709533760', 'salesShare': '5.3', 'salesInten': '-664646400', 'salesChange': '-48.4', 'salesAcc': '2399703310', 'audiCnt': '83614', 'audiInten': '-76888', 'audiChange': '-47.9', 'audiAcc': '278013', 'scrnCnt': '740', 'showCnt': '6862'}, {'rnum': '5', 'rank': '5', 'rankInten': '-1', 'rankOldAndNew': 'OLD', 'movieCd': '20244167', 'movieNm': '수퍼 소닉3', 'openDt': '2025-01-01', 'salesAmt': '704322840', 'salesShare': '5.3', 'salesInten': '-930380650', 'salesChange': '-56.9', 'salesAcc': '2547519010', 'audiCnt': '77924', 'audiInten': '-99553', 'audiChange': '-56.1', 'audiAcc': '276858', 'scrnCnt': '731', 'showCnt': '7320'}, {'rnum': '6', 'rank': '6', 'rankInten': '-3', 'rankOldAndNew': 'OLD', 'movieCd': '20190300', 'movieNm': '보고타: 마지막 기회의 땅', 'openDt': '2024-12-31', 'salesAmt': '675418980', 'salesShare': '5.1', 'salesInten': '-2291524580', 'salesChange': '-77.2', 'salesAcc': '3669720540', 'audiCnt': '73735', 'audiInten': '-246283', 'audiChange': '-77.0', 'audiAcc': '396287', 'scrnCnt': '713', 'showCnt': '9611'}, {'rnum': '7', 'rank': '7', 'rankInten': '1', 'rankOldAndNew': 'OLD', 'movieCd': '20245977', 'movieNm': '극장판 짱구는 못말려: 우리들의 공룡일기', 'openDt': '2024-12-18', 'salesAmt': '499661200', 'salesShare': '3.8', 'salesInten': '-563655980', 'salesChange': '-53.0', 'salesAcc': '6600488720', 'audiCnt': '53459', 'audiInten': '-60070', 'audiChange': '-52.9', 'audiAcc': '701040', 'scrnCnt': '509', 'showCnt': '4318'}, {'rnum': '8', 'rank': '8', 'rankInten': '-2', 'rankOldAndNew': 'OLD', 'movieCd': '20240193', 'movieNm': '무파사: 라이온 킹', 'openDt': '2024-12-18', 'salesAmt': '457879120', 'salesShare': '3.4', 'salesInten': '-865471080', 'salesChange': '-65.4', 'salesAcc': '7938523610', 'audiCnt': '49854', 'audiInten': '-92410', 'audiChange': '-65.0', 'audiAcc': '806833', 'scrnCnt': '501', 'showCnt': '4160'}, {'rnum': '9', 'rank': '9', 'rankInten': '0', 'rankOldAndNew': 'OLD', 'movieCd': '20247693', 'movieNm': '위키드', 'openDt': '2024-11-20', 'salesAmt': '484888710', 'salesShare': '3.6', 'salesInten': '-395189610', 'salesChange': '-44.9', 'salesAcc': '21365292340', 'audiCnt': '44323', 'audiInten': '-45157', 'audiChange': '-50.5', 'audiAcc': '2163349', 'scrnCnt': '347', 'showCnt': '3235'}, {'rnum': '10', 'rank': '10', 'rankInten': '-3', 'rankOldAndNew': 'OLD', 'movieCd': '20240737', 'movieNm': '모아나 2', 'openDt': '2024-11-27', 'salesAmt': '385738980', 'salesShare': '2.9', 'salesInten': '-704022910', 'salesChange': '-64.6', 'salesAcc': '32279490990', 'audiCnt': '41439', 'audiInten': '-74387', 'audiChange': '-64.2', 'audiAcc': '3495286', 'scrnCnt': '452', 'showCnt': '3399'}]}}, {'boxOfficeResult': {'boxofficeType': '주간 박스오피스', 'showRange': '20250113~20250119', 'yearWeekTime': '202503', 'weeklyBoxOfficeList': [{'rnum': '1', 'rank': '1', 'rankInten': '0', 'rankOldAndNew': 'OLD', 'movieCd': '20228796', 'movieNm': '하얼빈', 'openDt': '2024-12-24', 'salesAmt': '3028736420', 'salesShare': '32.8', 'salesInten': '-1849629140', 'salesChange': '-37.9', 'salesAcc': '43005873830', 'audiCnt': '315306', 'audiInten': '-192164', 'audiChange': '-37.9', 'audiAcc': '4495698', 'scrnCnt': '1160', 'showCnt': '29450'}, {'rnum': '2', 'rank': '2', 'rankInten': '0', 'rankOldAndNew': 'OLD', 'movieCd': '20200142', 'movieNm': '소방관', 'openDt': '2024-12-04', 'salesAmt': '983416200', 'salesShare': '10.6', 'salesInten': '-452371780', 'salesChange': '-31.5', 'salesAcc': '35819953730', 'audiCnt': '103165', 'audiInten': '-47855', 'audiChange': '-31.7', 'audiAcc': '3806136', 'scrnCnt': '702', 'showCnt': '12582'}, {'rnum': '3', 'rank': '3', 'rankInten': '0', 'rankOldAndNew': 'OLD', 'movieCd': '20248082', 'movieNm': '동화지만 청불입니다', 'openDt': '2025-01-08', 'salesAmt': '527392640', 'salesShare': '5.7', 'salesInten': '-406744440', 'salesChange': '-43.5', 'salesAcc': '1465916720', 'audiCnt': '55849', 'audiInten': '-45458', 'audiChange': '-44.9', 'audiAcc': '157616', 'scrnCnt': '594', 'showCnt': '8453'}, {'rnum': '4', 'rank': '4', 'rankInten': '8', 'rankOldAndNew': 'OLD', 'movieCd': '20244762', 'movieNm': '서브스턴스', 'openDt': '2024-12-11', 'salesAmt': '476707140', 'salesShare': '5.2', 'salesInten': '186096440', 'salesChange': '64.0', 'salesAcc': '2485433300', 'audiCnt': '49388', 'audiInten': '19895', 'audiChange': '67.5', 'audiAcc': '254541', 'scrnCnt': '344', 'showCnt': '2861'}, {'rnum': '5', 'rank': '5', 'rankInten': '-1', 'rankOldAndNew': 'OLD', 'movieCd': '20246361', 'movieNm': '뽀로로 극장판 바닷속 대모험', 'openDt': '2025-01-01', 'salesAmt': '400951320', 'salesShare': '4.3', 'salesInten': '-308582440', 'salesChange': '-43.5', 'salesAcc': '2800654630', 'audiCnt': '48579', 'audiInten': '-35035', 'audiChange': '-41.9', 'audiAcc': '326592', 'scrnCnt': '635', 'showCnt': '4889'}, {'rnum': '6', 'rank': '6', 'rankInten': '-1', 'rankOldAndNew': 'OLD', 'movieCd': '20244167', 'movieNm': '수퍼 소닉3', 'openDt': '2025-01-01', 'salesAmt': '403101900', 'salesShare': '4.4', 'salesInten': '-301220940', 'salesChange': '-42.8', 'salesAcc': '2950620910', 'audiCnt': '45242', 'audiInten': '-32682', 'audiChange': '-41.9', 'audiAcc': '322100', 'scrnCnt': '613', 'showCnt': '5070'}, {'rnum': '7', 'rank': '7', 'rankInten': '0', 'rankOldAndNew': 'OLD', 'movieCd': '20245977', 'movieNm': '극장판 짱구는 못말려: 우리들의 공룡일기', 'openDt': '2024-12-18', 'salesAmt': '387178340', 'salesShare': '4.2', 'salesInten': '-112482860', 'salesChange': '-22.5', 'salesAcc': '6987667060', 'audiCnt': '41526', 'audiInten': '-11933', 'audiChange': '-22.3', 'audiAcc': '742566', 'scrnCnt': '499', 'showCnt': '4189'}, {'rnum': '8', 'rank': '8', 'rankInten': '1', 'rankOldAndNew': 'OLD', 'movieCd': '20247693', 'movieNm': '위키드', 'openDt': '2024-11-20', 'salesAmt': '311909600', 'salesShare': '3.4', 'salesInten': '-172979110', 'salesChange': '-35.7', 'salesAcc': '21677201940', 'audiCnt': '31816', 'audiInten': '-12507', 'audiChange': '-28.2', 'audiAcc': '2195165', 'scrnCnt': '335', 'showCnt': '2954'}, {'rnum': '9', 'rank': '9', 'rankInten': '1', 'rankOldAndNew': 'OLD', 'movieCd': '20240737', 'movieNm': '모아나 2', 'openDt': '2024-11-27', 'salesAmt': '253826760', 'salesShare': '2.7', 'salesInten': '-131912220', 'salesChange': '-34.2', 'salesAcc': '32533317750', 'audiCnt': '27231', 'audiInten': '-14208', 'audiChange': '-34.3', 'audiAcc': '3522517', 'scrnCnt': '366', 'showCnt': '2595'}, {'rnum': '10', 'rank': '10', 'rankInten': '-2', 'rankOldAndNew': 'OLD', 'movieCd': '20240193', 'movieNm': '무파사: 라이온 킹', 'openDt': '2024-12-18', 'salesAmt': '249549340', 'salesShare': '2.7', 'salesInten': '-208329780', 'salesChange': '-45.5', 'salesAcc': '8188072950', 'audiCnt': '26999', 'audiInten': '-22855', 'audiChange': '-45.8', 'audiAcc': '833832', 'scrnCnt': '415', 'showCnt': '2943'}]}}, {'boxOfficeResult': {'boxofficeType': '주간 박스오피스', 'showRange': '20250120~20250126', 'yearWeekTime': '202504', 'weeklyBoxOfficeList': [{'rnum': '1', 'rank': '1', 'rankInten': '0', 'rankOldAndNew': 'NEW', 'movieCd': '20247450', 'movieNm': '검은 수녀들', 'openDt': '2025-01-24', 'salesAmt': '5870106460', 'salesShare': '33.3', 'salesInten': '5870106460', 'salesChange': '100.0', 'salesAcc': '5870106460', 'audiCnt': '606145', 'audiInten': '606145', 'audiChange': '100.0', 'audiAcc': '606145', 'scrnCnt': '1662', 'showCnt': '21820'}, {'rnum': '2', 'rank': '2', 'rankInten': '25', 'rankOldAndNew': 'OLD', 'movieCd': '20233006', 'movieNm': '히트맨2', 'openDt': '2025-01-22', 'salesAmt': '5656681120', 'salesShare': '32.1', 'salesInten': '5628592120', 'salesChange': '20038.4', 'salesAcc': '5686993120', 'audiCnt': '601507', 'audiInten': '598386', 'audiChange': '19172.9', 'audiAcc': '604875', 'scrnCnt': '1410', 'showCnt': '24372'}, {'rnum': '3', 'rank': '3', 'rankInten': '-2', 'rankOldAndNew': 'OLD', 'movieCd': '20228796', 'movieNm': '하얼빈', 'openDt': '2024-12-24', 'salesAmt': '1401488630', 'salesShare': '8.0', 'salesInten': '-1627247790', 'salesChange': '-53.7', 'salesAcc': '44407362460', 'audiCnt': '146517', 'audiInten': '-168789', 'audiChange': '-53.5', 'audiAcc': '4642215', 'scrnCnt': '1040', 'showCnt': '15465'}, {'rnum': '4', 'rank': '4', 'rankInten': '47', 'rankOldAndNew': 'OLD', 'movieCd': '20051060', 'movieNm': '극장판 포켓몬스터 AG: 뮤와 파동의 용사 루카리오', 'openDt': '2025-01-22', 'salesAmt': '562982160', 'salesShare': '3.2', 'salesInten': '555931160', 'salesChange': '7884.4', 'salesAcc': '570033160', 'audiCnt': '63944', 'audiInten': '63303', 'audiChange': '9875.7', 'audiAcc': '64585', 'scrnCnt': '667', 'showCnt': '5885'}, {'rnum': '5', 'rank': '5', 'rankInten': '-1', 'rankOldAndNew': 'OLD', 'movieCd': '20244762', 'movieNm': '서브스턴스', 'openDt': '2024-12-11', 'salesAmt': '469176100', 'salesShare': '2.7', 'salesInten': '-7531040', 'salesChange': '-1.6', 'salesAcc': '2954609400', 'audiCnt': '48329', 'audiInten': '-1059', 'audiChange': '-2.1', 'audiAcc': '302870', 'scrnCnt': '332', 'showCnt': '2874'}, {'rnum': '6', 'rank': '6', 'rankInten': '-4', 'rankOldAndNew': 'OLD', 'movieCd': '20200142', 'movieNm': '소방관', 'openDt': '2024-12-04', 'salesAmt': '325618540', 'salesShare': '1.8', 'salesInten': '-657797660', 'salesChange': '-66.9', 'salesAcc': '36145572270', 'audiCnt': '34415', 'audiInten': '-68750', 'audiChange': '-66.6', 'audiAcc': '3840551', 'scrnCnt': '597', 'showCnt': '6026'}, {'rnum': '7', 'rank': '7', 'rankInten': '0', 'rankOldAndNew': 'NEW', 'movieCd': '20241110', 'movieNm': '아이유 콘서트 : 더 위닝', 'openDt': '2025-01-24', 'salesAmt': '778067000', 'salesShare': '4.4', 'salesInten': '778067000', 'salesChange': '100.0', 'salesAcc': '778067000', 'audiCnt': '28061', 'audiInten': '28061', 'audiChange': '100.0', 'audiAcc': '28061', 'scrnCnt': '100', 'showCnt': '979'}, {'rnum': '8', 'rank': '8', 'rankInten': '-3', 'rankOldAndNew': 'OLD', 'movieCd': '20246361', 'movieNm': '뽀로로 극장판 바닷속 대모험', 'openDt': '2025-01-01', 'salesAmt': '195361140', 'salesShare': '1.1', 'salesInten': '-205590180', 'salesChange': '-51.3', 'salesAcc': '2996015770', 'audiCnt': '23005', 'audiInten': '-25574', 'audiChange': '-52.6', 'audiAcc': '349597', 'scrnCnt': '391', 'showCnt': '2372'}, {'rnum': '9', 'rank': '9', 'rankInten': '-2', 'rankOldAndNew': 'OLD', 'movieCd': '20245977', 'movieNm': '극장판 짱구는 못말려: 우리들의 공룡일기', 'openDt': '2024-12-18', 'salesAmt': '189608040', 'salesShare': '1.1', 'salesInten': '-197570300', 'salesChange': '-51.0', 'salesAcc': '7177275100', 'audiCnt': '20329', 'audiInten': '-21197', 'audiChange': '-51.0', 'audiAcc': '762895', 'scrnCnt': '394', 'showCnt': '2374'}, {'rnum': '10', 'rank': '10', 'rankInten': '30', 'rankOldAndNew': 'OLD', 'movieCd': '20224303', 'movieNm': '귀신경찰', 'openDt': '2025-01-24', 'salesAmt': '177250980', 'salesShare': '1.0', 'salesInten': '167665980', 'salesChange': '1749.3', 'salesAcc': '191035980', 'audiCnt': '20284', 'audiInten': '19219', 'audiChange': '1804.6', 'audiAcc': '21949', 'scrnCnt': '378', 'showCnt': '1905'}]}}]\n"
     ]
    }
   ],
   "source": [
    "jan = ['20250105', '20250112', '20250119', '20250126']\n",
    "responses = []\n",
    "for week in jan:\n",
    "    url = url_maker.weekly_boxoffice_url(week)\n",
    "    response = requests.get(url).json()\n",
    "    responses.append(response)\n",
    "    \n",
    "print(responses)\n",
    "r = [url_maker.weekly_boxoffice_url(week) for week in jan]\n",
    "res = [requests.get(url).json() for url in r]\n",
    "\n",
    "wanted_keys = ['movieNm'], ['openDt'], ['audiAcc'], ['salesAcc']\n",
    "filtered_data = []\n",
    "for response in responses:\n",
    "#     for movie in response ['boxOfficeResult']['weeklyBoxOfficeList']:\n",
    "#         filtered_data.append({key: movie[key] for key in wanted_keys if key in movie})\n",
    "    \n",
    "# print(filtered_data)"
   ]
  },
  {
   "cell_type": "code",
   "execution_count": 143,
   "id": "1da82286-62f5-4907-8df6-59563e11d2bc",
   "metadata": {},
   "outputs": [
    {
     "name": "stdout",
     "output_type": "stream",
     "text": [
      "[['검은 수녀들', '2025-01-24', '606145', '5870106460'], ['히트맨2', '2025-01-22', '604875', '5686993120'], ['하얼빈', '2024-12-24', '4642215', '44407362460'], ['극장판 포켓몬스터 AG: 뮤와 파동의 용사 루카리오', '2025-01-22', '64585', '570033160'], ['서브스턴스', '2024-12-11', '302870', '2954609400'], ['소방관', '2024-12-04', '3840551', '36145572270'], ['아이유 콘서트 : 더 위닝', '2025-01-24', '28061', '778067000'], ['뽀로로 극장판 바닷속 대모험', '2025-01-01', '349597', '2996015770'], ['극장판 짱구는 못말려: 우리들의 공룡일기', '2024-12-18', '762895', '7177275100'], ['귀신경찰', '2025-01-24', '21949', '191035980']]\n"
     ]
    }
   ],
   "source": [
    "r = requests.get(url)\n",
    "basic_weekly = r.json()['boxOfficeResult']['weeklyBoxOfficeList']\n",
    "# open_dts = basic_daily['openDt'], basic_daily['movieNm'], basic_daily['rank']\n",
    "open_dt = r.json()['boxOfficeResult']['weeklyBoxOfficeList']\n",
    "result = []\n",
    "\n",
    "for i in open_dt:\n",
    "    result.append([i['movieNm'], i['openDt'], i['audiAcc'], i['salesAcc']])\n",
    "    \n",
    "print(result)"
   ]
  },
  {
   "cell_type": "code",
   "execution_count": null,
   "id": "2502eac6-0e64-4e8c-ac02-3c832287eee0",
   "metadata": {},
   "outputs": [],
   "source": [
    "def get_weekly_boxoffice():\n",
    "    pass"
   ]
  },
  {
   "cell_type": "code",
   "execution_count": null,
   "id": "584d68bf-22bc-4227-b566-542fd1e0f678",
   "metadata": {},
   "outputs": [],
   "source": [
    "get_weekly_boxoffice()"
   ]
  },
  {
   "cell_type": "markdown",
   "id": "62dc8573-f951-48be-81f2-c57cc7fa354c",
   "metadata": {},
   "source": [
    "**출력예시**\n",
    "```\n",
    "{'하얼빈': {'영화제목': '하얼빈', '개봉일': '2024-12-24', '누적관객': '4642215', '누적매출': '44407362460'}, '소방관': {'영화제목': '소방관', '개봉일': '2024-12-04', '누적관객': '3840551', '누적매출': '36145572270'}, '보고타: 마지막 기회의 땅': {'영화제목': '보고타: 마지막 기회의 땅', '개봉일': '2024-12-31', '누적관객': '396287', '누적매출': '3669720540'}, '수퍼 소닉3': {'영화제목': '수퍼 소닉3', '개봉일': '2025-01-01', '누적관객': '322100', '누적매출': '2950620910'}, '뽀로로 극장판 바닷속 대모험': {'영화제목': '뽀로로 극장판 바닷속 대모험', '개봉일': '2025-01-01', '누적관객': '349597', '누적매출': '2996015770'}, '무파사: 라이온 킹': {'영화제목': '무파사: 라이온 킹', '개봉일': '2024-12-18', '누적관객': '833832', '누적매출': '8188072950'}, '모아나 2': {'영화제목': '모아나 2', '개봉일': '2024-11-27', '누적관객': '3522517', '누적매출': '32533317750'}, '극장판 짱구는 못말려: 우리들의 공룡일기': {'영화제목': '극장판 짱구는 못말려: 우리들의 공룡일기', '개봉일': '2024-12-18', '누적관객': '762895', '누적매출': '7177275100'}, '위키드': {'영화제목': '위키드', '개봉일': '2024-11-20', '누적관객': '2195165', '누적매출': '21677201940'}, '시빌 워: 분열의 시대': {'영화제목': '시빌 워: 분열의 시대', '개봉일': '2024-12-31', '누적관객': '80373', '누적매출': '836845230'}, '동화지만 청불입니다': {'영화제목': '동화지만 청불입니다', '개봉일': '2025-01-08', '누적관객': '157616', '누적매출': '1465916720'}, '서브스턴스': {'영화제목': '서브스턴스', '개봉일': '2024-12-11', '누적관객': '302870', '누적매출': '2954609400'}, '검은 수녀들': {'영화제목': '검은 수녀들', '개봉일': '2025-01-24', '누적관객': '606145', '누적매출': '5870106460'}, '히트맨2': {'영화제목': '히트맨2', '개봉일': '2025-01-22', '누적관객': '604875', '누적매출': '5686993120'}, '극장판 포켓몬스터 AG: 뮤와 파동의 용사 루카리오': {'영화제목': '극장판 포켓몬스터 AG: 뮤와 파동의 용사 루카리오', '개봉일': '2025-01-22', '누적관객': '64585', '누적매출': '570033160'}, '아이유 콘서트 : 더 위닝': {'영화제목': '아이유 콘서트 : 더 위닝', '개봉일': '2025-01-24', '누적관객': '28061', '누적매출': '778067000'}, '귀신경찰': {'영화제목': '귀신경찰', '개봉일': '2025-01-24', '누적관객': '21949', '누적매출': '191035980'}}\n",
    "```"
   ]
  },
  {
   "cell_type": "markdown",
   "id": "66ab8357-9017-4b6f-942b-9530fad12396",
   "metadata": {},
   "source": [
    "## 일별 박스오피스 영화의 상세정보\n",
    "\n",
    "- **일별 박스오피스 api**와 **영화 상세정보 api**를 사용합니다.\n",
    "- 입력받은 날짜의 일별 박스오피스 TOP 10을 조회합니다.\n",
    "- 각 영화의 상세 정보를 추가로 조회하여 다음 정보를 출력합니다:\n",
    "    - 순위\n",
    "    - 영화제목\n",
    "    - 감독\n",
    "    - 주연배우 (최대 3명)"
   ]
  },
  {
   "cell_type": "code",
   "execution_count": null,
   "id": "eeb6ab3a-3547-42a5-9b33-6ff26a3baada",
   "metadata": {},
   "outputs": [],
   "source": [
    "def get_movie_details(target_date):\n",
    "    pass"
   ]
  },
  {
   "cell_type": "code",
   "execution_count": null,
   "id": "ff9c8d9e-9d6f-466b-aead-01a67bd665a7",
   "metadata": {},
   "outputs": [],
   "source": [
    "get_movie_details(\"20250201\")  # YYYYMMDD 형식으로 날짜 입력"
   ]
  },
  {
   "cell_type": "markdown",
   "id": "b28eb6ba-70b4-47c7-b760-e404770911b7",
   "metadata": {},
   "source": [
    "**출력예시**\n",
    "\n",
    "```\n",
    "1위\n",
    "히트맨2\n",
    "감독: 최원섭\n",
    "주연: 권상우, 정준호, 이이경\n",
    "----------------------------------------\n",
    "\n",
    "2위\n",
    "검은 수녀들\n",
    "감독: 권혁재\n",
    "주연: 송혜교, 전여빈, 이진욱\n",
    "----------------------------------------\n",
    "\n",
    "3위\n",
    "말할 수 없는 비밀\n",
    "감독: 서유민\n",
    "주연: 도경수, 원진아, 신예은\n",
    "----------------------------------------\n",
    "...\n",
    "```"
   ]
  },
  {
   "cell_type": "markdown",
   "id": "ea367bbf-26d0-4bd3-9600-97287eecf26c",
   "metadata": {},
   "source": [
    "## 배우검색\n",
    "\n",
    "- **영화인목록 api**, **영화인 상세정보 api**, **영화 상세정보 api**를 사용합니다.\n",
    "- 배우 이름을 입력받아 해당 배우의 정보를 검색합니다.\n",
    "- 여러 명의 동명 배우가 있는 경우, 필모그래피가 가장 많은 배우를 선택합니다.\n",
    "- 선택된 배우의 출연작 중 '배우'로 참여한 작품 5개의 정보를 출력합니다:\n",
    "    - 영화 제목\n",
    "    - 개봉일\n",
    "    - 상영시간\n",
    "    - 감독"
   ]
  },
  {
   "cell_type": "code",
   "execution_count": null,
   "id": "95921101-c245-409c-9370-c551a8fc752d",
   "metadata": {},
   "outputs": [],
   "source": [
    "def analyze_actor_movies(actor_name):\n",
    "    pass"
   ]
  },
  {
   "cell_type": "code",
   "execution_count": null,
   "id": "e9ee8f1e-1d6c-4dad-8a4a-acd876219c90",
   "metadata": {},
   "outputs": [],
   "source": [
    "analyze_actor_movies(\"박정민\")  # 원하는 배우 이름으로 변경 가능"
   ]
  },
  {
   "cell_type": "markdown",
   "id": "2cf6c442-7bb9-4b9d-a35a-12c94d8b530d",
   "metadata": {},
   "source": [
    "**출력예시**\n",
    "\n",
    "```\n",
    "배우 '박정민'의 최근 출연작 5개\n",
    "\n",
    "제목: 하얼빈\n",
    "개봉일: 20241224\n",
    "상영시간: 113분\n",
    "감독: 우민호\n",
    "\n",
    "제목: 얼굴\n",
    "개봉일: \n",
    "상영시간: 분\n",
    "감독: 연상호\n",
    "\n",
    "제목: 전, 란\n",
    "개봉일: \n",
    "상영시간: 126분\n",
    "감독: 김상만\n",
    "\n",
    "제목: 휴민트\n",
    "개봉일: \n",
    "상영시간: 분\n",
    "감독: 류승완\n",
    "\n",
    "제목: 밀수\n",
    "개봉일: 20230726\n",
    "상영시간: 129분\n",
    "감독: 류승완\n",
    "```"
   ]
  },
  {
   "cell_type": "code",
   "execution_count": null,
   "id": "b96e3899-d8a6-4860-9a6f-ecb13bec9883",
   "metadata": {},
   "outputs": [],
   "source": []
  }
 ],
 "metadata": {
  "kernelspec": {
   "display_name": "Python 3 (ipykernel)",
   "language": "python",
   "name": "python3"
  },
  "language_info": {
   "codemirror_mode": {
    "name": "ipython",
    "version": 3
   },
   "file_extension": ".py",
   "mimetype": "text/x-python",
   "name": "python",
   "nbconvert_exporter": "python",
   "pygments_lexer": "ipython3",
   "version": "3.13.2"
  }
 },
 "nbformat": 4,
 "nbformat_minor": 5
}
