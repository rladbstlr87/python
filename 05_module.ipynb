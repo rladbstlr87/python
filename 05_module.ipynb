{
 "cells": [
  {
   "cell_type": "markdown",
   "id": "a610e4ee-f342-4a10-9b52-e6fde767b22b",
   "metadata": {},
   "source": [
    "# Module\n",
    "- 함수들을 한 번에 묶어놓는 역할"
   ]
  },
  {
   "cell_type": "code",
   "execution_count": null,
   "id": "77b505bc-dcbd-4991-b641-b6f1ccb68f9d",
   "metadata": {},
   "outputs": [],
   "source": [
    "import facto"
   ]
  },
  {
   "cell_type": "code",
   "execution_count": null,
   "id": "a6d54a66-c759-4682-a1c6-ca40925828b4",
   "metadata": {},
   "outputs": [],
   "source": [
    "print(facto)"
   ]
  },
  {
   "cell_type": "code",
   "execution_count": null,
   "id": "9ef0385d-aa59-4635-9d91-294467133066",
   "metadata": {},
   "outputs": [],
   "source": [
    "facto.fact(5)"
   ]
  },
  {
   "cell_type": "code",
   "execution_count": null,
   "id": "351f9223-9600-4b83-bf42-99795f5a9a06",
   "metadata": {},
   "outputs": [],
   "source": [
    "facto.my_max(2, 3)"
   ]
  },
  {
   "cell_type": "markdown",
   "id": "31fc5b56-2801-4f15-8f1a-4e5a928b4b23",
   "metadata": {},
   "source": [
    "# Package\n",
    "```\n",
    "myPackage/\n",
    "    __init__.py\n",
    "    math/\n",
    "        __init__.py\n",
    "```\n",
    "- 패키지 안에 `__init__.py` 파일이 존재해야 패키지로 인식"
   ]
  },
  {
   "cell_type": "markdown",
   "id": "9aa882f0-7b9a-4836-92a8-1f9fef5a9879",
   "metadata": {},
   "source": [
    "- myPackage 폴더와 작성하는 파일이 같은 레벨(폴더구조에서의 계층)이면 import해서 불러와야 한다"
   ]
  },
  {
   "cell_type": "code",
   "execution_count": null,
   "id": "a4ca55e0-2a55-4ef5-a749-531d09962f59",
   "metadata": {},
   "outputs": [],
   "source": [
    "import myPackage"
   ]
  },
  {
   "cell_type": "code",
   "execution_count": null,
   "id": "4a288e32-e18e-4585-8840-fb1fa75d51fd",
   "metadata": {},
   "outputs": [],
   "source": [
    "print(myPackage)"
   ]
  },
  {
   "cell_type": "code",
   "execution_count": null,
   "id": "34d12879-96c4-44e7-a04b-981fe80baecc",
   "metadata": {},
   "outputs": [],
   "source": [
    "from myPackage.math.fomula import my_max"
   ]
  },
  {
   "cell_type": "code",
   "execution_count": null,
   "id": "79913dca-2fb9-4817-9302-cab3024d7241",
   "metadata": {},
   "outputs": [],
   "source": [
    "my_max(2, 3)"
   ]
  },
  {
   "cell_type": "code",
   "execution_count": null,
   "id": "cbdd6b91-3588-4d8f-a14b-8b3bedf2114c",
   "metadata": {},
   "outputs": [],
   "source": [
    "from myPackage.math import fomula\n",
    "my_max(2, 4)"
   ]
  },
  {
   "cell_type": "code",
   "execution_count": 2,
   "id": "284d3b15-0499-4c4e-a4f0-a9461a94b82d",
   "metadata": {},
   "outputs": [
    {
     "name": "stdout",
     "output_type": "stream",
     "text": [
      "3.14\n"
     ]
    }
   ],
   "source": [
    "from myPackage.math.fomula import *\n",
    "print(pi)"
   ]
  },
  {
   "cell_type": "code",
   "execution_count": 1,
   "id": "6f90f5e8-571e-474b-8250-42c8a30cd7a9",
   "metadata": {},
   "outputs": [
    {
     "ename": "NameError",
     "evalue": "name 'pi' is not defined",
     "output_type": "error",
     "traceback": [
      "\u001b[1;31m---------------------------------------------------------------------------\u001b[0m",
      "\u001b[1;31mNameError\u001b[0m                                 Traceback (most recent call last)",
      "Cell \u001b[1;32mIn[1], line 2\u001b[0m\n\u001b[0;32m      1\u001b[0m \u001b[38;5;28;01mfrom\u001b[39;00m\u001b[38;5;250m \u001b[39m\u001b[38;5;21;01mmyPackage\u001b[39;00m\u001b[38;5;250m \u001b[39m\u001b[38;5;28;01mimport\u001b[39;00m \u001b[38;5;241m*\u001b[39m\n\u001b[1;32m----> 2\u001b[0m \u001b[38;5;28mprint\u001b[39m(\u001b[43mpi\u001b[49m)\n",
      "\u001b[1;31mNameError\u001b[0m: name 'pi' is not defined"
     ]
    }
   ],
   "source": [
    "from myPackage import *\n",
    "print(pi)"
   ]
  },
  {
   "cell_type": "code",
   "execution_count": 7,
   "id": "f752e292-62ce-4470-8fd7-c0845d5efc1a",
   "metadata": {},
   "outputs": [
    {
     "name": "stdout",
     "output_type": "stream",
     "text": [
      "<module 'myPackage.math.fomula' from 'C:\\\\Users\\\\1-04\\\\Desktop\\\\DAMF2\\\\python\\\\myPackage\\\\math\\\\fomula.py'>\n"
     ]
    }
   ],
   "source": [
    "fomula = 1234\n",
    "from myPackage.math import fomula\n",
    "print(fomula) # 위에 할당한 1234는 못쓴다"
   ]
  },
  {
   "cell_type": "code",
   "execution_count": 5,
   "id": "38d1ec14-f016-4f45-b646-2f37e4f62514",
   "metadata": {},
   "outputs": [
    {
     "name": "stdout",
     "output_type": "stream",
     "text": [
      "1234\n",
      "<module 'myPackage.math.fomula' from 'C:\\\\Users\\\\1-04\\\\Desktop\\\\DAMF2\\\\python\\\\myPackage\\\\math\\\\fomula.py'>\n"
     ]
    }
   ],
   "source": [
    "fomula = 1234\n",
    "from myPackage.math import fomula as f\n",
    "print(fomula)                # as 로 이름을 정해주면 된다.\n",
    "print(f) "
   ]
  },
  {
   "cell_type": "markdown",
   "id": "4e547e13-29a3-484c-bcf5-1790a7082049",
   "metadata": {},
   "source": [
    "## 파이썬 내장 패키지"
   ]
  },
  {
   "cell_type": "markdown",
   "id": "95f0d125-61fc-406b-8491-d3377bd9a2ff",
   "metadata": {
    "jp-MarkdownHeadingCollapsed": true
   },
   "source": [
    "### math"
   ]
  },
  {
   "cell_type": "code",
   "execution_count": 8,
   "id": "97181a3a-cefd-486c-8257-c8cb4d06fdd6",
   "metadata": {},
   "outputs": [],
   "source": [
    "import math"
   ]
  },
  {
   "cell_type": "code",
   "execution_count": 9,
   "id": "a5622f08-e090-4a0d-9ed7-e8d390a77aeb",
   "metadata": {},
   "outputs": [
    {
     "data": {
      "text/plain": [
       "3.141592653589793"
      ]
     },
     "execution_count": 9,
     "metadata": {},
     "output_type": "execute_result"
    }
   ],
   "source": [
    "math.pi"
   ]
  },
  {
   "cell_type": "code",
   "execution_count": 11,
   "id": "fcf5864c-4d86-45b5-92e2-ea3652ad5b7d",
   "metadata": {},
   "outputs": [
    {
     "data": {
      "text/plain": [
       "2.718281828459045"
      ]
     },
     "execution_count": 11,
     "metadata": {},
     "output_type": "execute_result"
    }
   ],
   "source": [
    "math.e # 자연상수 e"
   ]
  },
  {
   "cell_type": "code",
   "execution_count": 12,
   "id": "b8eba9e4-b5df-4cf2-be0b-dc1f937d4ad2",
   "metadata": {},
   "outputs": [
    {
     "data": {
      "text/plain": [
       "3"
      ]
     },
     "execution_count": 12,
     "metadata": {},
     "output_type": "execute_result"
    }
   ],
   "source": [
    "math.ceil(math.e) # ceil 올림처리해주는 패키지 안의 함수 개념"
   ]
  },
  {
   "cell_type": "code",
   "execution_count": 13,
   "id": "2686c74c-3853-4b61-8112-27a4dab20408",
   "metadata": {},
   "outputs": [
    {
     "data": {
      "text/plain": [
       "3.0"
      ]
     },
     "execution_count": 13,
     "metadata": {},
     "output_type": "execute_result"
    }
   ],
   "source": [
    "math.sqrt(9) # = 루트 9"
   ]
  },
  {
   "cell_type": "code",
   "execution_count": 14,
   "id": "1a146069-5324-4cea-aab1-19c79b75621e",
   "metadata": {},
   "outputs": [
    {
     "data": {
      "text/plain": [
       "3628800"
      ]
     },
     "execution_count": 14,
     "metadata": {},
     "output_type": "execute_result"
    }
   ],
   "source": [
    "math.factorial(10)"
   ]
  },
  {
   "cell_type": "code",
   "execution_count": 16,
   "id": "980fb514-7145-4ae6-9a45-78ddb360d842",
   "metadata": {},
   "outputs": [],
   "source": [
    "from math import sqrt, factorial # 따로 임포트 해놓으면 math.@@ 라는식으로 안불러도 된다"
   ]
  },
  {
   "cell_type": "code",
   "execution_count": 17,
   "id": "16aea969-2cb5-4b86-ba7c-587ec176ed04",
   "metadata": {},
   "outputs": [
    {
     "data": {
      "text/plain": [
       "4.0"
      ]
     },
     "execution_count": 17,
     "metadata": {},
     "output_type": "execute_result"
    }
   ],
   "source": [
    "sqrt(16)"
   ]
  },
  {
   "cell_type": "code",
   "execution_count": 18,
   "id": "c9f28eaf-c2de-4c9c-a5c2-af5d5d332769",
   "metadata": {},
   "outputs": [
    {
     "data": {
      "text/plain": [
       "120"
      ]
     },
     "execution_count": 18,
     "metadata": {},
     "output_type": "execute_result"
    }
   ],
   "source": [
    "factorial(5)"
   ]
  },
  {
   "cell_type": "markdown",
   "id": "9d0bddb1-7dc5-417a-8aa4-62f86c5e6159",
   "metadata": {
    "jp-MarkdownHeadingCollapsed": true
   },
   "source": [
    "### random"
   ]
  },
  {
   "cell_type": "code",
   "execution_count": 19,
   "id": "ed257137-d731-4843-92a5-3069882447db",
   "metadata": {},
   "outputs": [],
   "source": [
    "import random"
   ]
  },
  {
   "cell_type": "code",
   "execution_count": 30,
   "id": "2bff8e9a-b7ef-4c79-82f3-b3aa420de2c9",
   "metadata": {},
   "outputs": [
    {
     "data": {
      "text/plain": [
       "0.7864490947875995"
      ]
     },
     "execution_count": 30,
     "metadata": {},
     "output_type": "execute_result"
    }
   ],
   "source": [
    "random.random()"
   ]
  },
  {
   "cell_type": "code",
   "execution_count": 37,
   "id": "2da83725-24ec-4fd5-8bff-8ae953060b5a",
   "metadata": {},
   "outputs": [
    {
     "data": {
      "text/plain": [
       "7"
      ]
     },
     "execution_count": 37,
     "metadata": {},
     "output_type": "execute_result"
    }
   ],
   "source": [
    "random.randint(1, 10)"
   ]
  },
  {
   "cell_type": "code",
   "execution_count": 39,
   "id": "8b0419d9-d33c-4d09-8366-d6eb1be12348",
   "metadata": {},
   "outputs": [
    {
     "data": {
      "text/plain": [
       "0.052363598850944326"
      ]
     },
     "execution_count": 39,
     "metadata": {},
     "output_type": "execute_result"
    }
   ],
   "source": [
    "random.seed(123)\n",
    "random.random()"
   ]
  },
  {
   "cell_type": "code",
   "execution_count": 40,
   "id": "ec5ef271-6b5a-4ae7-acc4-61cff93d837f",
   "metadata": {},
   "outputs": [],
   "source": [
    "numbers = [1, 2, 3, 4, 5]"
   ]
  },
  {
   "cell_type": "code",
   "execution_count": 43,
   "id": "2e022b6d-eb3d-4722-9722-69fbc7fa60d4",
   "metadata": {},
   "outputs": [
    {
     "name": "stdout",
     "output_type": "stream",
     "text": [
      "[3, 5, 1, 2, 4]\n",
      "None\n"
     ]
    },
    {
     "data": {
      "text/plain": [
       "NoneType"
      ]
     },
     "execution_count": 43,
     "metadata": {},
     "output_type": "execute_result"
    }
   ],
   "source": [
    "random.shuffle(numbers)\n",
    "print(numbers)\n",
    "print(random.shuffle(numbers))\n",
    "type(random.shuffle(numbers))"
   ]
  },
  {
   "cell_type": "code",
   "execution_count": 66,
   "id": "2a74582c-35ab-4f56-bfd6-09b71138ed95",
   "metadata": {},
   "outputs": [
    {
     "name": "stdout",
     "output_type": "stream",
     "text": [
      "3\n",
      "5\n"
     ]
    },
    {
     "data": {
      "text/plain": [
       "int"
      ]
     },
     "execution_count": 66,
     "metadata": {},
     "output_type": "execute_result"
    }
   ],
   "source": [
    "print(random.choice(numbers))\n",
    "print(random.choice(numbers))\n",
    "type(random.choice(numbers))"
   ]
  },
  {
   "cell_type": "code",
   "execution_count": 65,
   "id": "0875a6e1-ee82-4281-bfcf-c3152a09bbd3",
   "metadata": {},
   "outputs": [
    {
     "data": {
      "text/plain": [
       "[1, 2]"
      ]
     },
     "execution_count": 65,
     "metadata": {},
     "output_type": "execute_result"
    }
   ],
   "source": [
    "random.sample(numbers, 2)"
   ]
  },
  {
   "cell_type": "markdown",
   "id": "b4b6a41a-94c1-4f47-925e-554bb9a6751d",
   "metadata": {
    "jp-MarkdownHeadingCollapsed": true
   },
   "source": [
    "### datetime"
   ]
  },
  {
   "cell_type": "code",
   "execution_count": 67,
   "id": "d14aa3c9-f180-4904-9039-2dd6ec81def6",
   "metadata": {},
   "outputs": [],
   "source": [
    "from datetime import datetime"
   ]
  },
  {
   "cell_type": "code",
   "execution_count": 69,
   "id": "503e3014-a732-4a1c-8778-4be94d4eb677",
   "metadata": {},
   "outputs": [
    {
     "data": {
      "text/plain": [
       "datetime.datetime(2025, 2, 18, 14, 39, 11, 625269)"
      ]
     },
     "execution_count": 69,
     "metadata": {},
     "output_type": "execute_result"
    }
   ],
   "source": [
    "datetime.now()"
   ]
  },
  {
   "cell_type": "code",
   "execution_count": 70,
   "id": "5c08c1e1-3a1b-4633-9dd5-8d2fbc9806e9",
   "metadata": {},
   "outputs": [
    {
     "data": {
      "text/plain": [
       "datetime.datetime(2025, 2, 18, 14, 40, 5, 606257)"
      ]
     },
     "execution_count": 70,
     "metadata": {},
     "output_type": "execute_result"
    }
   ],
   "source": [
    "datetime.today()"
   ]
  },
  {
   "cell_type": "code",
   "execution_count": 78,
   "id": "60f1c402-3d85-4bb7-9cb0-093d900bc596",
   "metadata": {},
   "outputs": [
    {
     "name": "stderr",
     "output_type": "stream",
     "text": [
      "C:\\Users\\1-04\\AppData\\Local\\Temp\\ipykernel_12548\\2447951874.py:1: DeprecationWarning: datetime.datetime.utcnow() is deprecated and scheduled for removal in a future version. Use timezone-aware objects to represent datetimes in UTC: datetime.datetime.now(datetime.UTC).\n",
      "  datetime.utcnow() # 전세계 기준시간이므로 +9해야 한국시간\n"
     ]
    },
    {
     "data": {
      "text/plain": [
       "datetime.datetime(2025, 2, 18, 5, 44, 23, 45365)"
      ]
     },
     "execution_count": 78,
     "metadata": {},
     "output_type": "execute_result"
    }
   ],
   "source": [
    "datetime.utcnow() # 전세계 기준시간이므로 +9해야 한국시간\n",
    "# datetime.now(datetime.utc)"
   ]
  },
  {
   "cell_type": "code",
   "execution_count": 79,
   "id": "1897d4c3-55e2-4464-a0b7-10bbcbeac34a",
   "metadata": {},
   "outputs": [],
   "source": [
    "now = datetime.now()"
   ]
  },
  {
   "cell_type": "code",
   "execution_count": 81,
   "id": "e518d358-6f29-487f-8fdb-89adc4309f2e",
   "metadata": {},
   "outputs": [
    {
     "data": {
      "text/plain": [
       "datetime.datetime(2025, 2, 18, 14, 44, 35, 807139)"
      ]
     },
     "execution_count": 81,
     "metadata": {},
     "output_type": "execute_result"
    }
   ],
   "source": [
    "now"
   ]
  },
  {
   "cell_type": "code",
   "execution_count": 82,
   "id": "96884934-ad03-4042-8a2e-14a7a47d69aa",
   "metadata": {},
   "outputs": [
    {
     "data": {
      "text/plain": [
       "2025"
      ]
     },
     "execution_count": 82,
     "metadata": {},
     "output_type": "execute_result"
    }
   ],
   "source": [
    "now.year"
   ]
  },
  {
   "cell_type": "code",
   "execution_count": 83,
   "id": "5a4e4916-750a-42cd-813d-4644b2541483",
   "metadata": {},
   "outputs": [
    {
     "data": {
      "text/plain": [
       "2"
      ]
     },
     "execution_count": 83,
     "metadata": {},
     "output_type": "execute_result"
    }
   ],
   "source": [
    "now.month"
   ]
  },
  {
   "cell_type": "code",
   "execution_count": 85,
   "id": "43aa599d-f634-4051-a2ab-c9e67b4f326d",
   "metadata": {},
   "outputs": [
    {
     "data": {
      "text/plain": [
       "18"
      ]
     },
     "execution_count": 85,
     "metadata": {},
     "output_type": "execute_result"
    }
   ],
   "source": [
    "now.day"
   ]
  },
  {
   "cell_type": "code",
   "execution_count": 86,
   "id": "747ad1e8-6742-4ff3-82ed-178b512a7d94",
   "metadata": {},
   "outputs": [
    {
     "data": {
      "text/plain": [
       "1"
      ]
     },
     "execution_count": 86,
     "metadata": {},
     "output_type": "execute_result"
    }
   ],
   "source": [
    "now.weekday()"
   ]
  },
  {
   "cell_type": "code",
   "execution_count": 88,
   "id": "6d8222b1-8a41-4181-8559-47a2339c13be",
   "metadata": {},
   "outputs": [
    {
     "data": {
      "text/plain": [
       "datetime.datetime"
      ]
     },
     "execution_count": 88,
     "metadata": {},
     "output_type": "execute_result"
    }
   ],
   "source": [
    "type(now)"
   ]
  },
  {
   "cell_type": "code",
   "execution_count": 89,
   "id": "bd37721c-4fdc-466a-8d5d-c49e7b5ae929",
   "metadata": {},
   "outputs": [
    {
     "name": "stdout",
     "output_type": "stream",
     "text": [
      "2025-02-18 14:44:35.807139\n"
     ]
    }
   ],
   "source": [
    "print(now)"
   ]
  },
  {
   "cell_type": "code",
   "execution_count": 93,
   "id": "8b9425e5-881f-4d18-aad7-5ad48196336a",
   "metadata": {},
   "outputs": [
    {
     "data": {
      "text/plain": [
       "'2025년 Feb월 18일'"
      ]
     },
     "execution_count": 93,
     "metadata": {},
     "output_type": "execute_result"
    }
   ],
   "source": [
    "now.strftime('%Y년 %b월 %d일')"
   ]
  },
  {
   "cell_type": "code",
   "execution_count": 97,
   "id": "095f40eb-f4c8-4989-8920-d73c2b147032",
   "metadata": {},
   "outputs": [
    {
     "name": "stdout",
     "output_type": "stream",
     "text": [
      "2025-12-25 00:00:00\n"
     ]
    }
   ],
   "source": [
    "x_mas = datetime(2025, 12, 25)\n",
    "print(x_mas)"
   ]
  },
  {
   "cell_type": "code",
   "execution_count": 98,
   "id": "892a0e4b-6bab-4e9a-86ba-1d3753b60c37",
   "metadata": {},
   "outputs": [],
   "source": [
    "from datetime import timedelta"
   ]
  },
  {
   "cell_type": "code",
   "execution_count": 100,
   "id": "4c969f7a-2123-4f3a-9d4d-522fd86e6bf5",
   "metadata": {},
   "outputs": [
    {
     "name": "stdout",
     "output_type": "stream",
     "text": [
      "2025-09-16 00:00:00\n"
     ]
    }
   ],
   "source": [
    "future = timedelta(days=-100)\n",
    "print(x_mas + future)"
   ]
  },
  {
   "cell_type": "code",
   "execution_count": 103,
   "id": "944cbaba-884f-4a60-8497-bbf88d1d9581",
   "metadata": {},
   "outputs": [
    {
     "name": "stdout",
     "output_type": "stream",
     "text": [
      "309 days, 9:15:24.192861\n"
     ]
    },
    {
     "data": {
      "text/plain": [
       "datetime.timedelta(days=309, seconds=33324, microseconds=192861)"
      ]
     },
     "execution_count": 103,
     "metadata": {},
     "output_type": "execute_result"
    }
   ],
   "source": [
    "print(x_mas - now)\n",
    "x_mas - now"
   ]
  },
  {
   "cell_type": "markdown",
   "id": "395c690a-c9e6-44aa-b830-f083f5c6d762",
   "metadata": {},
   "source": [
    "## 파이썬 외장 패키지"
   ]
  },
  {
   "cell_type": "code",
   "execution_count": null,
   "id": "32a1eb00-07d7-4727-b3ab-290c8a86c4a4",
   "metadata": {},
   "outputs": [],
   "source": []
  }
 ],
 "metadata": {
  "kernelspec": {
   "display_name": "Python 3 (ipykernel)",
   "language": "python",
   "name": "python3"
  },
  "language_info": {
   "codemirror_mode": {
    "name": "ipython",
    "version": 3
   },
   "file_extension": ".py",
   "mimetype": "text/x-python",
   "name": "python",
   "nbconvert_exporter": "python",
   "pygments_lexer": "ipython3",
   "version": "3.13.2"
  }
 },
 "nbformat": 4,
 "nbformat_minor": 5
}
