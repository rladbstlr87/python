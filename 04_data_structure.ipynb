{
 "cells": [
  {
   "cell_type": "markdown",
   "id": "88e4307a-b136-41fb-84c1-0534e05e8079",
   "metadata": {},
   "source": [
    "# 자료구조(data structure)\n",
    "> 여러가지 자료구조가 가지고 잇는 메소드 알아보기\n",
    "> 함수같은 애라서 계산해서 return 해준다라는 개념"
   ]
  },
  {
   "cell_type": "code",
   "execution_count": 1,
   "id": "c428eb21-a313-48ee-9f28-f914edc99e83",
   "metadata": {},
   "outputs": [
    {
     "name": "stdout",
     "output_type": "stream",
     "text": [
      "['__add__', '__class__', '__contains__', '__delattr__', '__dir__', '__doc__', '__eq__', '__format__', '__ge__', '__getattribute__', '__getitem__', '__getnewargs__', '__getstate__', '__gt__', '__hash__', '__init__', '__init_subclass__', '__iter__', '__le__', '__len__', '__lt__', '__mod__', '__mul__', '__ne__', '__new__', '__reduce__', '__reduce_ex__', '__repr__', '__rmod__', '__rmul__', '__setattr__', '__sizeof__', '__str__', '__subclasshook__', 'capitalize', 'casefold', 'center', 'count', 'encode', 'endswith', 'expandtabs', 'find', 'format', 'format_map', 'index', 'isalnum', 'isalpha', 'isascii', 'isdecimal', 'isdigit', 'isidentifier', 'islower', 'isnumeric', 'isprintable', 'isspace', 'istitle', 'isupper', 'join', 'ljust', 'lower', 'lstrip', 'maketrans', 'partition', 'removeprefix', 'removesuffix', 'replace', 'rfind', 'rindex', 'rjust', 'rpartition', 'rsplit', 'rstrip', 'split', 'splitlines', 'startswith', 'strip', 'swapcase', 'title', 'translate', 'upper', 'zfill']\n"
     ]
    }
   ],
   "source": [
    "print(dir('hello'))"
   ]
  },
  {
   "cell_type": "markdown",
   "id": "2d07cba0-7211-4a1a-855a-ceda30981188",
   "metadata": {},
   "source": [
    "## 문자열 메소드"
   ]
  },
  {
   "cell_type": "code",
   "execution_count": 12,
   "id": "9c5e7bf7-87aa-4e42-9047-06de811a3daf",
   "metadata": {},
   "outputs": [],
   "source": [
    "a = 'hello my name is kim. hi'"
   ]
  },
  {
   "cell_type": "code",
   "execution_count": 13,
   "id": "529f80bd-c7e9-486e-8022-0dc184112363",
   "metadata": {},
   "outputs": [
    {
     "name": "stdout",
     "output_type": "stream",
     "text": [
      "hello my name is kim. hi\n"
     ]
    }
   ],
   "source": [
    "print(a)"
   ]
  },
  {
   "cell_type": "code",
   "execution_count": 6,
   "id": "9fa8ed72-0d1b-4c0b-8a98-9f7ffed791e3",
   "metadata": {},
   "outputs": [
    {
     "ename": "TypeError",
     "evalue": "'str' object does not support item assignment",
     "output_type": "error",
     "traceback": [
      "\u001b[1;31m---------------------------------------------------------------------------\u001b[0m",
      "\u001b[1;31mTypeError\u001b[0m                                 Traceback (most recent call last)",
      "Cell \u001b[1;32mIn[6], line 1\u001b[0m\n\u001b[1;32m----> 1\u001b[0m \u001b[43ma\u001b[49m\u001b[43m[\u001b[49m\u001b[38;5;241;43m0\u001b[39;49m\u001b[43m]\u001b[49m \u001b[38;5;241m=\u001b[39m \u001b[38;5;124m'\u001b[39m\u001b[38;5;124mH\u001b[39m\u001b[38;5;124m'\u001b[39m\n",
      "\u001b[1;31mTypeError\u001b[0m: 'str' object does not support item assignment"
     ]
    }
   ],
   "source": [
    "a[0] = 'H'"
   ]
  },
  {
   "cell_type": "code",
   "execution_count": 14,
   "id": "74166a2a-e5ea-449d-b31e-85b0f15db121",
   "metadata": {},
   "outputs": [
    {
     "data": {
      "text/plain": [
       "'Hello my name is kim. hi'"
      ]
     },
     "execution_count": 14,
     "metadata": {},
     "output_type": "execute_result"
    }
   ],
   "source": [
    "a.capitalize()"
   ]
  },
  {
   "cell_type": "code",
   "execution_count": 15,
   "id": "34e9d3d7-5c28-4f3a-9ac6-74a20b2df1e3",
   "metadata": {},
   "outputs": [
    {
     "data": {
      "text/plain": [
       "'HELLO MY NAME IS KIM. HI'"
      ]
     },
     "execution_count": 15,
     "metadata": {},
     "output_type": "execute_result"
    }
   ],
   "source": [
    "a.upper()"
   ]
  },
  {
   "cell_type": "code",
   "execution_count": 16,
   "id": "b4971e69-da23-49fa-930a-8eeb54584583",
   "metadata": {},
   "outputs": [
    {
     "data": {
      "text/plain": [
       "'Hello My Name Is Kim. Hi'"
      ]
     },
     "execution_count": 16,
     "metadata": {},
     "output_type": "execute_result"
    }
   ],
   "source": [
    "a.title()"
   ]
  },
  {
   "cell_type": "code",
   "execution_count": 17,
   "id": "dbd0923f-9ba2-4d78-bb10-a72acc65956f",
   "metadata": {},
   "outputs": [
    {
     "data": {
      "text/plain": [
       "'hello my name is kim. hi'"
      ]
     },
     "execution_count": 17,
     "metadata": {},
     "output_type": "execute_result"
    }
   ],
   "source": [
    "a.lower()"
   ]
  },
  {
   "cell_type": "code",
   "execution_count": 19,
   "id": "9dd41575-7228-44f3-b20f-4b0deb7e93ec",
   "metadata": {},
   "outputs": [
    {
     "data": {
      "text/plain": [
       "'my!name!is'"
      ]
     },
     "execution_count": 19,
     "metadata": {},
     "output_type": "execute_result"
    }
   ],
   "source": [
    "my_list = ['my', 'name', 'is']\n",
    "'!'.join(my_list)"
   ]
  },
  {
   "cell_type": "code",
   "execution_count": 21,
   "id": "a391a127-693e-4530-8812-6c2abe301a8f",
   "metadata": {},
   "outputs": [
    {
     "data": {
      "text/plain": [
       "'몰?루'"
      ]
     },
     "execution_count": 21,
     "metadata": {},
     "output_type": "execute_result"
    }
   ],
   "source": [
    "'?'.join('몰루')"
   ]
  },
  {
   "cell_type": "code",
   "execution_count": 25,
   "id": "08fb64b1-abb7-4d41-b590-5c3e59218497",
   "metadata": {},
   "outputs": [
    {
     "name": "stdout",
     "output_type": "stream",
     "text": [
      "        \t    hello           \n",
      "\n"
     ]
    }
   ],
   "source": [
    "a = '        \\t    hello           \\n'\n",
    "print(a)"
   ]
  },
  {
   "cell_type": "code",
   "execution_count": 27,
   "id": "77aa451b-2606-4afc-9238-6856792ef4c6",
   "metadata": {},
   "outputs": [
    {
     "data": {
      "text/plain": [
       "'hello'"
      ]
     },
     "execution_count": 27,
     "metadata": {},
     "output_type": "execute_result"
    }
   ],
   "source": [
    "a.strip() # \\t:탭키 누른 효과"
   ]
  },
  {
   "cell_type": "code",
   "execution_count": 28,
   "id": "a2cb37f7-cac9-4f94-87f4-bcacc13294b4",
   "metadata": {},
   "outputs": [],
   "source": [
    "a = '!!!!!!!!!!!!!!!!hello@@@@@@@@@@@'"
   ]
  },
  {
   "cell_type": "code",
   "execution_count": 31,
   "id": "53f49cb7-f99c-4f84-a8f0-2f2137eb7291",
   "metadata": {},
   "outputs": [
    {
     "data": {
      "text/plain": [
       "'hello'"
      ]
     },
     "execution_count": 31,
     "metadata": {},
     "output_type": "execute_result"
    }
   ],
   "source": [
    "a.strip('!@')"
   ]
  },
  {
   "cell_type": "code",
   "execution_count": 32,
   "id": "d3378ba8-f2c3-4ef0-871f-17e4609bd4c7",
   "metadata": {},
   "outputs": [
    {
     "data": {
      "text/plain": [
       "'hello-----------'"
      ]
     },
     "execution_count": 32,
     "metadata": {},
     "output_type": "execute_result"
    }
   ],
   "source": [
    "a = '-----------hello-----------'\n",
    "a.lstrip('-')"
   ]
  },
  {
   "cell_type": "code",
   "execution_count": 33,
   "id": "c1ec19a0-dda8-4ab5-860c-06228fa7cced",
   "metadata": {},
   "outputs": [
    {
     "data": {
      "text/plain": [
       "'-----------hello'"
      ]
     },
     "execution_count": 33,
     "metadata": {},
     "output_type": "execute_result"
    }
   ],
   "source": [
    "a.rstrip('-')"
   ]
  },
  {
   "cell_type": "code",
   "execution_count": 36,
   "id": "f36df104-b761-4f2a-a427-5263203806ac",
   "metadata": {},
   "outputs": [
    {
     "data": {
      "text/plain": [
       "'aoooooooooooooooooa'"
      ]
     },
     "execution_count": 36,
     "metadata": {},
     "output_type": "execute_result"
    }
   ],
   "source": [
    "a = 'wooooooooooooooooow'\n",
    "a.replace('w', 'a')"
   ]
  },
  {
   "cell_type": "code",
   "execution_count": 37,
   "id": "18eb2c43-5e4d-4779-9f81-4e5bae99eaec",
   "metadata": {},
   "outputs": [
    {
     "data": {
      "text/plain": [
       "'w!!!oooooooooooooow'"
      ]
     },
     "execution_count": 37,
     "metadata": {},
     "output_type": "execute_result"
    }
   ],
   "source": [
    "a.replace('o', '!', 3)"
   ]
  },
  {
   "cell_type": "code",
   "execution_count": 42,
   "id": "53ef4fa8-6e0a-43a1-be0c-56ddafff013e",
   "metadata": {},
   "outputs": [
    {
     "data": {
      "text/plain": [
       "-1"
      ]
     },
     "execution_count": 42,
     "metadata": {},
     "output_type": "execute_result"
    }
   ],
   "source": [
    "a = 'apple'\n",
    "a.find('a') # => 0\n",
    "a.find('p') # => 1\n",
    "a.find('l') # => 3\n",
    "a.find('z') # => -1"
   ]
  },
  {
   "cell_type": "code",
   "execution_count": 44,
   "id": "f4b50eff-82af-48ea-9611-3394f4412e54",
   "metadata": {},
   "outputs": [
    {
     "ename": "ValueError",
     "evalue": "substring not found",
     "output_type": "error",
     "traceback": [
      "\u001b[1;31m---------------------------------------------------------------------------\u001b[0m",
      "\u001b[1;31mValueError\u001b[0m                                Traceback (most recent call last)",
      "Cell \u001b[1;32mIn[44], line 5\u001b[0m\n\u001b[0;32m      3\u001b[0m a\u001b[38;5;241m.\u001b[39mindex(\u001b[38;5;124m'\u001b[39m\u001b[38;5;124mp\u001b[39m\u001b[38;5;124m'\u001b[39m) \u001b[38;5;66;03m# => 1\u001b[39;00m\n\u001b[0;32m      4\u001b[0m a\u001b[38;5;241m.\u001b[39mindex(\u001b[38;5;124m'\u001b[39m\u001b[38;5;124ml\u001b[39m\u001b[38;5;124m'\u001b[39m) \u001b[38;5;66;03m# => 3\u001b[39;00m\n\u001b[1;32m----> 5\u001b[0m \u001b[43ma\u001b[49m\u001b[38;5;241;43m.\u001b[39;49m\u001b[43mindex\u001b[49m\u001b[43m(\u001b[49m\u001b[38;5;124;43m'\u001b[39;49m\u001b[38;5;124;43mz\u001b[39;49m\u001b[38;5;124;43m'\u001b[39;49m\u001b[43m)\u001b[49m \u001b[38;5;66;03m# => error. 인덱스에서 -1은 맨뒤를 의미한다\u001b[39;00m\n",
      "\u001b[1;31mValueError\u001b[0m: substring not found"
     ]
    }
   ],
   "source": [
    "a = 'apple'\n",
    "a.index('a') # => 0\n",
    "a.index('p') # => 1\n",
    "a.index('l') # => 3\n",
    "a.index('z') # => error. 인덱스에서 -1은 맨뒤를 의미한다"
   ]
  },
  {
   "cell_type": "code",
   "execution_count": 45,
   "id": "ede70493-763c-43bd-b117-8f9125d57a52",
   "metadata": {},
   "outputs": [
    {
     "data": {
      "text/plain": [
       "['hello', 'my', 'name', 'is', 'kim.', 'hi']"
      ]
     },
     "execution_count": 45,
     "metadata": {},
     "output_type": "execute_result"
    }
   ],
   "source": [
    "a = 'hello my name is kim. hi'\n",
    "a.split()"
   ]
  },
  {
   "cell_type": "code",
   "execution_count": 47,
   "id": "332a81e5-a9c7-4eb4-8740-dfff4710bf4b",
   "metadata": {},
   "outputs": [
    {
     "data": {
      "text/plain": [
       "['hello', 'my', 'name', 'is?kim.', 'hi']"
      ]
     },
     "execution_count": 47,
     "metadata": {},
     "output_type": "execute_result"
    }
   ],
   "source": [
    "a = 'hello!my!name!is?kim.!hi'\n",
    "a.split('!')"
   ]
  },
  {
   "cell_type": "code",
   "execution_count": 52,
   "id": "e146982f-148d-4856-a4a0-126a832d776a",
   "metadata": {},
   "outputs": [
    {
     "data": {
      "text/plain": [
       "17"
      ]
     },
     "execution_count": 52,
     "metadata": {},
     "output_type": "execute_result"
    }
   ],
   "source": [
    "a = 'wooooooooooooooooow'\n",
    "a.count('o')"
   ]
  },
  {
   "cell_type": "markdown",
   "id": "30adc754-bcb8-426f-b9d8-048e6457fcbe",
   "metadata": {
    "jp-MarkdownHeadingCollapsed": true
   },
   "source": [
    "## 리스트 메소드"
   ]
  },
  {
   "cell_type": "code",
   "execution_count": 12,
   "id": "35c41aa7-0142-47c6-a8de-3f7418106081",
   "metadata": {},
   "outputs": [],
   "source": [
    "numbers = [2, 6, 34, 4, 7, 9, 4]"
   ]
  },
  {
   "cell_type": "code",
   "execution_count": 13,
   "id": "2bb869a1-a933-41f1-8e16-50d8eea3d0a1",
   "metadata": {},
   "outputs": [
    {
     "name": "stdout",
     "output_type": "stream",
     "text": [
      "[2, 6, 34, 4, 7, 9, 4, 10]\n"
     ]
    }
   ],
   "source": [
    "numbers.append(10) # append (하나의 데이터만)덧붙이다 추가하다\n",
    "print(numbers)"
   ]
  },
  {
   "cell_type": "code",
   "execution_count": 14,
   "id": "d2ac036c-dacf-45a1-9472-9b1d5c0e6b1f",
   "metadata": {},
   "outputs": [],
   "source": [
    "a = [99, 100]"
   ]
  },
  {
   "cell_type": "code",
   "execution_count": 15,
   "id": "1c046f65-2e0a-4177-85f4-87bf7e8b3f2a",
   "metadata": {},
   "outputs": [
    {
     "name": "stdout",
     "output_type": "stream",
     "text": [
      "[2, 6, 34, 4, 7, 9, 4, 10, 99, 100]\n"
     ]
    }
   ],
   "source": [
    "numbers.extend(a) # extend (여러개의 데이터를) 확장하다 concatenate라고 생각하면 편하다\n",
    "print(numbers)"
   ]
  },
  {
   "cell_type": "code",
   "execution_count": 16,
   "id": "2283c01f-51b0-456b-86cd-cbc293ff95e3",
   "metadata": {},
   "outputs": [
    {
     "name": "stdout",
     "output_type": "stream",
     "text": [
      "[2, 6, 34, 5555, 4, 7, 9, 4, 10, 99, 100]\n"
     ]
    }
   ],
   "source": [
    "numbers.insert(3, 5555)\n",
    "print(numbers)"
   ]
  },
  {
   "cell_type": "code",
   "execution_count": 17,
   "id": "eb13e088-7420-4daf-885d-bbd654533e18",
   "metadata": {},
   "outputs": [
    {
     "name": "stdout",
     "output_type": "stream",
     "text": [
      "[2, 6, 34, 4, 7, 9, 4, 10, 99, 100]\n"
     ]
    }
   ],
   "source": [
    "numbers.remove(5555) # 첫번째 x를 찾아서 제거, 없으면 error\n",
    "print(numbers)"
   ]
  },
  {
   "cell_type": "code",
   "execution_count": 18,
   "id": "8a5fa484-e582-49a9-b1fd-6c64c57f8876",
   "metadata": {},
   "outputs": [
    {
     "name": "stdout",
     "output_type": "stream",
     "text": [
      "[2, 6, 34, 4, 7, 9, 4, 10, 99]\n"
     ]
    }
   ],
   "source": [
    "numbers.pop() # 맨 뒤의 것을 뺄 때\n",
    "print(numbers)"
   ]
  },
  {
   "cell_type": "code",
   "execution_count": 19,
   "id": "a180262f-9eba-4845-9e0d-6b1149a8c7c9",
   "metadata": {},
   "outputs": [
    {
     "name": "stderr",
     "output_type": "stream",
     "text": [
      "'[stack��'��(��) ���� �Ǵ� �ܺ� ����, ������ �� �ִ� ���α׷�, �Ǵ�\n",
      "��ġ ������ �ƴմϴ�.\n"
     ]
    }
   ],
   "source": [
    "![stack과 queue](https://velog.velcdn.com/images/lhj5924/post/0bf6cb3b-85d4-40f8-a112-36e9bad909a9/image.png)"
   ]
  },
  {
   "cell_type": "code",
   "execution_count": 20,
   "id": "e304793f-3e32-46b0-9508-60c179618b99",
   "metadata": {},
   "outputs": [
    {
     "name": "stdout",
     "output_type": "stream",
     "text": [
      "[6, 34, 4, 7, 9, 4, 10, 99]\n"
     ]
    }
   ],
   "source": [
    "numbers.pop(0) # 인덱스개념으로 몇번째꺼를 뺄 때\n",
    "print(numbers)"
   ]
  },
  {
   "cell_type": "code",
   "execution_count": 21,
   "id": "7c3abee2-6b99-46e8-b8d6-d52734cf3a23",
   "metadata": {},
   "outputs": [
    {
     "name": "stdout",
     "output_type": "stream",
     "text": [
      "[4, 4, 6, 7, 9, 10, 34, 99]\n"
     ]
    }
   ],
   "source": [
    "numbers.sort()\n",
    "print(numbers)"
   ]
  },
  {
   "cell_type": "code",
   "execution_count": 22,
   "id": "28e046e5-526a-4def-8fed-9e004f384910",
   "metadata": {},
   "outputs": [
    {
     "name": "stdout",
     "output_type": "stream",
     "text": [
      "[99, 34, 10, 9, 7, 6, 4, 4]\n"
     ]
    }
   ],
   "source": [
    "numbers.sort(reverse=True)\n",
    "print(numbers)"
   ]
  },
  {
   "cell_type": "code",
   "execution_count": 25,
   "id": "7821e64d-2c6b-4ddc-83aa-da564257589c",
   "metadata": {},
   "outputs": [
    {
     "name": "stdout",
     "output_type": "stream",
     "text": [
      "[1, 2, 3, 5, 7, 8]\n",
      "[5, 3, 2, 7, 8, 1]\n"
     ]
    }
   ],
   "source": [
    "a = [5, 3, 2, 7, 8, 1]\n",
    "print(sorted(a)) # 원본을 안바꾼다\n",
    "print(a)"
   ]
  },
  {
   "cell_type": "code",
   "execution_count": 30,
   "id": "6c05d68b-8fa6-499b-9721-0be20da4e79e",
   "metadata": {},
   "outputs": [
    {
     "name": "stdout",
     "output_type": "stream",
     "text": [
      "['a', 'e', 'g', 'z', '하']\n"
     ]
    }
   ],
   "source": [
    "my_list = ['a', '하', 'e', 'g', 'z']\n",
    "my_list.sort()\n",
    "print(my_list)"
   ]
  },
  {
   "cell_type": "code",
   "execution_count": 31,
   "id": "52bed303-fdf5-467b-92d4-abdf97ba3353",
   "metadata": {},
   "outputs": [
    {
     "name": "stdout",
     "output_type": "stream",
     "text": [
      "[99, 34, 10, 9, 7, 6, 4, 4]\n",
      "[4, 4, 6, 7, 9, 10, 34, 99]\n"
     ]
    }
   ],
   "source": [
    "print(numbers)\n",
    "numbers.reverse()\n",
    "print(numbers)"
   ]
  },
  {
   "cell_type": "code",
   "execution_count": 32,
   "id": "12c1e39e-06b1-4cb7-be19-15aaf42867dc",
   "metadata": {},
   "outputs": [
    {
     "data": {
      "text/plain": [
       "2"
      ]
     },
     "execution_count": 32,
     "metadata": {},
     "output_type": "execute_result"
    }
   ],
   "source": [
    "numbers.count(4)"
   ]
  },
  {
   "cell_type": "markdown",
   "id": "b95b219a-fecf-439b-a9ec-67fe3096988b",
   "metadata": {},
   "source": [
    "## list copy"
   ]
  },
  {
   "cell_type": "code",
   "execution_count": 33,
   "id": "e37ba8d8-ac2d-43e2-8c38-ec8d34c3f06e",
   "metadata": {},
   "outputs": [],
   "source": [
    "origin_list = [1, 2, 3]\n",
    "copy_list = origin_list"
   ]
  },
  {
   "cell_type": "code",
   "execution_count": 34,
   "id": "df281371-ca79-46de-a999-d1a83d060516",
   "metadata": {},
   "outputs": [
    {
     "name": "stdout",
     "output_type": "stream",
     "text": [
      "[1, 2, 3]\n",
      "[1, 2, 3]\n"
     ]
    }
   ],
   "source": [
    "print(origin_list)\n",
    "print(copy_list)"
   ]
  },
  {
   "cell_type": "code",
   "execution_count": 35,
   "id": "b848c3a9-dea3-4d19-a094-5ff496ae7c6c",
   "metadata": {},
   "outputs": [
    {
     "name": "stdout",
     "output_type": "stream",
     "text": [
      "[100, 2, 3]\n",
      "[100, 2, 3]\n"
     ]
    }
   ],
   "source": [
    "copy_list[0] = 100 # 한다리 거쳐서 0번째를 100으로 바꿨는데 그러면...\n",
    "print(origin_list)\n",
    "print(copy_list)"
   ]
  },
  {
   "cell_type": "markdown",
   "id": "c3c38218-4ef0-467b-8fce-b02d941edda1",
   "metadata": {},
   "source": [
    "- 싱크가 된것처럼 원본도 바뀐다\n",
    "- 독립적으로 원본을 보호하려면"
   ]
  },
  {
   "cell_type": "code",
   "execution_count": 37,
   "id": "814e2d8f-3db7-4cd7-b54e-99004ce9bae1",
   "metadata": {},
   "outputs": [
    {
     "name": "stdout",
     "output_type": "stream",
     "text": [
      "[1, 2, 3]\n",
      "[100, 2, 3]\n"
     ]
    }
   ],
   "source": [
    "origin_list = [1, 2, 3]\n",
    "copy_list = origin_list[:] #[:]은 슬라이싱 해주세요인데 \n",
    "\n",
    "copy_list[0] = 100 # 이번에도 한다리 거쳐서 0번째를 100으로 바꿨다 그러면...\n",
    "print(origin_list)\n",
    "print(copy_list)"
   ]
  },
  {
   "cell_type": "code",
   "execution_count": 38,
   "id": "329f2283-322b-4af9-86dd-9ef53241f008",
   "metadata": {},
   "outputs": [
    {
     "name": "stdout",
     "output_type": "stream",
     "text": [
      "[1, 2, [-10, 11]]\n",
      "[100, 2, [-10, 11]]\n"
     ]
    }
   ],
   "source": [
    "o_l = [1, 2, [10, 11]]\n",
    "c_l = o_l[:]\n",
    "\n",
    "c_l[0] = 100\n",
    "c_l[2][0] = -10\n",
    "\n",
    "print(o_l)\n",
    "print(c_l)"
   ]
  },
  {
   "cell_type": "code",
   "execution_count": 40,
   "id": "5094eb24-3a28-4243-8512-dfba4fd66d7c",
   "metadata": {},
   "outputs": [
    {
     "name": "stdout",
     "output_type": "stream",
     "text": [
      "[1, 2, [10, 11]]\n",
      "[100, 2, [10, -11]]\n"
     ]
    }
   ],
   "source": [
    "import copy\n",
    "\n",
    "o_l = [1, 2, [10, 11]]\n",
    "c_l = copy.deepcopy(o_l)\n",
    "\n",
    "c_l[0] = 100\n",
    "c_l[2][1] = -11\n",
    "\n",
    "print(o_l)\n",
    "print(c_l)"
   ]
  },
  {
   "cell_type": "markdown",
   "id": "ea13ab78-e386-42ac-9064-e2c2d75271ba",
   "metadata": {},
   "source": [
    "### list comprehension"
   ]
  },
  {
   "cell_type": "code",
   "execution_count": 66,
   "id": "e589a573-9de4-4b92-81bf-7ece73fdf8ae",
   "metadata": {},
   "outputs": [
    {
     "name": "stdout",
     "output_type": "stream",
     "text": [
      "[1, 2, 3, 4, 5, 6, 7, 8, 9, 10]\n"
     ]
    }
   ],
   "source": [
    "numbers = list(range(1, 11))\n",
    "print(numbers)"
   ]
  },
  {
   "cell_type": "code",
   "execution_count": 67,
   "id": "5586ff62-cdf3-4fb2-954e-aaecfd6064b2",
   "metadata": {},
   "outputs": [
    {
     "name": "stdout",
     "output_type": "stream",
     "text": [
      "[1, 8, 27, 64, 125, 216, 343, 512, 729, 1000]\n"
     ]
    }
   ],
   "source": [
    "result = [] # 많이 쓰는 용법이다. 일괄적으로 뭔가 할때\n",
    "for number in numbers:\n",
    "    temp = number ** 3\n",
    "    result.append(temp)\n",
    "\n",
    "print(result)"
   ]
  },
  {
   "cell_type": "code",
   "execution_count": 68,
   "id": "f56e3483-af68-4d10-a155-c2e6522b96a8",
   "metadata": {},
   "outputs": [
    {
     "name": "stdout",
     "output_type": "stream",
     "text": [
      "[1, 8, 27, 64, 125, 216, 343, 512, 729, 1000]\n"
     ]
    }
   ],
   "source": [
    "result = [number ** 3 for number in numbers]\n",
    "print(result)"
   ]
  },
  {
   "cell_type": "code",
   "execution_count": 100,
   "id": "a16fc345-ea76-40e2-b1de-681029edd5a3",
   "metadata": {},
   "outputs": [
    {
     "name": "stdout",
     "output_type": "stream",
     "text": [
      "[2, 4, 6, 8, 10, 12, 14, 16, 18, 20, 22, 24, 26, 28, 30]\n"
     ]
    }
   ],
   "source": [
    "# 짝수만 고르기\n",
    "numbers = list(range(1, 31))\n",
    "result = []\n",
    "\n",
    "for number in numbers:\n",
    "    if number % 2 == 0:\n",
    "        result.append(number)\n",
    "        \n",
    "print(result)"
   ]
  },
  {
   "cell_type": "code",
   "execution_count": 101,
   "id": "9eb0c36b-347c-48fe-bfe2-dc943e4f1fe8",
   "metadata": {},
   "outputs": [
    {
     "name": "stdout",
     "output_type": "stream",
     "text": [
      "[2, 4, 6, 8, 10, 12, 14, 16, 18, 20, 22, 24, 26, 28, 30]\n"
     ]
    }
   ],
   "source": [
    "numbers = list(range(1, 31))\n",
    "result = [number for number in numbers if number % 2 == 0]\n",
    "\n",
    "print(result)"
   ]
  },
  {
   "cell_type": "code",
   "execution_count": 125,
   "id": "d1ffa57a-4cd6-4371-8369-8960e13909f8",
   "metadata": {},
   "outputs": [
    {
     "name": "stdout",
     "output_type": "stream",
     "text": [
      "['my n', 'me is hong']\n"
     ]
    }
   ],
   "source": [
    "# 연습! 모음제거 a e i o u\n",
    "words = 'my name is hong'\n",
    "word = words.split('a')\n",
    "print(word)"
   ]
  },
  {
   "cell_type": "code",
   "execution_count": 140,
   "id": "eb610824-5015-4675-9431-0a03c66b8eee",
   "metadata": {},
   "outputs": [
    {
     "name": "stdout",
     "output_type": "stream",
     "text": [
      "['m', 'y', ' ', 'n', 'm', ' ', 's', ' ', 'h', 'n', 'g']\n",
      "my nm s hng\n"
     ]
    }
   ],
   "source": [
    "# 1. for / if (자음을 남기는 경우)\n",
    "vowels = ['a', 'e', 'i', 'o', 'u']\n",
    "result = []\n",
    "for word in words:\n",
    "    # vowels(모음)인 경우\n",
    "    if word in vowels:\n",
    "        pass\n",
    "    else:\n",
    "        result.append(word)\n",
    "    \n",
    "print(result)\n",
    "print(''.join(result))"
   ]
  },
  {
   "cell_type": "code",
   "execution_count": 142,
   "id": "92c75bf7-6060-44ed-b0f7-5fadb1b07a6a",
   "metadata": {},
   "outputs": [
    {
     "name": "stdout",
     "output_type": "stream",
     "text": [
      "['m', 'y', ' ', 'n', 'm', ' ', 's', ' ', 'h', 'n', 'g']\n",
      "my nm s hng\n"
     ]
    }
   ],
   "source": [
    "# 2. for / if (자음을 남기는 경우)\n",
    "result = []\n",
    "for word in words:\n",
    "    # vowels(모음)이 아닌경우\n",
    "    if word not in 'aeiou':\n",
    "        result.append(word)\n",
    "\n",
    "print(result)\n",
    "print(''.join(result))"
   ]
  },
  {
   "cell_type": "code",
   "execution_count": 143,
   "id": "b0304545-c996-4d0d-b578-0fef2ad1ceb1",
   "metadata": {},
   "outputs": [
    {
     "name": "stdout",
     "output_type": "stream",
     "text": [
      "['m', 'y', ' ', 'n', 'm', ' ', 's', ' ', 'h', 'n', 'g']\n"
     ]
    }
   ],
   "source": [
    "# 2. list comprehension\n",
    "result = [word for word in words if word not in 'aeiou']\n",
    "print(result)"
   ]
  },
  {
   "cell_type": "code",
   "execution_count": 144,
   "id": "8b21da6c-9219-4ec1-9c3f-2a4854ff0990",
   "metadata": {},
   "outputs": [
    {
     "name": "stdout",
     "output_type": "stream",
     "text": [
      "my nm s hng\n"
     ]
    }
   ],
   "source": [
    "# 3. replace 메소드\n",
    "vowels = 'aeiou'\n",
    "\n",
    "for word in vowels:\n",
    "    words = words.replace(word, '')\n",
    "print(words)"
   ]
  },
  {
   "cell_type": "code",
   "execution_count": 146,
   "id": "238264ed-82cf-4c87-8ddc-6444b081238a",
   "metadata": {},
   "outputs": [
    {
     "name": "stdout",
     "output_type": "stream",
     "text": [
      "my nm s hng\n"
     ]
    }
   ],
   "source": [
    "vowels = 'aeiou'\n",
    "\n",
    "for char in vowels: \n",
    "    words = words.replace(char, '') # replace : char를 찾아서 ''로 바꿀거야\n",
    "print(words)"
   ]
  },
  {
   "cell_type": "code",
   "execution_count": null,
   "id": "4b8f93ab-ed0b-4399-a48f-8c9aa4a619c3",
   "metadata": {},
   "outputs": [],
   "source": []
  }
 ],
 "metadata": {
  "kernelspec": {
   "display_name": "Python 3 (ipykernel)",
   "language": "python",
   "name": "python3"
  },
  "language_info": {
   "codemirror_mode": {
    "name": "ipython",
    "version": 3
   },
   "file_extension": ".py",
   "mimetype": "text/x-python",
   "name": "python",
   "nbconvert_exporter": "python",
   "pygments_lexer": "ipython3",
   "version": "3.13.2"
  }
 },
 "nbformat": 4,
 "nbformat_minor": 5
}
