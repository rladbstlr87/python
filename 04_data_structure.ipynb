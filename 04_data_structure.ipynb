{
 "cells": [
  {
   "cell_type": "markdown",
   "id": "88e4307a-b136-41fb-84c1-0534e05e8079",
   "metadata": {},
   "source": [
    "# 자료구조(data structure)\n",
    "> 여러가지 자료구조가 가지고 잇는 메소드 알아보기\n",
    "> 함수같은 애라서 계산해서 return 해준다라는 개념"
   ]
  },
  {
   "cell_type": "code",
   "execution_count": 1,
   "id": "c428eb21-a313-48ee-9f28-f914edc99e83",
   "metadata": {},
   "outputs": [
    {
     "name": "stdout",
     "output_type": "stream",
     "text": [
      "['__add__', '__class__', '__contains__', '__delattr__', '__dir__', '__doc__', '__eq__', '__format__', '__ge__', '__getattribute__', '__getitem__', '__getnewargs__', '__getstate__', '__gt__', '__hash__', '__init__', '__init_subclass__', '__iter__', '__le__', '__len__', '__lt__', '__mod__', '__mul__', '__ne__', '__new__', '__reduce__', '__reduce_ex__', '__repr__', '__rmod__', '__rmul__', '__setattr__', '__sizeof__', '__str__', '__subclasshook__', 'capitalize', 'casefold', 'center', 'count', 'encode', 'endswith', 'expandtabs', 'find', 'format', 'format_map', 'index', 'isalnum', 'isalpha', 'isascii', 'isdecimal', 'isdigit', 'isidentifier', 'islower', 'isnumeric', 'isprintable', 'isspace', 'istitle', 'isupper', 'join', 'ljust', 'lower', 'lstrip', 'maketrans', 'partition', 'removeprefix', 'removesuffix', 'replace', 'rfind', 'rindex', 'rjust', 'rpartition', 'rsplit', 'rstrip', 'split', 'splitlines', 'startswith', 'strip', 'swapcase', 'title', 'translate', 'upper', 'zfill']\n"
     ]
    }
   ],
   "source": [
    "print(dir('hello'))"
   ]
  },
  {
   "cell_type": "markdown",
   "id": "2d07cba0-7211-4a1a-855a-ceda30981188",
   "metadata": {
    "jp-MarkdownHeadingCollapsed": true
   },
   "source": [
    "## 문자열 메소드"
   ]
  },
  {
   "cell_type": "code",
   "execution_count": 12,
   "id": "9c5e7bf7-87aa-4e42-9047-06de811a3daf",
   "metadata": {},
   "outputs": [],
   "source": [
    "a = 'hello my name is kim. hi'"
   ]
  },
  {
   "cell_type": "code",
   "execution_count": 13,
   "id": "529f80bd-c7e9-486e-8022-0dc184112363",
   "metadata": {},
   "outputs": [
    {
     "name": "stdout",
     "output_type": "stream",
     "text": [
      "hello my name is kim. hi\n"
     ]
    }
   ],
   "source": [
    "print(a)"
   ]
  },
  {
   "cell_type": "code",
   "execution_count": 6,
   "id": "9fa8ed72-0d1b-4c0b-8a98-9f7ffed791e3",
   "metadata": {},
   "outputs": [
    {
     "ename": "TypeError",
     "evalue": "'str' object does not support item assignment",
     "output_type": "error",
     "traceback": [
      "\u001b[1;31m---------------------------------------------------------------------------\u001b[0m",
      "\u001b[1;31mTypeError\u001b[0m                                 Traceback (most recent call last)",
      "Cell \u001b[1;32mIn[6], line 1\u001b[0m\n\u001b[1;32m----> 1\u001b[0m \u001b[43ma\u001b[49m\u001b[43m[\u001b[49m\u001b[38;5;241;43m0\u001b[39;49m\u001b[43m]\u001b[49m \u001b[38;5;241m=\u001b[39m \u001b[38;5;124m'\u001b[39m\u001b[38;5;124mH\u001b[39m\u001b[38;5;124m'\u001b[39m\n",
      "\u001b[1;31mTypeError\u001b[0m: 'str' object does not support item assignment"
     ]
    }
   ],
   "source": [
    "a[0] = 'H'"
   ]
  },
  {
   "cell_type": "code",
   "execution_count": 14,
   "id": "74166a2a-e5ea-449d-b31e-85b0f15db121",
   "metadata": {},
   "outputs": [
    {
     "data": {
      "text/plain": [
       "'Hello my name is kim. hi'"
      ]
     },
     "execution_count": 14,
     "metadata": {},
     "output_type": "execute_result"
    }
   ],
   "source": [
    "a.capitalize()"
   ]
  },
  {
   "cell_type": "code",
   "execution_count": 15,
   "id": "34e9d3d7-5c28-4f3a-9ac6-74a20b2df1e3",
   "metadata": {},
   "outputs": [
    {
     "data": {
      "text/plain": [
       "'HELLO MY NAME IS KIM. HI'"
      ]
     },
     "execution_count": 15,
     "metadata": {},
     "output_type": "execute_result"
    }
   ],
   "source": [
    "a.upper()"
   ]
  },
  {
   "cell_type": "code",
   "execution_count": 16,
   "id": "b4971e69-da23-49fa-930a-8eeb54584583",
   "metadata": {},
   "outputs": [
    {
     "data": {
      "text/plain": [
       "'Hello My Name Is Kim. Hi'"
      ]
     },
     "execution_count": 16,
     "metadata": {},
     "output_type": "execute_result"
    }
   ],
   "source": [
    "a.title()"
   ]
  },
  {
   "cell_type": "code",
   "execution_count": 17,
   "id": "dbd0923f-9ba2-4d78-bb10-a72acc65956f",
   "metadata": {},
   "outputs": [
    {
     "data": {
      "text/plain": [
       "'hello my name is kim. hi'"
      ]
     },
     "execution_count": 17,
     "metadata": {},
     "output_type": "execute_result"
    }
   ],
   "source": [
    "a.lower()"
   ]
  },
  {
   "cell_type": "code",
   "execution_count": 19,
   "id": "9dd41575-7228-44f3-b20f-4b0deb7e93ec",
   "metadata": {},
   "outputs": [
    {
     "data": {
      "text/plain": [
       "'my!name!is'"
      ]
     },
     "execution_count": 19,
     "metadata": {},
     "output_type": "execute_result"
    }
   ],
   "source": [
    "my_list = ['my', 'name', 'is']\n",
    "'!'.join(my_list)"
   ]
  },
  {
   "cell_type": "code",
   "execution_count": 21,
   "id": "a391a127-693e-4530-8812-6c2abe301a8f",
   "metadata": {},
   "outputs": [
    {
     "data": {
      "text/plain": [
       "'몰?루'"
      ]
     },
     "execution_count": 21,
     "metadata": {},
     "output_type": "execute_result"
    }
   ],
   "source": [
    "'?'.join('몰루')"
   ]
  },
  {
   "cell_type": "code",
   "execution_count": 25,
   "id": "08fb64b1-abb7-4d41-b590-5c3e59218497",
   "metadata": {},
   "outputs": [
    {
     "name": "stdout",
     "output_type": "stream",
     "text": [
      "        \t    hello           \n",
      "\n"
     ]
    }
   ],
   "source": [
    "a = '        \\t    hello           \\n'\n",
    "print(a)"
   ]
  },
  {
   "cell_type": "code",
   "execution_count": 27,
   "id": "77aa451b-2606-4afc-9238-6856792ef4c6",
   "metadata": {},
   "outputs": [
    {
     "data": {
      "text/plain": [
       "'hello'"
      ]
     },
     "execution_count": 27,
     "metadata": {},
     "output_type": "execute_result"
    }
   ],
   "source": [
    "a.strip() # \\t:탭키 누른 효과"
   ]
  },
  {
   "cell_type": "code",
   "execution_count": 28,
   "id": "a2cb37f7-cac9-4f94-87f4-bcacc13294b4",
   "metadata": {},
   "outputs": [],
   "source": [
    "a = '!!!!!!!!!!!!!!!!hello@@@@@@@@@@@'"
   ]
  },
  {
   "cell_type": "code",
   "execution_count": 31,
   "id": "53f49cb7-f99c-4f84-a8f0-2f2137eb7291",
   "metadata": {},
   "outputs": [
    {
     "data": {
      "text/plain": [
       "'hello'"
      ]
     },
     "execution_count": 31,
     "metadata": {},
     "output_type": "execute_result"
    }
   ],
   "source": [
    "a.strip('!@')"
   ]
  },
  {
   "cell_type": "code",
   "execution_count": 32,
   "id": "d3378ba8-f2c3-4ef0-871f-17e4609bd4c7",
   "metadata": {},
   "outputs": [
    {
     "data": {
      "text/plain": [
       "'hello-----------'"
      ]
     },
     "execution_count": 32,
     "metadata": {},
     "output_type": "execute_result"
    }
   ],
   "source": [
    "a = '-----------hello-----------'\n",
    "a.lstrip('-')"
   ]
  },
  {
   "cell_type": "code",
   "execution_count": 33,
   "id": "c1ec19a0-dda8-4ab5-860c-06228fa7cced",
   "metadata": {},
   "outputs": [
    {
     "data": {
      "text/plain": [
       "'-----------hello'"
      ]
     },
     "execution_count": 33,
     "metadata": {},
     "output_type": "execute_result"
    }
   ],
   "source": [
    "a.rstrip('-')"
   ]
  },
  {
   "cell_type": "code",
   "execution_count": 36,
   "id": "f36df104-b761-4f2a-a427-5263203806ac",
   "metadata": {},
   "outputs": [
    {
     "data": {
      "text/plain": [
       "'aoooooooooooooooooa'"
      ]
     },
     "execution_count": 36,
     "metadata": {},
     "output_type": "execute_result"
    }
   ],
   "source": [
    "a = 'wooooooooooooooooow'\n",
    "a.replace('w', 'a')"
   ]
  },
  {
   "cell_type": "code",
   "execution_count": 37,
   "id": "18eb2c43-5e4d-4779-9f81-4e5bae99eaec",
   "metadata": {},
   "outputs": [
    {
     "data": {
      "text/plain": [
       "'w!!!oooooooooooooow'"
      ]
     },
     "execution_count": 37,
     "metadata": {},
     "output_type": "execute_result"
    }
   ],
   "source": [
    "a.replace('o', '!', 3)"
   ]
  },
  {
   "cell_type": "code",
   "execution_count": 42,
   "id": "53ef4fa8-6e0a-43a1-be0c-56ddafff013e",
   "metadata": {},
   "outputs": [
    {
     "data": {
      "text/plain": [
       "-1"
      ]
     },
     "execution_count": 42,
     "metadata": {},
     "output_type": "execute_result"
    }
   ],
   "source": [
    "a = 'apple'\n",
    "a.find('a') # => 0\n",
    "a.find('p') # => 1\n",
    "a.find('l') # => 3\n",
    "a.find('z') # => -1"
   ]
  },
  {
   "cell_type": "code",
   "execution_count": 44,
   "id": "f4b50eff-82af-48ea-9611-3394f4412e54",
   "metadata": {},
   "outputs": [
    {
     "ename": "ValueError",
     "evalue": "substring not found",
     "output_type": "error",
     "traceback": [
      "\u001b[1;31m---------------------------------------------------------------------------\u001b[0m",
      "\u001b[1;31mValueError\u001b[0m                                Traceback (most recent call last)",
      "Cell \u001b[1;32mIn[44], line 5\u001b[0m\n\u001b[0;32m      3\u001b[0m a\u001b[38;5;241m.\u001b[39mindex(\u001b[38;5;124m'\u001b[39m\u001b[38;5;124mp\u001b[39m\u001b[38;5;124m'\u001b[39m) \u001b[38;5;66;03m# => 1\u001b[39;00m\n\u001b[0;32m      4\u001b[0m a\u001b[38;5;241m.\u001b[39mindex(\u001b[38;5;124m'\u001b[39m\u001b[38;5;124ml\u001b[39m\u001b[38;5;124m'\u001b[39m) \u001b[38;5;66;03m# => 3\u001b[39;00m\n\u001b[1;32m----> 5\u001b[0m \u001b[43ma\u001b[49m\u001b[38;5;241;43m.\u001b[39;49m\u001b[43mindex\u001b[49m\u001b[43m(\u001b[49m\u001b[38;5;124;43m'\u001b[39;49m\u001b[38;5;124;43mz\u001b[39;49m\u001b[38;5;124;43m'\u001b[39;49m\u001b[43m)\u001b[49m \u001b[38;5;66;03m# => error. 인덱스에서 -1은 맨뒤를 의미한다\u001b[39;00m\n",
      "\u001b[1;31mValueError\u001b[0m: substring not found"
     ]
    }
   ],
   "source": [
    "a = 'apple'\n",
    "a.index('a') # => 0\n",
    "a.index('p') # => 1\n",
    "a.index('l') # => 3\n",
    "a.index('z') # => error. 인덱스에서 -1은 맨뒤를 의미한다"
   ]
  },
  {
   "cell_type": "code",
   "execution_count": 45,
   "id": "ede70493-763c-43bd-b117-8f9125d57a52",
   "metadata": {},
   "outputs": [
    {
     "data": {
      "text/plain": [
       "['hello', 'my', 'name', 'is', 'kim.', 'hi']"
      ]
     },
     "execution_count": 45,
     "metadata": {},
     "output_type": "execute_result"
    }
   ],
   "source": [
    "a = 'hello my name is kim. hi'\n",
    "a.split()"
   ]
  },
  {
   "cell_type": "code",
   "execution_count": 47,
   "id": "332a81e5-a9c7-4eb4-8740-dfff4710bf4b",
   "metadata": {},
   "outputs": [
    {
     "data": {
      "text/plain": [
       "['hello', 'my', 'name', 'is?kim.', 'hi']"
      ]
     },
     "execution_count": 47,
     "metadata": {},
     "output_type": "execute_result"
    }
   ],
   "source": [
    "a = 'hello!my!name!is?kim.!hi'\n",
    "a.split('!')"
   ]
  },
  {
   "cell_type": "code",
   "execution_count": 52,
   "id": "e146982f-148d-4856-a4a0-126a832d776a",
   "metadata": {},
   "outputs": [
    {
     "data": {
      "text/plain": [
       "17"
      ]
     },
     "execution_count": 52,
     "metadata": {},
     "output_type": "execute_result"
    }
   ],
   "source": [
    "a = 'wooooooooooooooooow'\n",
    "a.count('o')"
   ]
  },
  {
   "cell_type": "markdown",
   "id": "30adc754-bcb8-426f-b9d8-048e6457fcbe",
   "metadata": {},
   "source": [
    "## 리스트 메소드"
   ]
  },
  {
   "cell_type": "code",
   "execution_count": 12,
   "id": "35c41aa7-0142-47c6-a8de-3f7418106081",
   "metadata": {},
   "outputs": [],
   "source": [
    "numbers = [2, 6, 34, 4, 7, 9, 4]"
   ]
  },
  {
   "cell_type": "code",
   "execution_count": 13,
   "id": "2bb869a1-a933-41f1-8e16-50d8eea3d0a1",
   "metadata": {},
   "outputs": [
    {
     "name": "stdout",
     "output_type": "stream",
     "text": [
      "[2, 6, 34, 4, 7, 9, 4, 10]\n"
     ]
    }
   ],
   "source": [
    "numbers.append(10) # append (하나의 데이터만)덧붙이다 추가하다\n",
    "print(numbers)"
   ]
  },
  {
   "cell_type": "code",
   "execution_count": 14,
   "id": "d2ac036c-dacf-45a1-9472-9b1d5c0e6b1f",
   "metadata": {},
   "outputs": [],
   "source": [
    "a = [99, 100]"
   ]
  },
  {
   "cell_type": "code",
   "execution_count": 15,
   "id": "1c046f65-2e0a-4177-85f4-87bf7e8b3f2a",
   "metadata": {},
   "outputs": [
    {
     "name": "stdout",
     "output_type": "stream",
     "text": [
      "[2, 6, 34, 4, 7, 9, 4, 10, 99, 100]\n"
     ]
    }
   ],
   "source": [
    "numbers.extend(a) # extend (여러개의 데이터를) 확장하다 concatenate라고 생각하면 편하다\n",
    "print(numbers)"
   ]
  },
  {
   "cell_type": "code",
   "execution_count": 16,
   "id": "2283c01f-51b0-456b-86cd-cbc293ff95e3",
   "metadata": {},
   "outputs": [
    {
     "name": "stdout",
     "output_type": "stream",
     "text": [
      "[2, 6, 34, 5555, 4, 7, 9, 4, 10, 99, 100]\n"
     ]
    }
   ],
   "source": [
    "numbers.insert(3, 5555)\n",
    "print(numbers)"
   ]
  },
  {
   "cell_type": "code",
   "execution_count": 17,
   "id": "eb13e088-7420-4daf-885d-bbd654533e18",
   "metadata": {},
   "outputs": [
    {
     "name": "stdout",
     "output_type": "stream",
     "text": [
      "[2, 6, 34, 4, 7, 9, 4, 10, 99, 100]\n"
     ]
    }
   ],
   "source": [
    "numbers.remove(5555) # 첫번째 x를 찾아서 제거, 없으면 error\n",
    "print(numbers)"
   ]
  },
  {
   "cell_type": "code",
   "execution_count": 18,
   "id": "8a5fa484-e582-49a9-b1fd-6c64c57f8876",
   "metadata": {},
   "outputs": [
    {
     "name": "stdout",
     "output_type": "stream",
     "text": [
      "[2, 6, 34, 4, 7, 9, 4, 10, 99]\n"
     ]
    }
   ],
   "source": [
    "numbers.pop() # 맨 뒤의 것을 뺄 때\n",
    "print(numbers)"
   ]
  },
  {
   "cell_type": "code",
   "execution_count": 19,
   "id": "a180262f-9eba-4845-9e0d-6b1149a8c7c9",
   "metadata": {},
   "outputs": [
    {
     "name": "stderr",
     "output_type": "stream",
     "text": [
      "'[stack��'��(��) ���� �Ǵ� �ܺ� ����, ������ �� �ִ� ���α׷�, �Ǵ�\n",
      "��ġ ������ �ƴմϴ�.\n"
     ]
    }
   ],
   "source": [
    "![stack과 queue](https://velog.velcdn.com/images/lhj5924/post/0bf6cb3b-85d4-40f8-a112-36e9bad909a9/image.png)"
   ]
  },
  {
   "cell_type": "code",
   "execution_count": 20,
   "id": "e304793f-3e32-46b0-9508-60c179618b99",
   "metadata": {},
   "outputs": [
    {
     "name": "stdout",
     "output_type": "stream",
     "text": [
      "[6, 34, 4, 7, 9, 4, 10, 99]\n"
     ]
    }
   ],
   "source": [
    "numbers.pop(0) # 인덱스개념으로 몇번째꺼를 뺄 때\n",
    "print(numbers)"
   ]
  },
  {
   "cell_type": "code",
   "execution_count": 21,
   "id": "7c3abee2-6b99-46e8-b8d6-d52734cf3a23",
   "metadata": {},
   "outputs": [
    {
     "name": "stdout",
     "output_type": "stream",
     "text": [
      "[4, 4, 6, 7, 9, 10, 34, 99]\n"
     ]
    }
   ],
   "source": [
    "numbers.sort()\n",
    "print(numbers)"
   ]
  },
  {
   "cell_type": "code",
   "execution_count": 22,
   "id": "28e046e5-526a-4def-8fed-9e004f384910",
   "metadata": {},
   "outputs": [
    {
     "name": "stdout",
     "output_type": "stream",
     "text": [
      "[99, 34, 10, 9, 7, 6, 4, 4]\n"
     ]
    }
   ],
   "source": [
    "numbers.sort(reverse=True)\n",
    "print(numbers)"
   ]
  },
  {
   "cell_type": "code",
   "execution_count": 25,
   "id": "7821e64d-2c6b-4ddc-83aa-da564257589c",
   "metadata": {},
   "outputs": [
    {
     "name": "stdout",
     "output_type": "stream",
     "text": [
      "[1, 2, 3, 5, 7, 8]\n",
      "[5, 3, 2, 7, 8, 1]\n"
     ]
    }
   ],
   "source": [
    "a = [5, 3, 2, 7, 8, 1]\n",
    "print(sorted(a)) # 원본을 안바꾼다\n",
    "print(a)"
   ]
  },
  {
   "cell_type": "code",
   "execution_count": 30,
   "id": "6c05d68b-8fa6-499b-9721-0be20da4e79e",
   "metadata": {},
   "outputs": [
    {
     "name": "stdout",
     "output_type": "stream",
     "text": [
      "['a', 'e', 'g', 'z', '하']\n"
     ]
    }
   ],
   "source": [
    "my_list = ['a', '하', 'e', 'g', 'z']\n",
    "my_list.sort()\n",
    "print(my_list)"
   ]
  },
  {
   "cell_type": "code",
   "execution_count": 31,
   "id": "52bed303-fdf5-467b-92d4-abdf97ba3353",
   "metadata": {},
   "outputs": [
    {
     "name": "stdout",
     "output_type": "stream",
     "text": [
      "[99, 34, 10, 9, 7, 6, 4, 4]\n",
      "[4, 4, 6, 7, 9, 10, 34, 99]\n"
     ]
    }
   ],
   "source": [
    "print(numbers)\n",
    "numbers.reverse()\n",
    "print(numbers)"
   ]
  },
  {
   "cell_type": "code",
   "execution_count": 32,
   "id": "12c1e39e-06b1-4cb7-be19-15aaf42867dc",
   "metadata": {},
   "outputs": [
    {
     "data": {
      "text/plain": [
       "2"
      ]
     },
     "execution_count": 32,
     "metadata": {},
     "output_type": "execute_result"
    }
   ],
   "source": [
    "numbers.count(4)"
   ]
  },
  {
   "cell_type": "markdown",
   "id": "b95b219a-fecf-439b-a9ec-67fe3096988b",
   "metadata": {},
   "source": [
    "## list copy"
   ]
  },
  {
   "cell_type": "code",
   "execution_count": 33,
   "id": "e37ba8d8-ac2d-43e2-8c38-ec8d34c3f06e",
   "metadata": {},
   "outputs": [],
   "source": [
    "origin_list = [1, 2, 3]\n",
    "copy_list = origin_list"
   ]
  },
  {
   "cell_type": "code",
   "execution_count": 34,
   "id": "df281371-ca79-46de-a999-d1a83d060516",
   "metadata": {},
   "outputs": [
    {
     "name": "stdout",
     "output_type": "stream",
     "text": [
      "[1, 2, 3]\n",
      "[1, 2, 3]\n"
     ]
    }
   ],
   "source": [
    "print(origin_list)\n",
    "print(copy_list)"
   ]
  },
  {
   "cell_type": "code",
   "execution_count": 35,
   "id": "b848c3a9-dea3-4d19-a094-5ff496ae7c6c",
   "metadata": {},
   "outputs": [
    {
     "name": "stdout",
     "output_type": "stream",
     "text": [
      "[100, 2, 3]\n",
      "[100, 2, 3]\n"
     ]
    }
   ],
   "source": [
    "copy_list[0] = 100 # 한다리 거쳐서 0번째를 100으로 바꿨는데 그러면...\n",
    "print(origin_list)\n",
    "print(copy_list)"
   ]
  },
  {
   "cell_type": "markdown",
   "id": "c3c38218-4ef0-467b-8fce-b02d941edda1",
   "metadata": {},
   "source": [
    "- 싱크가 된것처럼 원본도 바뀐다\n",
    "- 독립적으로 원본을 보호하려면"
   ]
  },
  {
   "cell_type": "code",
   "execution_count": 37,
   "id": "814e2d8f-3db7-4cd7-b54e-99004ce9bae1",
   "metadata": {},
   "outputs": [
    {
     "name": "stdout",
     "output_type": "stream",
     "text": [
      "[1, 2, 3]\n",
      "[100, 2, 3]\n"
     ]
    }
   ],
   "source": [
    "origin_list = [1, 2, 3]\n",
    "copy_list = origin_list[:] #[:]은 슬라이싱 해주세요인데 \n",
    "\n",
    "copy_list[0] = 100 # 이번에도 한다리 거쳐서 0번째를 100으로 바꿨다 그러면...\n",
    "print(origin_list)\n",
    "print(copy_list)"
   ]
  },
  {
   "cell_type": "code",
   "execution_count": 38,
   "id": "329f2283-322b-4af9-86dd-9ef53241f008",
   "metadata": {},
   "outputs": [
    {
     "name": "stdout",
     "output_type": "stream",
     "text": [
      "[1, 2, [-10, 11]]\n",
      "[100, 2, [-10, 11]]\n"
     ]
    }
   ],
   "source": [
    "o_l = [1, 2, [10, 11]]\n",
    "c_l = o_l[:]\n",
    "\n",
    "c_l[0] = 100\n",
    "c_l[2][0] = -10\n",
    "\n",
    "print(o_l)\n",
    "print(c_l)"
   ]
  },
  {
   "cell_type": "code",
   "execution_count": 40,
   "id": "5094eb24-3a28-4243-8512-dfba4fd66d7c",
   "metadata": {},
   "outputs": [
    {
     "name": "stdout",
     "output_type": "stream",
     "text": [
      "[1, 2, [10, 11]]\n",
      "[100, 2, [10, -11]]\n"
     ]
    }
   ],
   "source": [
    "import copy\n",
    "\n",
    "o_l = [1, 2, [10, 11]]\n",
    "c_l = copy.deepcopy(o_l)\n",
    "\n",
    "c_l[0] = 100\n",
    "c_l[2][1] = -11\n",
    "\n",
    "print(o_l)\n",
    "print(c_l)"
   ]
  },
  {
   "cell_type": "markdown",
   "id": "ea13ab78-e386-42ac-9064-e2c2d75271ba",
   "metadata": {},
   "source": [
    "### list comprehension"
   ]
  },
  {
   "cell_type": "code",
   "execution_count": 66,
   "id": "e589a573-9de4-4b92-81bf-7ece73fdf8ae",
   "metadata": {},
   "outputs": [
    {
     "name": "stdout",
     "output_type": "stream",
     "text": [
      "[1, 2, 3, 4, 5, 6, 7, 8, 9, 10]\n"
     ]
    }
   ],
   "source": [
    "numbers = list(range(1, 11))\n",
    "print(numbers)"
   ]
  },
  {
   "cell_type": "code",
   "execution_count": 67,
   "id": "5586ff62-cdf3-4fb2-954e-aaecfd6064b2",
   "metadata": {},
   "outputs": [
    {
     "name": "stdout",
     "output_type": "stream",
     "text": [
      "[1, 8, 27, 64, 125, 216, 343, 512, 729, 1000]\n"
     ]
    }
   ],
   "source": [
    "result = [] # 많이 쓰는 용법이다. 일괄적으로 뭔가 할때\n",
    "for number in numbers:\n",
    "    temp = number ** 3\n",
    "    result.append(temp)\n",
    "\n",
    "print(result)"
   ]
  },
  {
   "cell_type": "code",
   "execution_count": 68,
   "id": "f56e3483-af68-4d10-a155-c2e6522b96a8",
   "metadata": {},
   "outputs": [
    {
     "name": "stdout",
     "output_type": "stream",
     "text": [
      "[1, 8, 27, 64, 125, 216, 343, 512, 729, 1000]\n"
     ]
    }
   ],
   "source": [
    "result = [number ** 3 for number in numbers]\n",
    "print(result)"
   ]
  },
  {
   "cell_type": "code",
   "execution_count": 100,
   "id": "a16fc345-ea76-40e2-b1de-681029edd5a3",
   "metadata": {},
   "outputs": [
    {
     "name": "stdout",
     "output_type": "stream",
     "text": [
      "[2, 4, 6, 8, 10, 12, 14, 16, 18, 20, 22, 24, 26, 28, 30]\n"
     ]
    }
   ],
   "source": [
    "# 짝수만 고르기\n",
    "numbers = list(range(1, 31))\n",
    "result = []\n",
    "\n",
    "for number in numbers:\n",
    "    if number % 2 == 0:\n",
    "        result.append(number)\n",
    "        \n",
    "print(result)"
   ]
  },
  {
   "cell_type": "code",
   "execution_count": 101,
   "id": "9eb0c36b-347c-48fe-bfe2-dc943e4f1fe8",
   "metadata": {},
   "outputs": [
    {
     "name": "stdout",
     "output_type": "stream",
     "text": [
      "[2, 4, 6, 8, 10, 12, 14, 16, 18, 20, 22, 24, 26, 28, 30]\n"
     ]
    }
   ],
   "source": [
    "numbers = list(range(1, 31))\n",
    "result = [number for number in numbers if number % 2 == 0]\n",
    "\n",
    "print(result)"
   ]
  },
  {
   "cell_type": "code",
   "execution_count": 125,
   "id": "d1ffa57a-4cd6-4371-8369-8960e13909f8",
   "metadata": {},
   "outputs": [
    {
     "name": "stdout",
     "output_type": "stream",
     "text": [
      "['my n', 'me is hong']\n"
     ]
    }
   ],
   "source": [
    "# 연습! 모음제거 a e i o u\n",
    "words = 'my name is hong'\n",
    "word = words.split('a')\n",
    "print(word)"
   ]
  },
  {
   "cell_type": "code",
   "execution_count": 140,
   "id": "eb610824-5015-4675-9431-0a03c66b8eee",
   "metadata": {},
   "outputs": [
    {
     "name": "stdout",
     "output_type": "stream",
     "text": [
      "['m', 'y', ' ', 'n', 'm', ' ', 's', ' ', 'h', 'n', 'g']\n",
      "my nm s hng\n"
     ]
    }
   ],
   "source": [
    "# 1. for / if (자음을 남기는 경우)\n",
    "vowels = ['a', 'e', 'i', 'o', 'u']\n",
    "result = []\n",
    "for word in words:\n",
    "    # vowels(모음)인 경우\n",
    "    if word in vowels:\n",
    "        pass\n",
    "    else:\n",
    "        result.append(word)\n",
    "    \n",
    "print(result)\n",
    "print(''.join(result))"
   ]
  },
  {
   "cell_type": "code",
   "execution_count": 142,
   "id": "92c75bf7-6060-44ed-b0f7-5fadb1b07a6a",
   "metadata": {},
   "outputs": [
    {
     "name": "stdout",
     "output_type": "stream",
     "text": [
      "['m', 'y', ' ', 'n', 'm', ' ', 's', ' ', 'h', 'n', 'g']\n",
      "my nm s hng\n"
     ]
    }
   ],
   "source": [
    "# 2. for / if (자음을 남기는 경우)\n",
    "result = []\n",
    "for word in words:\n",
    "    # vowels(모음)이 아닌경우\n",
    "    if word not in 'aeiou':\n",
    "        result.append(word)\n",
    "\n",
    "print(result)\n",
    "print(''.join(result))"
   ]
  },
  {
   "cell_type": "code",
   "execution_count": 143,
   "id": "b0304545-c996-4d0d-b578-0fef2ad1ceb1",
   "metadata": {},
   "outputs": [
    {
     "name": "stdout",
     "output_type": "stream",
     "text": [
      "['m', 'y', ' ', 'n', 'm', ' ', 's', ' ', 'h', 'n', 'g']\n"
     ]
    }
   ],
   "source": [
    "# 2. list comprehension\n",
    "result = [word for word in words if word not in 'aeiou']\n",
    "print(result)"
   ]
  },
  {
   "cell_type": "code",
   "execution_count": 144,
   "id": "8b21da6c-9219-4ec1-9c3f-2a4854ff0990",
   "metadata": {},
   "outputs": [
    {
     "name": "stdout",
     "output_type": "stream",
     "text": [
      "my nm s hng\n"
     ]
    }
   ],
   "source": [
    "# 3. replace 메소드\n",
    "vowels = 'aeiou'\n",
    "\n",
    "for word in vowels:\n",
    "    words = words.replace(word, '')\n",
    "print(words)"
   ]
  },
  {
   "cell_type": "code",
   "execution_count": 146,
   "id": "238264ed-82cf-4c87-8ddc-6444b081238a",
   "metadata": {},
   "outputs": [
    {
     "name": "stdout",
     "output_type": "stream",
     "text": [
      "my nm s hng\n"
     ]
    }
   ],
   "source": [
    "vowels = 'aeiou'\n",
    "\n",
    "for char in vowels: \n",
    "    words = words.replace(char, '') # replace : char를 찾아서 ''로 바꿀거야\n",
    "print(words)"
   ]
  },
  {
   "cell_type": "markdown",
   "id": "a3642e06-096c-4c9f-94c5-dbaa29b9d167",
   "metadata": {},
   "source": [
    "## dictionary 메소드"
   ]
  },
  {
   "cell_type": "code",
   "execution_count": 2,
   "id": "0e93e31a-a40d-4121-92c6-28cf6afb8247",
   "metadata": {},
   "outputs": [],
   "source": [
    "info = {\n",
    "    'name': 'kim',\n",
    "    'location': 'seoul',\n",
    "    'age': 20,\n",
    "    'phone_book': {\n",
    "        'kim': '010-8787-5454',\n",
    "        'park': '010-1234-4567'\n",
    "    },\n",
    "    'models': ['iphone', 'ipad'],\n",
    "}"
   ]
  },
  {
   "cell_type": "code",
   "execution_count": 6,
   "id": "0009b8fb-4f96-41c8-b969-d1050361fdc4",
   "metadata": {},
   "outputs": [
    {
     "name": "stdout",
     "output_type": "stream",
     "text": [
      "kim\n",
      "20\n",
      "010-1234-4567\n",
      "['iphone', 'ipad']\n"
     ]
    }
   ],
   "source": [
    "print(info['name']) # key를 이용해서 접근해야한다\n",
    "print(info['age'])\n",
    "print(info['phone_book']['park']) # 무조건 한땀 한땀 들어가야한다\n",
    "print(info['models'][:])"
   ]
  },
  {
   "cell_type": "code",
   "execution_count": 10,
   "id": "fdcbb09f-37ae-4f02-8b67-b029e731114c",
   "metadata": {},
   "outputs": [
    {
     "name": "stdout",
     "output_type": "stream",
     "text": [
      "{'name': 'lee', 'location': 'seoul', 'age': 20, 'phone_book': {'kim': '010-8787-5454', 'park': '010-1234-4567'}, 'models': ['iphone', 'ipad']}\n"
     ]
    }
   ],
   "source": [
    "info['name'] = 'lee'\n",
    "print(info)"
   ]
  },
  {
   "cell_type": "code",
   "execution_count": 11,
   "id": "db7b0910-1f29-4669-928d-19194f089dbb",
   "metadata": {},
   "outputs": [
    {
     "name": "stdout",
     "output_type": "stream",
     "text": [
      "{'name': 'choi', 'location': 'seoul', 'age': 20, 'phone_book': {'kim': '010-8787-5454', 'park': '010-1234-4567'}, 'models': ['iphone', 'ipad']}\n"
     ]
    }
   ],
   "source": [
    "info.update(name='choi')\n",
    "print(info)"
   ]
  },
  {
   "cell_type": "markdown",
   "id": "5fc37599-60ea-4820-9bfd-d06cae79043a",
   "metadata": {},
   "source": [
    "- 위의 두 경우가 같은 결과를 나타내는 다른 용법들이다"
   ]
  },
  {
   "cell_type": "code",
   "execution_count": 12,
   "id": "1b84f5f1-11d0-48b6-a4f3-4a3b0defab23",
   "metadata": {},
   "outputs": [
    {
     "name": "stdout",
     "output_type": "stream",
     "text": [
      "{'name': 'choi', 'age': 20, 'phone_book': {'kim': '010-8787-5454', 'park': '010-1234-4567'}, 'models': ['iphone', 'ipad']}\n"
     ]
    }
   ],
   "source": [
    "info.pop('location') # location을 빼낸다\n",
    "print(info)"
   ]
  },
  {
   "cell_type": "code",
   "execution_count": 13,
   "id": "3550ae4f-d5aa-4132-82e7-ed2e1fb26490",
   "metadata": {},
   "outputs": [
    {
     "name": "stdout",
     "output_type": "stream",
     "text": [
      "choi\n",
      "choi\n"
     ]
    }
   ],
   "source": [
    "print(info.get('name'))\n",
    "print(info['name'])"
   ]
  },
  {
   "cell_type": "code",
   "execution_count": 15,
   "id": "b103f4fd-35f5-4e69-9be4-ef5571268a75",
   "metadata": {},
   "outputs": [
    {
     "name": "stdout",
     "output_type": "stream",
     "text": [
      "None\n"
     ]
    },
    {
     "ename": "KeyError",
     "evalue": "'birth'",
     "output_type": "error",
     "traceback": [
      "\u001b[1;31m---------------------------------------------------------------------------\u001b[0m",
      "\u001b[1;31mKeyError\u001b[0m                                  Traceback (most recent call last)",
      "Cell \u001b[1;32mIn[15], line 2\u001b[0m\n\u001b[0;32m      1\u001b[0m \u001b[38;5;28mprint\u001b[39m(info\u001b[38;5;241m.\u001b[39mget(\u001b[38;5;124m'\u001b[39m\u001b[38;5;124mbirth\u001b[39m\u001b[38;5;124m'\u001b[39m)) \u001b[38;5;66;03m# 없는 값을 불러오면 동작은 하면서 none을 출력했지만\u001b[39;00m\n\u001b[1;32m----> 2\u001b[0m \u001b[38;5;28mprint\u001b[39m(\u001b[43minfo\u001b[49m\u001b[43m[\u001b[49m\u001b[38;5;124;43m'\u001b[39;49m\u001b[38;5;124;43mbirth\u001b[39;49m\u001b[38;5;124;43m'\u001b[39;49m\u001b[43m]\u001b[49m) \u001b[38;5;66;03m# 없는 값을 불러오면 에러 발생\u001b[39;00m\n",
      "\u001b[1;31mKeyError\u001b[0m: 'birth'"
     ]
    }
   ],
   "source": [
    "print(info.get('birth')) # 없는 값을 불러오면 동작은 하면서 none을 출력했지만\n",
    "print(info['birth']) # 없는 값을 불러오면 에러 발생"
   ]
  },
  {
   "cell_type": "code",
   "execution_count": 17,
   "id": "91557303-5be4-4250-9ca6-493ad2ab3ec6",
   "metadata": {},
   "outputs": [],
   "source": [
    "# 연습문제\n",
    "blood_type = ['A', 'B', 'O', 'O', 'O', 'A', 'AB', 'A', 'A', 'A', 'B', 'B', 'O', 'O', 'A']\n",
    "\n",
    "# A형이 몇명이고 B형이 몇명인지..\n",
    "# {'A': X명, 'B': Y명, 'AB': Z명, 'O': Q명}"
   ]
  },
  {
   "cell_type": "code",
   "execution_count": 23,
   "id": "50e6a863-4c4f-4c9f-a3f5-e6676813f89b",
   "metadata": {},
   "outputs": [
    {
     "name": "stdout",
     "output_type": "stream",
     "text": [
      "6 3 1 5\n"
     ]
    }
   ],
   "source": [
    "print(blood_type.count('A'), blood_type.count('B'), blood_type.count('AB'), blood_type.count('O'))"
   ]
  },
  {
   "cell_type": "code",
   "execution_count": 33,
   "id": "74aace43-01a4-4633-82df-96d24daa4159",
   "metadata": {},
   "outputs": [],
   "source": [
    "info = {\n",
    "    'blood_type': blood_type\n",
    "}"
   ]
  },
  {
   "cell_type": "code",
   "execution_count": 34,
   "id": "e9b3dcc0-dd3d-48d4-a0be-4428425600ef",
   "metadata": {},
   "outputs": [
    {
     "name": "stdout",
     "output_type": "stream",
     "text": [
      "{'blood_type': ['A', 'B', 'O', 'O', 'O', 'A', 'AB', 'A', 'A', 'A', 'B', 'B', 'O', 'O', 'A']}\n"
     ]
    }
   ],
   "source": [
    "print(info)"
   ]
  },
  {
   "cell_type": "code",
   "execution_count": 35,
   "id": "557feee8-a7a8-4482-b7ab-113d34183105",
   "metadata": {},
   "outputs": [
    {
     "name": "stdout",
     "output_type": "stream",
     "text": [
      "{'A': 6, 'B': 3, 'AB': 1, 'O': 5}\n"
     ]
    }
   ],
   "source": [
    "# 강사님 풀이\n",
    "result = {\n",
    "    'A': blood_type.count('A'),\n",
    "    'B': blood_type.count('B'),\n",
    "    'AB': blood_type.count('AB'),\n",
    "    'O': blood_type.count('O'),\n",
    "}\n",
    "\n",
    "# for blood in blood_type:\n",
    "#     result[blood] += 1\n",
    "print(result)"
   ]
  },
  {
   "cell_type": "markdown",
   "id": "73e16588-6649-460c-878f-f02e490a12a3",
   "metadata": {},
   "source": [
    "### 키가 뭔지 모를때\n",
    "```\n",
    "result = {}\n",
    "\n",
    "for location in locations:\n",
    "    if location이 result key 목록에 있으면?:\n",
    "        기존데이터에 +1\n",
    "    else: 목록에 없다면\n",
    "    새로운 키를 등록하고 기본값을 1을 지정\n",
    "```"
   ]
  },
  {
   "cell_type": "code",
   "execution_count": 41,
   "id": "02d568ee-9eac-4204-a322-20142bdadf24",
   "metadata": {},
   "outputs": [
    {
     "name": "stdout",
     "output_type": "stream",
     "text": [
      "{'서울': 2, '대전': 1, '부산': 1, '대구': 1, 'LA': 1}\n"
     ]
    }
   ],
   "source": [
    "locations = ['서울', '서울', '대전', '부산', '대구', 'LA']\n",
    "result = {}\n",
    "\n",
    "for location in locations:\n",
    "    # if location in result.keys():\n",
    "    if result.get(location):\n",
    "        result[location] += 1\n",
    "    else:\n",
    "        result[location] = 1\n",
    "print(result)"
   ]
  },
  {
   "cell_type": "markdown",
   "id": "96c94664-ac4f-44e4-be22-d80d509f888f",
   "metadata": {},
   "source": [
    "### dict comprehension"
   ]
  },
  {
   "cell_type": "code",
   "execution_count": 75,
   "id": "496ab922-ad95-4bf4-bddd-05500a5e4152",
   "metadata": {},
   "outputs": [
    {
     "name": "stdout",
     "output_type": "stream",
     "text": [
      "{1: 1, 2: 8, 3: 27, 4: 64, 5: 125, 6: 216, 7: 343, 8: 512, 9: 729, 10: 1000}\n"
     ]
    }
   ],
   "source": [
    "# {n: n^3, n+1: n+1^3}\n",
    "result = {}\n",
    "numbers = range(1, 11)\n",
    "\n",
    "for number in numbers:\n",
    "    result[number] = number ** 3\n",
    "\n",
    "print(result)"
   ]
  },
  {
   "cell_type": "code",
   "execution_count": 77,
   "id": "443807f9-4a55-4c36-8fea-19cf8d966999",
   "metadata": {},
   "outputs": [
    {
     "name": "stdout",
     "output_type": "stream",
     "text": [
      "{1: 1, 2: 8, 3: 27, 4: 64, 5: 125, 6: 216, 7: 343, 8: 512, 9: 729, 10: 1000}\n"
     ]
    }
   ],
   "source": [
    "result = {number: number ** 3 for number in range(1, 11)}\n",
    "print(result)"
   ]
  },
  {
   "cell_type": "code",
   "execution_count": 46,
   "id": "a969185e-8755-4cad-905c-6504aa55ef25",
   "metadata": {},
   "outputs": [],
   "source": [
    "dust = {\n",
    "    '서울': 50,\n",
    "    '인천': 100,\n",
    "    '수원': 30,\n",
    "    '부산': 0,\n",
    "}"
   ]
  },
  {
   "cell_type": "code",
   "execution_count": 49,
   "id": "6a9fc3e6-daa5-466e-b758-481b6f9af198",
   "metadata": {},
   "outputs": [
    {
     "name": "stdout",
     "output_type": "stream",
     "text": [
      "{'수원': 30, '부산': 0}\n"
     ]
    }
   ],
   "source": [
    "result = {}\n",
    "for k, v in dust.items():\n",
    "    if v <= 30:\n",
    "        result[k] = v\n",
    "print(result)"
   ]
  },
  {
   "cell_type": "code",
   "execution_count": 74,
   "id": "0d811075-47f7-4cf5-ba2a-3d8f019c66cf",
   "metadata": {},
   "outputs": [
    {
     "name": "stdout",
     "output_type": "stream",
     "text": [
      "{'수원': '매우좋음', '부산': '매우좋음'}\n"
     ]
    }
   ],
   "source": [
    "result = {k: '매우좋음' for k, v in dust.items() if v <= 30}\n",
    "print(result)"
   ]
  },
  {
   "cell_type": "markdown",
   "id": "4266b06e-a4dc-4f79-b754-55e12da0fd4b",
   "metadata": {},
   "source": [
    "### Set 메소드"
   ]
  },
  {
   "cell_type": "code",
   "execution_count": 54,
   "id": "ef1a90a7-f8b1-4927-a6d8-8de52b8a6e24",
   "metadata": {},
   "outputs": [],
   "source": [
    "fruits = {'apple', 'banana', 'melon', }"
   ]
  },
  {
   "cell_type": "code",
   "execution_count": 57,
   "id": "4c6cad5f-0f0c-4c95-92d4-31e40166c028",
   "metadata": {},
   "outputs": [
    {
     "name": "stdout",
     "output_type": "stream",
     "text": [
      "{'apple', 'melon', 'banana'}\n"
     ]
    }
   ],
   "source": [
    "print(fruits)"
   ]
  },
  {
   "cell_type": "code",
   "execution_count": 58,
   "id": "b5506128-e26e-4a86-8fb3-c1db5c727efb",
   "metadata": {},
   "outputs": [
    {
     "name": "stdout",
     "output_type": "stream",
     "text": [
      "{'apple', 'melon', 'banana', 'watermelon'}\n"
     ]
    }
   ],
   "source": [
    "fruits.add('watermelon')\n",
    "print(fruits)"
   ]
  },
  {
   "cell_type": "code",
   "execution_count": 59,
   "id": "56d19936-5f3f-40df-ac8e-a21b7640952a",
   "metadata": {},
   "outputs": [
    {
     "name": "stdout",
     "output_type": "stream",
     "text": [
      "{'orange', 'grape', 'apple', 'ggyule', 'melon', 'banana', 'watermelon'}\n"
     ]
    }
   ],
   "source": [
    "fruits.update({'orange', 'grape', 'ggyule', })\n",
    "print(fruits)"
   ]
  },
  {
   "cell_type": "code",
   "execution_count": 60,
   "id": "f2d649b6-e1a6-4fe5-a814-05e544b16248",
   "metadata": {},
   "outputs": [
    {
     "name": "stdout",
     "output_type": "stream",
     "text": [
      "{'orange', 'grape', 'ggyule', 'melon', 'banana', 'watermelon'}\n"
     ]
    }
   ],
   "source": [
    "fruits.remove('apple')\n",
    "print(fruits)"
   ]
  },
  {
   "cell_type": "code",
   "execution_count": 61,
   "id": "03f84070-6472-454f-b4ed-79330066e06e",
   "metadata": {},
   "outputs": [
    {
     "name": "stdout",
     "output_type": "stream",
     "text": [
      "{'grape', 'ggyule', 'melon', 'banana', 'watermelon'}\n"
     ]
    }
   ],
   "source": [
    "fruits.pop() # set는 시퀀스가 아니라서 순서가 없기떄문에 pop는 랜덤하게 제거가 된다\n",
    "print(fruits)"
   ]
  },
  {
   "cell_type": "markdown",
   "id": "833912b3-aed0-46de-98cc-33589f69f80a",
   "metadata": {},
   "source": [
    "## map, filter, zip"
   ]
  },
  {
   "cell_type": "markdown",
   "id": "bae54c8a-9722-438c-8080-a261597ba327",
   "metadata": {},
   "source": [
    "### map (인자가 최소 2개)\n",
    "- map(function, iterable, *iterables)\n",
    "    - iterable : 반복 가능한 객체(like 시퀀스타입)\n",
    "- razy한 연산을 한다. 게으르게 당장 연산하는게 아니라 필요할 때 연산한다."
   ]
  },
  {
   "cell_type": "code",
   "execution_count": 62,
   "id": "5eace6fb-e589-4860-b040-e5dde2c21907",
   "metadata": {},
   "outputs": [
    {
     "name": "stdout",
     "output_type": "stream",
     "text": [
      "['1', '2', '3', '4', '5', '6', '7', '8', '9', '10']\n"
     ]
    }
   ],
   "source": [
    "numbers = range(1, 11)\n",
    "# => ['1', '2', '3', '4', '5', ...]\n",
    "\n",
    "result = []\n",
    "for number in numbers:\n",
    "    result.append(str(number))\n",
    "print(result)"
   ]
  },
  {
   "cell_type": "code",
   "execution_count": 65,
   "id": "a2ffad75-926a-4eaf-9635-a76fbe3ac4d4",
   "metadata": {},
   "outputs": [
    {
     "name": "stdout",
     "output_type": "stream",
     "text": [
      "<map object at 0x000001E357650EE0>\n",
      "['1', '2', '3', '4', '5', '6', '7', '8', '9', '10']\n"
     ]
    }
   ],
   "source": [
    "result = map(str, numbers)\n",
    "print(result) # 임시저장상태로 아직 계산을 한것이 아니다\n",
    "print(list(result)) # list에 넣어주면 사용자가 계산을 실행한것이므로 우리가 원하는 결과가 출력된다"
   ]
  },
  {
   "cell_type": "code",
   "execution_count": 66,
   "id": "367eb484-c199-4a36-95d9-8c426288445b",
   "metadata": {},
   "outputs": [
    {
     "name": "stdout",
     "output_type": "stream",
     "text": [
      "[1, 8, 27, 64, 125, 216, 343, 512, 729, 1000]\n"
     ]
    }
   ],
   "source": [
    "# 리스트의 값마다 세제곱을 한다면 - 1\n",
    "result = []\n",
    "for number in numbers:\n",
    "    result.append(number ** 3)\n",
    "\n",
    "print(result)"
   ]
  },
  {
   "cell_type": "code",
   "execution_count": 68,
   "id": "9017e875-0ab2-4b2b-b0da-3ecc61fe69cb",
   "metadata": {},
   "outputs": [
    {
     "name": "stdout",
     "output_type": "stream",
     "text": [
      "[[1, 8, 27, 64, 125, 216, 343, 512, 729, 1000]]\n"
     ]
    }
   ],
   "source": [
    "# 리스트의 값마다 세제곱을 한다면 - 2\n",
    "def cube(x):\n",
    "    return x ** 3\n",
    "\n",
    "result = [list(map(cube, numbers))]\n",
    "print(result)"
   ]
  },
  {
   "cell_type": "code",
   "execution_count": 70,
   "id": "99e24cdd-c9e8-46a7-a5d0-bec50bcd32d4",
   "metadata": {},
   "outputs": [
    {
     "name": "stdout",
     "output_type": "stream",
     "text": [
      "[1, 3, 5, 7, 9]\n"
     ]
    }
   ],
   "source": [
    "test_input = '1 3 5 7 9'\n",
    "# 1. 띄어쓰기 기준으로 나눈다\n",
    "test_input.split()\n",
    "# 2. 각 글자를 숫자로 바꾼다\n",
    "map(int, test_input.split())\n",
    "# 3. 리스트에 저장한다\n",
    "result = list(map(int, test_input.split()))\n",
    "\n",
    "print(result)"
   ]
  },
  {
   "cell_type": "markdown",
   "id": "3571ef61-f67a-4b76-9f32-5545da37e1ef",
   "metadata": {},
   "source": [
    "### filter 조건에 부합하는(true인 애들만) 애들만 걸러낼 때\n",
    "- filter(function, iterable)"
   ]
  },
  {
   "cell_type": "code",
   "execution_count": 71,
   "id": "91e02d5c-4c8f-4e40-96dd-74ded102dca0",
   "metadata": {},
   "outputs": [],
   "source": [
    "def is_odd(x):\n",
    "    return x % 2"
   ]
  },
  {
   "cell_type": "code",
   "execution_count": 72,
   "id": "a2e91328-66db-40bd-9693-b80cfb2117a0",
   "metadata": {},
   "outputs": [
    {
     "name": "stdout",
     "output_type": "stream",
     "text": [
      "[1, 3, 5]\n"
     ]
    }
   ],
   "source": [
    "numbers = range(1, 7)\n",
    "\n",
    "result = []\n",
    "for number in numbers:\n",
    "    if number % 2 ==1:\n",
    "        result.append(number)\n",
    "print(result)"
   ]
  },
  {
   "cell_type": "code",
   "execution_count": 73,
   "id": "2c291e6a-1e50-41d2-9f7e-0540cf3ee4f3",
   "metadata": {},
   "outputs": [
    {
     "name": "stdout",
     "output_type": "stream",
     "text": [
      "<filter object at 0x000001E3589EAAA0>\n",
      "[1, 3, 5]\n"
     ]
    }
   ],
   "source": [
    "result = filter(is_odd, numbers)\n",
    "print(result)\n",
    "print(list(result))"
   ]
  },
  {
   "cell_type": "markdown",
   "id": "c1382b27-8c0b-4515-99d9-a2f57a86e3ce",
   "metadata": {},
   "source": [
    "### zip\n",
    "- iterable한 객체 두개 이상 나란히 묶어준다"
   ]
  },
  {
   "cell_type": "code",
   "execution_count": 81,
   "id": "18e9c709-b26e-4e03-8418-a1b324a1fa98",
   "metadata": {},
   "outputs": [
    {
     "name": "stdout",
     "output_type": "stream",
     "text": [
      "<zip object at 0x000001E358588600>\n",
      "[(1, 100, 'a'), (2, 200, 'b'), (3, 300, 'c')]\n"
     ]
    }
   ],
   "source": [
    "a = range(1, 4)\n",
    "b = [100, 200, 300, 400]\n",
    "c = ['a', 'b', 'c']\n",
    "\n",
    "result = zip(a, b, c)\n",
    "print(result)\n",
    "print(list(result))"
   ]
  },
  {
   "cell_type": "code",
   "execution_count": null,
   "id": "aa09f6ed-7b60-4224-80b6-41c46aaf2420",
   "metadata": {},
   "outputs": [],
   "source": []
  }
 ],
 "metadata": {
  "kernelspec": {
   "display_name": "Python 3 (ipykernel)",
   "language": "python",
   "name": "python3"
  },
  "language_info": {
   "codemirror_mode": {
    "name": "ipython",
    "version": 3
   },
   "file_extension": ".py",
   "mimetype": "text/x-python",
   "name": "python",
   "nbconvert_exporter": "python",
   "pygments_lexer": "ipython3",
   "version": "3.13.2"
  }
 },
 "nbformat": 4,
 "nbformat_minor": 5
}
